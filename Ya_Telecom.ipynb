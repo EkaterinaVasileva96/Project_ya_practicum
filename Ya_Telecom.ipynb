{
 "cells": [
  {
   "cell_type": "markdown",
   "metadata": {},
   "source": [
    "# Определение перспективного тарифа для телеком-компании"
   ]
  },
  {
   "cell_type": "markdown",
   "metadata": {},
   "source": [
    "Пользователям предлагают два тарифных плана: «Смарт» и «Ультра». Чтобы скорректировать рекламный бюджет, коммерческий департамент хочет понять, какой тариф приносит больше денег. Предстоит сделать предварительный анализ тарифов на небольшой выборке клиентов. Есть данные 500 пользователей «Мегалайна»: кто они, откуда, каким тарифом пользуются, сколько звонков и сообщений каждый отправил за 2018 год. Нужно проанализировать поведение клиентов и сделать вывод — какой тариф лучше."
   ]
  },
  {
   "cell_type": "markdown",
   "metadata": {},
   "source": [
    "***Описание тарифов***<br>\n",
    "<br>\n",
    "**Тариф «Смарт»**<br>\n",
    "Ежемесячная плата: 550 рублей<br>\n",
    "Включено 500 минут разговора, 50 сообщений и 15 Гб интернет-трафика<br>\n",
    "Стоимость услуг сверх тарифного пакета: 1. минута разговора: 3 рубля («Мегалайн» всегда округляет вверх значения минут и мегабайтов. Если пользователь проговорил всего 1 секунду, в тарифе засчитывается целая минута); 2. сообщение: 3 рубля; 3. 1 Гб интернет-трафика: 200 рублей.<br>\n",
    "<br>\n",
    "**Тариф «Ультра»**<br>\n",
    "Ежемесячная плата: 1950 рублей<br>\n",
    "Включено 3000 минут разговора, 1000 сообщений и 30 Гб интернет-трафика<br>\n",
    "Стоимость услуг сверх тарифного пакета: 1. минута разговора: 1 рубль; 2. сообщение: 1 рубль; 3. 1 Гб интернет-трафика: 150 рублей."
   ]
  },
  {
   "cell_type": "markdown",
   "metadata": {},
   "source": [
    "## Изучим общую информацию"
   ]
  },
  {
   "cell_type": "code",
   "execution_count": 1,
   "metadata": {},
   "outputs": [],
   "source": [
    "#Импортируем все необходимы для дальнейшей работы библиотеки\n",
    "import pandas as pd\n",
    "import math\n",
    "import numpy as np\n",
    "import matplotlib.pyplot as plt\n",
    "from scipy import stats as st"
   ]
  },
  {
   "cell_type": "code",
   "execution_count": 2,
   "metadata": {},
   "outputs": [],
   "source": [
    "pd.set_option('display.max_columns', 30)"
   ]
  },
  {
   "cell_type": "code",
   "execution_count": 3,
   "metadata": {},
   "outputs": [
    {
     "data": {
      "text/html": [
       "<div>\n",
       "<style scoped>\n",
       "    .dataframe tbody tr th:only-of-type {\n",
       "        vertical-align: middle;\n",
       "    }\n",
       "\n",
       "    .dataframe tbody tr th {\n",
       "        vertical-align: top;\n",
       "    }\n",
       "\n",
       "    .dataframe thead th {\n",
       "        text-align: right;\n",
       "    }\n",
       "</style>\n",
       "<table border=\"1\" class=\"dataframe\">\n",
       "  <thead>\n",
       "    <tr style=\"text-align: right;\">\n",
       "      <th></th>\n",
       "      <th>id</th>\n",
       "      <th>call_date</th>\n",
       "      <th>duration</th>\n",
       "      <th>user_id</th>\n",
       "    </tr>\n",
       "  </thead>\n",
       "  <tbody>\n",
       "    <tr>\n",
       "      <td>0</td>\n",
       "      <td>1000_0</td>\n",
       "      <td>2018-07-25</td>\n",
       "      <td>0.00</td>\n",
       "      <td>1000</td>\n",
       "    </tr>\n",
       "    <tr>\n",
       "      <td>1</td>\n",
       "      <td>1000_1</td>\n",
       "      <td>2018-08-17</td>\n",
       "      <td>0.00</td>\n",
       "      <td>1000</td>\n",
       "    </tr>\n",
       "    <tr>\n",
       "      <td>2</td>\n",
       "      <td>1000_2</td>\n",
       "      <td>2018-06-11</td>\n",
       "      <td>2.85</td>\n",
       "      <td>1000</td>\n",
       "    </tr>\n",
       "    <tr>\n",
       "      <td>3</td>\n",
       "      <td>1000_3</td>\n",
       "      <td>2018-09-21</td>\n",
       "      <td>13.80</td>\n",
       "      <td>1000</td>\n",
       "    </tr>\n",
       "    <tr>\n",
       "      <td>4</td>\n",
       "      <td>1000_4</td>\n",
       "      <td>2018-12-15</td>\n",
       "      <td>5.18</td>\n",
       "      <td>1000</td>\n",
       "    </tr>\n",
       "    <tr>\n",
       "      <td>5</td>\n",
       "      <td>1000_5</td>\n",
       "      <td>2018-11-02</td>\n",
       "      <td>0.00</td>\n",
       "      <td>1000</td>\n",
       "    </tr>\n",
       "    <tr>\n",
       "      <td>6</td>\n",
       "      <td>1000_6</td>\n",
       "      <td>2018-10-18</td>\n",
       "      <td>0.00</td>\n",
       "      <td>1000</td>\n",
       "    </tr>\n",
       "    <tr>\n",
       "      <td>7</td>\n",
       "      <td>1000_7</td>\n",
       "      <td>2018-08-22</td>\n",
       "      <td>18.31</td>\n",
       "      <td>1000</td>\n",
       "    </tr>\n",
       "    <tr>\n",
       "      <td>8</td>\n",
       "      <td>1000_8</td>\n",
       "      <td>2018-09-15</td>\n",
       "      <td>18.44</td>\n",
       "      <td>1000</td>\n",
       "    </tr>\n",
       "    <tr>\n",
       "      <td>9</td>\n",
       "      <td>1000_9</td>\n",
       "      <td>2018-08-15</td>\n",
       "      <td>0.00</td>\n",
       "      <td>1000</td>\n",
       "    </tr>\n",
       "    <tr>\n",
       "      <td>10</td>\n",
       "      <td>1000_10</td>\n",
       "      <td>2018-08-22</td>\n",
       "      <td>5.03</td>\n",
       "      <td>1000</td>\n",
       "    </tr>\n",
       "    <tr>\n",
       "      <td>11</td>\n",
       "      <td>1000_11</td>\n",
       "      <td>2018-05-28</td>\n",
       "      <td>18.82</td>\n",
       "      <td>1000</td>\n",
       "    </tr>\n",
       "    <tr>\n",
       "      <td>12</td>\n",
       "      <td>1000_12</td>\n",
       "      <td>2018-07-05</td>\n",
       "      <td>2.02</td>\n",
       "      <td>1000</td>\n",
       "    </tr>\n",
       "    <tr>\n",
       "      <td>13</td>\n",
       "      <td>1000_13</td>\n",
       "      <td>2018-09-29</td>\n",
       "      <td>7.15</td>\n",
       "      <td>1000</td>\n",
       "    </tr>\n",
       "    <tr>\n",
       "      <td>14</td>\n",
       "      <td>1000_14</td>\n",
       "      <td>2018-12-11</td>\n",
       "      <td>9.13</td>\n",
       "      <td>1000</td>\n",
       "    </tr>\n",
       "  </tbody>\n",
       "</table>\n",
       "</div>"
      ],
      "text/plain": [
       "         id   call_date  duration  user_id\n",
       "0    1000_0  2018-07-25      0.00     1000\n",
       "1    1000_1  2018-08-17      0.00     1000\n",
       "2    1000_2  2018-06-11      2.85     1000\n",
       "3    1000_3  2018-09-21     13.80     1000\n",
       "4    1000_4  2018-12-15      5.18     1000\n",
       "5    1000_5  2018-11-02      0.00     1000\n",
       "6    1000_6  2018-10-18      0.00     1000\n",
       "7    1000_7  2018-08-22     18.31     1000\n",
       "8    1000_8  2018-09-15     18.44     1000\n",
       "9    1000_9  2018-08-15      0.00     1000\n",
       "10  1000_10  2018-08-22      5.03     1000\n",
       "11  1000_11  2018-05-28     18.82     1000\n",
       "12  1000_12  2018-07-05      2.02     1000\n",
       "13  1000_13  2018-09-29      7.15     1000\n",
       "14  1000_14  2018-12-11      9.13     1000"
      ]
     },
     "execution_count": 3,
     "metadata": {},
     "output_type": "execute_result"
    }
   ],
   "source": [
    "#Открываем и изучаем файл /datasets/calls.csv\n",
    "data_calls = pd.read_csv('/datasets/calls.csv')\n",
    "\n",
    "data_calls.head(15)"
   ]
  },
  {
   "cell_type": "code",
   "execution_count": 4,
   "metadata": {},
   "outputs": [
    {
     "name": "stdout",
     "output_type": "stream",
     "text": [
      "<class 'pandas.core.frame.DataFrame'>\n",
      "RangeIndex: 202607 entries, 0 to 202606\n",
      "Data columns (total 4 columns):\n",
      "id           202607 non-null object\n",
      "call_date    202607 non-null object\n",
      "duration     202607 non-null float64\n",
      "user_id      202607 non-null int64\n",
      "dtypes: float64(1), int64(1), object(2)\n",
      "memory usage: 6.2+ MB\n"
     ]
    }
   ],
   "source": [
    "data_calls.info()"
   ]
  },
  {
   "cell_type": "code",
   "execution_count": 5,
   "metadata": {},
   "outputs": [
    {
     "data": {
      "text/html": [
       "<div>\n",
       "<style scoped>\n",
       "    .dataframe tbody tr th:only-of-type {\n",
       "        vertical-align: middle;\n",
       "    }\n",
       "\n",
       "    .dataframe tbody tr th {\n",
       "        vertical-align: top;\n",
       "    }\n",
       "\n",
       "    .dataframe thead th {\n",
       "        text-align: right;\n",
       "    }\n",
       "</style>\n",
       "<table border=\"1\" class=\"dataframe\">\n",
       "  <thead>\n",
       "    <tr style=\"text-align: right;\">\n",
       "      <th></th>\n",
       "      <th>duration</th>\n",
       "      <th>user_id</th>\n",
       "    </tr>\n",
       "  </thead>\n",
       "  <tbody>\n",
       "    <tr>\n",
       "      <td>count</td>\n",
       "      <td>202607.000000</td>\n",
       "      <td>202607.000000</td>\n",
       "    </tr>\n",
       "    <tr>\n",
       "      <td>mean</td>\n",
       "      <td>6.755887</td>\n",
       "      <td>1253.940619</td>\n",
       "    </tr>\n",
       "    <tr>\n",
       "      <td>std</td>\n",
       "      <td>5.843365</td>\n",
       "      <td>144.722751</td>\n",
       "    </tr>\n",
       "    <tr>\n",
       "      <td>min</td>\n",
       "      <td>0.000000</td>\n",
       "      <td>1000.000000</td>\n",
       "    </tr>\n",
       "    <tr>\n",
       "      <td>25%</td>\n",
       "      <td>1.300000</td>\n",
       "      <td>1126.000000</td>\n",
       "    </tr>\n",
       "    <tr>\n",
       "      <td>50%</td>\n",
       "      <td>6.000000</td>\n",
       "      <td>1260.000000</td>\n",
       "    </tr>\n",
       "    <tr>\n",
       "      <td>75%</td>\n",
       "      <td>10.700000</td>\n",
       "      <td>1379.000000</td>\n",
       "    </tr>\n",
       "    <tr>\n",
       "      <td>max</td>\n",
       "      <td>38.000000</td>\n",
       "      <td>1499.000000</td>\n",
       "    </tr>\n",
       "  </tbody>\n",
       "</table>\n",
       "</div>"
      ],
      "text/plain": [
       "            duration        user_id\n",
       "count  202607.000000  202607.000000\n",
       "mean        6.755887    1253.940619\n",
       "std         5.843365     144.722751\n",
       "min         0.000000    1000.000000\n",
       "25%         1.300000    1126.000000\n",
       "50%         6.000000    1260.000000\n",
       "75%        10.700000    1379.000000\n",
       "max        38.000000    1499.000000"
      ]
     },
     "execution_count": 5,
     "metadata": {},
     "output_type": "execute_result"
    }
   ],
   "source": [
    "data_calls.describe()"
   ]
  },
  {
   "cell_type": "code",
   "execution_count": 6,
   "metadata": {},
   "outputs": [
    {
     "data": {
      "text/html": [
       "<div>\n",
       "<style scoped>\n",
       "    .dataframe tbody tr th:only-of-type {\n",
       "        vertical-align: middle;\n",
       "    }\n",
       "\n",
       "    .dataframe tbody tr th {\n",
       "        vertical-align: top;\n",
       "    }\n",
       "\n",
       "    .dataframe thead th {\n",
       "        text-align: right;\n",
       "    }\n",
       "</style>\n",
       "<table border=\"1\" class=\"dataframe\">\n",
       "  <thead>\n",
       "    <tr style=\"text-align: right;\">\n",
       "      <th></th>\n",
       "      <th>Unnamed: 0</th>\n",
       "      <th>id</th>\n",
       "      <th>mb_used</th>\n",
       "      <th>session_date</th>\n",
       "      <th>user_id</th>\n",
       "    </tr>\n",
       "  </thead>\n",
       "  <tbody>\n",
       "    <tr>\n",
       "      <td>0</td>\n",
       "      <td>0</td>\n",
       "      <td>1000_0</td>\n",
       "      <td>112.95</td>\n",
       "      <td>2018-11-25</td>\n",
       "      <td>1000</td>\n",
       "    </tr>\n",
       "    <tr>\n",
       "      <td>1</td>\n",
       "      <td>1</td>\n",
       "      <td>1000_1</td>\n",
       "      <td>1052.81</td>\n",
       "      <td>2018-09-07</td>\n",
       "      <td>1000</td>\n",
       "    </tr>\n",
       "    <tr>\n",
       "      <td>2</td>\n",
       "      <td>2</td>\n",
       "      <td>1000_2</td>\n",
       "      <td>1197.26</td>\n",
       "      <td>2018-06-25</td>\n",
       "      <td>1000</td>\n",
       "    </tr>\n",
       "    <tr>\n",
       "      <td>3</td>\n",
       "      <td>3</td>\n",
       "      <td>1000_3</td>\n",
       "      <td>550.27</td>\n",
       "      <td>2018-08-22</td>\n",
       "      <td>1000</td>\n",
       "    </tr>\n",
       "    <tr>\n",
       "      <td>4</td>\n",
       "      <td>4</td>\n",
       "      <td>1000_4</td>\n",
       "      <td>302.56</td>\n",
       "      <td>2018-09-24</td>\n",
       "      <td>1000</td>\n",
       "    </tr>\n",
       "    <tr>\n",
       "      <td>5</td>\n",
       "      <td>5</td>\n",
       "      <td>1000_5</td>\n",
       "      <td>399.97</td>\n",
       "      <td>2018-10-02</td>\n",
       "      <td>1000</td>\n",
       "    </tr>\n",
       "    <tr>\n",
       "      <td>6</td>\n",
       "      <td>6</td>\n",
       "      <td>1000_6</td>\n",
       "      <td>540.08</td>\n",
       "      <td>2018-09-07</td>\n",
       "      <td>1000</td>\n",
       "    </tr>\n",
       "    <tr>\n",
       "      <td>7</td>\n",
       "      <td>7</td>\n",
       "      <td>1000_7</td>\n",
       "      <td>415.70</td>\n",
       "      <td>2018-07-11</td>\n",
       "      <td>1000</td>\n",
       "    </tr>\n",
       "    <tr>\n",
       "      <td>8</td>\n",
       "      <td>8</td>\n",
       "      <td>1000_8</td>\n",
       "      <td>505.40</td>\n",
       "      <td>2018-10-08</td>\n",
       "      <td>1000</td>\n",
       "    </tr>\n",
       "    <tr>\n",
       "      <td>9</td>\n",
       "      <td>9</td>\n",
       "      <td>1000_9</td>\n",
       "      <td>345.54</td>\n",
       "      <td>2018-09-03</td>\n",
       "      <td>1000</td>\n",
       "    </tr>\n",
       "    <tr>\n",
       "      <td>10</td>\n",
       "      <td>10</td>\n",
       "      <td>1000_10</td>\n",
       "      <td>385.14</td>\n",
       "      <td>2018-09-27</td>\n",
       "      <td>1000</td>\n",
       "    </tr>\n",
       "    <tr>\n",
       "      <td>11</td>\n",
       "      <td>11</td>\n",
       "      <td>1000_11</td>\n",
       "      <td>0.00</td>\n",
       "      <td>2018-08-28</td>\n",
       "      <td>1000</td>\n",
       "    </tr>\n",
       "    <tr>\n",
       "      <td>12</td>\n",
       "      <td>12</td>\n",
       "      <td>1000_12</td>\n",
       "      <td>375.87</td>\n",
       "      <td>2018-06-20</td>\n",
       "      <td>1000</td>\n",
       "    </tr>\n",
       "    <tr>\n",
       "      <td>13</td>\n",
       "      <td>13</td>\n",
       "      <td>1000_13</td>\n",
       "      <td>393.83</td>\n",
       "      <td>2018-08-09</td>\n",
       "      <td>1000</td>\n",
       "    </tr>\n",
       "    <tr>\n",
       "      <td>14</td>\n",
       "      <td>14</td>\n",
       "      <td>1000_14</td>\n",
       "      <td>180.64</td>\n",
       "      <td>2018-08-11</td>\n",
       "      <td>1000</td>\n",
       "    </tr>\n",
       "  </tbody>\n",
       "</table>\n",
       "</div>"
      ],
      "text/plain": [
       "    Unnamed: 0       id  mb_used session_date  user_id\n",
       "0            0   1000_0   112.95   2018-11-25     1000\n",
       "1            1   1000_1  1052.81   2018-09-07     1000\n",
       "2            2   1000_2  1197.26   2018-06-25     1000\n",
       "3            3   1000_3   550.27   2018-08-22     1000\n",
       "4            4   1000_4   302.56   2018-09-24     1000\n",
       "5            5   1000_5   399.97   2018-10-02     1000\n",
       "6            6   1000_6   540.08   2018-09-07     1000\n",
       "7            7   1000_7   415.70   2018-07-11     1000\n",
       "8            8   1000_8   505.40   2018-10-08     1000\n",
       "9            9   1000_9   345.54   2018-09-03     1000\n",
       "10          10  1000_10   385.14   2018-09-27     1000\n",
       "11          11  1000_11     0.00   2018-08-28     1000\n",
       "12          12  1000_12   375.87   2018-06-20     1000\n",
       "13          13  1000_13   393.83   2018-08-09     1000\n",
       "14          14  1000_14   180.64   2018-08-11     1000"
      ]
     },
     "execution_count": 6,
     "metadata": {},
     "output_type": "execute_result"
    }
   ],
   "source": [
    "#Открываем и изучаем файл /datasets/internet.csv\n",
    "data_internet = pd.read_csv('/datasets/internet.csv')\n",
    "\n",
    "data_internet.head(15)"
   ]
  },
  {
   "cell_type": "code",
   "execution_count": 7,
   "metadata": {},
   "outputs": [
    {
     "name": "stdout",
     "output_type": "stream",
     "text": [
      "<class 'pandas.core.frame.DataFrame'>\n",
      "RangeIndex: 149396 entries, 0 to 149395\n",
      "Data columns (total 5 columns):\n",
      "Unnamed: 0      149396 non-null int64\n",
      "id              149396 non-null object\n",
      "mb_used         149396 non-null float64\n",
      "session_date    149396 non-null object\n",
      "user_id         149396 non-null int64\n",
      "dtypes: float64(1), int64(2), object(2)\n",
      "memory usage: 5.7+ MB\n"
     ]
    }
   ],
   "source": [
    "data_internet.info()"
   ]
  },
  {
   "cell_type": "code",
   "execution_count": 8,
   "metadata": {},
   "outputs": [
    {
     "data": {
      "text/html": [
       "<div>\n",
       "<style scoped>\n",
       "    .dataframe tbody tr th:only-of-type {\n",
       "        vertical-align: middle;\n",
       "    }\n",
       "\n",
       "    .dataframe tbody tr th {\n",
       "        vertical-align: top;\n",
       "    }\n",
       "\n",
       "    .dataframe thead th {\n",
       "        text-align: right;\n",
       "    }\n",
       "</style>\n",
       "<table border=\"1\" class=\"dataframe\">\n",
       "  <thead>\n",
       "    <tr style=\"text-align: right;\">\n",
       "      <th></th>\n",
       "      <th>Unnamed: 0</th>\n",
       "      <th>mb_used</th>\n",
       "      <th>user_id</th>\n",
       "    </tr>\n",
       "  </thead>\n",
       "  <tbody>\n",
       "    <tr>\n",
       "      <td>count</td>\n",
       "      <td>149396.000000</td>\n",
       "      <td>149396.000000</td>\n",
       "      <td>149396.000000</td>\n",
       "    </tr>\n",
       "    <tr>\n",
       "      <td>mean</td>\n",
       "      <td>74697.500000</td>\n",
       "      <td>370.192426</td>\n",
       "      <td>1252.099842</td>\n",
       "    </tr>\n",
       "    <tr>\n",
       "      <td>std</td>\n",
       "      <td>43127.054745</td>\n",
       "      <td>278.300951</td>\n",
       "      <td>144.050823</td>\n",
       "    </tr>\n",
       "    <tr>\n",
       "      <td>min</td>\n",
       "      <td>0.000000</td>\n",
       "      <td>0.000000</td>\n",
       "      <td>1000.000000</td>\n",
       "    </tr>\n",
       "    <tr>\n",
       "      <td>25%</td>\n",
       "      <td>37348.750000</td>\n",
       "      <td>138.187500</td>\n",
       "      <td>1130.000000</td>\n",
       "    </tr>\n",
       "    <tr>\n",
       "      <td>50%</td>\n",
       "      <td>74697.500000</td>\n",
       "      <td>348.015000</td>\n",
       "      <td>1251.000000</td>\n",
       "    </tr>\n",
       "    <tr>\n",
       "      <td>75%</td>\n",
       "      <td>112046.250000</td>\n",
       "      <td>559.552500</td>\n",
       "      <td>1380.000000</td>\n",
       "    </tr>\n",
       "    <tr>\n",
       "      <td>max</td>\n",
       "      <td>149395.000000</td>\n",
       "      <td>1724.830000</td>\n",
       "      <td>1499.000000</td>\n",
       "    </tr>\n",
       "  </tbody>\n",
       "</table>\n",
       "</div>"
      ],
      "text/plain": [
       "          Unnamed: 0        mb_used        user_id\n",
       "count  149396.000000  149396.000000  149396.000000\n",
       "mean    74697.500000     370.192426    1252.099842\n",
       "std     43127.054745     278.300951     144.050823\n",
       "min         0.000000       0.000000    1000.000000\n",
       "25%     37348.750000     138.187500    1130.000000\n",
       "50%     74697.500000     348.015000    1251.000000\n",
       "75%    112046.250000     559.552500    1380.000000\n",
       "max    149395.000000    1724.830000    1499.000000"
      ]
     },
     "execution_count": 8,
     "metadata": {},
     "output_type": "execute_result"
    }
   ],
   "source": [
    "data_internet.describe()"
   ]
  },
  {
   "cell_type": "code",
   "execution_count": 9,
   "metadata": {},
   "outputs": [
    {
     "data": {
      "text/html": [
       "<div>\n",
       "<style scoped>\n",
       "    .dataframe tbody tr th:only-of-type {\n",
       "        vertical-align: middle;\n",
       "    }\n",
       "\n",
       "    .dataframe tbody tr th {\n",
       "        vertical-align: top;\n",
       "    }\n",
       "\n",
       "    .dataframe thead th {\n",
       "        text-align: right;\n",
       "    }\n",
       "</style>\n",
       "<table border=\"1\" class=\"dataframe\">\n",
       "  <thead>\n",
       "    <tr style=\"text-align: right;\">\n",
       "      <th></th>\n",
       "      <th>id</th>\n",
       "      <th>message_date</th>\n",
       "      <th>user_id</th>\n",
       "    </tr>\n",
       "  </thead>\n",
       "  <tbody>\n",
       "    <tr>\n",
       "      <td>0</td>\n",
       "      <td>1000_0</td>\n",
       "      <td>2018-06-27</td>\n",
       "      <td>1000</td>\n",
       "    </tr>\n",
       "    <tr>\n",
       "      <td>1</td>\n",
       "      <td>1000_1</td>\n",
       "      <td>2018-10-08</td>\n",
       "      <td>1000</td>\n",
       "    </tr>\n",
       "    <tr>\n",
       "      <td>2</td>\n",
       "      <td>1000_2</td>\n",
       "      <td>2018-08-04</td>\n",
       "      <td>1000</td>\n",
       "    </tr>\n",
       "    <tr>\n",
       "      <td>3</td>\n",
       "      <td>1000_3</td>\n",
       "      <td>2018-06-16</td>\n",
       "      <td>1000</td>\n",
       "    </tr>\n",
       "    <tr>\n",
       "      <td>4</td>\n",
       "      <td>1000_4</td>\n",
       "      <td>2018-12-05</td>\n",
       "      <td>1000</td>\n",
       "    </tr>\n",
       "    <tr>\n",
       "      <td>5</td>\n",
       "      <td>1000_5</td>\n",
       "      <td>2018-06-20</td>\n",
       "      <td>1000</td>\n",
       "    </tr>\n",
       "    <tr>\n",
       "      <td>6</td>\n",
       "      <td>1000_6</td>\n",
       "      <td>2018-11-19</td>\n",
       "      <td>1000</td>\n",
       "    </tr>\n",
       "    <tr>\n",
       "      <td>7</td>\n",
       "      <td>1000_7</td>\n",
       "      <td>2018-10-29</td>\n",
       "      <td>1000</td>\n",
       "    </tr>\n",
       "    <tr>\n",
       "      <td>8</td>\n",
       "      <td>1000_8</td>\n",
       "      <td>2018-06-25</td>\n",
       "      <td>1000</td>\n",
       "    </tr>\n",
       "    <tr>\n",
       "      <td>9</td>\n",
       "      <td>1000_9</td>\n",
       "      <td>2018-12-18</td>\n",
       "      <td>1000</td>\n",
       "    </tr>\n",
       "    <tr>\n",
       "      <td>10</td>\n",
       "      <td>1000_10</td>\n",
       "      <td>2018-05-30</td>\n",
       "      <td>1000</td>\n",
       "    </tr>\n",
       "    <tr>\n",
       "      <td>11</td>\n",
       "      <td>1000_11</td>\n",
       "      <td>2018-07-06</td>\n",
       "      <td>1000</td>\n",
       "    </tr>\n",
       "    <tr>\n",
       "      <td>12</td>\n",
       "      <td>1000_12</td>\n",
       "      <td>2018-08-20</td>\n",
       "      <td>1000</td>\n",
       "    </tr>\n",
       "    <tr>\n",
       "      <td>13</td>\n",
       "      <td>1000_13</td>\n",
       "      <td>2018-10-30</td>\n",
       "      <td>1000</td>\n",
       "    </tr>\n",
       "    <tr>\n",
       "      <td>14</td>\n",
       "      <td>1000_14</td>\n",
       "      <td>2018-09-14</td>\n",
       "      <td>1000</td>\n",
       "    </tr>\n",
       "  </tbody>\n",
       "</table>\n",
       "</div>"
      ],
      "text/plain": [
       "         id message_date  user_id\n",
       "0    1000_0   2018-06-27     1000\n",
       "1    1000_1   2018-10-08     1000\n",
       "2    1000_2   2018-08-04     1000\n",
       "3    1000_3   2018-06-16     1000\n",
       "4    1000_4   2018-12-05     1000\n",
       "5    1000_5   2018-06-20     1000\n",
       "6    1000_6   2018-11-19     1000\n",
       "7    1000_7   2018-10-29     1000\n",
       "8    1000_8   2018-06-25     1000\n",
       "9    1000_9   2018-12-18     1000\n",
       "10  1000_10   2018-05-30     1000\n",
       "11  1000_11   2018-07-06     1000\n",
       "12  1000_12   2018-08-20     1000\n",
       "13  1000_13   2018-10-30     1000\n",
       "14  1000_14   2018-09-14     1000"
      ]
     },
     "execution_count": 9,
     "metadata": {},
     "output_type": "execute_result"
    }
   ],
   "source": [
    "#Открываем и изучаем файл /datasets/messages.csv\n",
    "data_messages = pd.read_csv('/datasets/messages.csv')\n",
    "\n",
    "data_messages.head(15)"
   ]
  },
  {
   "cell_type": "code",
   "execution_count": 10,
   "metadata": {},
   "outputs": [
    {
     "name": "stdout",
     "output_type": "stream",
     "text": [
      "<class 'pandas.core.frame.DataFrame'>\n",
      "RangeIndex: 123036 entries, 0 to 123035\n",
      "Data columns (total 3 columns):\n",
      "id              123036 non-null object\n",
      "message_date    123036 non-null object\n",
      "user_id         123036 non-null int64\n",
      "dtypes: int64(1), object(2)\n",
      "memory usage: 2.8+ MB\n"
     ]
    }
   ],
   "source": [
    "data_messages.info()"
   ]
  },
  {
   "cell_type": "code",
   "execution_count": 11,
   "metadata": {},
   "outputs": [
    {
     "data": {
      "text/html": [
       "<div>\n",
       "<style scoped>\n",
       "    .dataframe tbody tr th:only-of-type {\n",
       "        vertical-align: middle;\n",
       "    }\n",
       "\n",
       "    .dataframe tbody tr th {\n",
       "        vertical-align: top;\n",
       "    }\n",
       "\n",
       "    .dataframe thead th {\n",
       "        text-align: right;\n",
       "    }\n",
       "</style>\n",
       "<table border=\"1\" class=\"dataframe\">\n",
       "  <thead>\n",
       "    <tr style=\"text-align: right;\">\n",
       "      <th></th>\n",
       "      <th>user_id</th>\n",
       "    </tr>\n",
       "  </thead>\n",
       "  <tbody>\n",
       "    <tr>\n",
       "      <td>count</td>\n",
       "      <td>123036.000000</td>\n",
       "    </tr>\n",
       "    <tr>\n",
       "      <td>mean</td>\n",
       "      <td>1256.989410</td>\n",
       "    </tr>\n",
       "    <tr>\n",
       "      <td>std</td>\n",
       "      <td>143.523967</td>\n",
       "    </tr>\n",
       "    <tr>\n",
       "      <td>min</td>\n",
       "      <td>1000.000000</td>\n",
       "    </tr>\n",
       "    <tr>\n",
       "      <td>25%</td>\n",
       "      <td>1134.000000</td>\n",
       "    </tr>\n",
       "    <tr>\n",
       "      <td>50%</td>\n",
       "      <td>1271.000000</td>\n",
       "    </tr>\n",
       "    <tr>\n",
       "      <td>75%</td>\n",
       "      <td>1381.000000</td>\n",
       "    </tr>\n",
       "    <tr>\n",
       "      <td>max</td>\n",
       "      <td>1499.000000</td>\n",
       "    </tr>\n",
       "  </tbody>\n",
       "</table>\n",
       "</div>"
      ],
      "text/plain": [
       "             user_id\n",
       "count  123036.000000\n",
       "mean     1256.989410\n",
       "std       143.523967\n",
       "min      1000.000000\n",
       "25%      1134.000000\n",
       "50%      1271.000000\n",
       "75%      1381.000000\n",
       "max      1499.000000"
      ]
     },
     "execution_count": 11,
     "metadata": {},
     "output_type": "execute_result"
    }
   ],
   "source": [
    "data_messages.describe()"
   ]
  },
  {
   "cell_type": "code",
   "execution_count": 12,
   "metadata": {},
   "outputs": [
    {
     "data": {
      "text/html": [
       "<div>\n",
       "<style scoped>\n",
       "    .dataframe tbody tr th:only-of-type {\n",
       "        vertical-align: middle;\n",
       "    }\n",
       "\n",
       "    .dataframe tbody tr th {\n",
       "        vertical-align: top;\n",
       "    }\n",
       "\n",
       "    .dataframe thead th {\n",
       "        text-align: right;\n",
       "    }\n",
       "</style>\n",
       "<table border=\"1\" class=\"dataframe\">\n",
       "  <thead>\n",
       "    <tr style=\"text-align: right;\">\n",
       "      <th></th>\n",
       "      <th>messages_included</th>\n",
       "      <th>mb_per_month_included</th>\n",
       "      <th>minutes_included</th>\n",
       "      <th>rub_monthly_fee</th>\n",
       "      <th>rub_per_gb</th>\n",
       "      <th>rub_per_message</th>\n",
       "      <th>rub_per_minute</th>\n",
       "      <th>tariff_name</th>\n",
       "    </tr>\n",
       "  </thead>\n",
       "  <tbody>\n",
       "    <tr>\n",
       "      <td>0</td>\n",
       "      <td>50</td>\n",
       "      <td>15360</td>\n",
       "      <td>500</td>\n",
       "      <td>550</td>\n",
       "      <td>200</td>\n",
       "      <td>3</td>\n",
       "      <td>3</td>\n",
       "      <td>smart</td>\n",
       "    </tr>\n",
       "    <tr>\n",
       "      <td>1</td>\n",
       "      <td>1000</td>\n",
       "      <td>30720</td>\n",
       "      <td>3000</td>\n",
       "      <td>1950</td>\n",
       "      <td>150</td>\n",
       "      <td>1</td>\n",
       "      <td>1</td>\n",
       "      <td>ultra</td>\n",
       "    </tr>\n",
       "  </tbody>\n",
       "</table>\n",
       "</div>"
      ],
      "text/plain": [
       "   messages_included  mb_per_month_included  minutes_included  \\\n",
       "0                 50                  15360               500   \n",
       "1               1000                  30720              3000   \n",
       "\n",
       "   rub_monthly_fee  rub_per_gb  rub_per_message  rub_per_minute tariff_name  \n",
       "0              550         200                3               3       smart  \n",
       "1             1950         150                1               1       ultra  "
      ]
     },
     "execution_count": 12,
     "metadata": {},
     "output_type": "execute_result"
    }
   ],
   "source": [
    "#Открываем и изучаем файл /datasets/tariffs.csv\n",
    "data_traffs = pd.read_csv('/datasets/tariffs.csv')\n",
    "\n",
    "data_traffs.head()"
   ]
  },
  {
   "cell_type": "code",
   "execution_count": 13,
   "metadata": {},
   "outputs": [
    {
     "name": "stdout",
     "output_type": "stream",
     "text": [
      "<class 'pandas.core.frame.DataFrame'>\n",
      "RangeIndex: 2 entries, 0 to 1\n",
      "Data columns (total 8 columns):\n",
      "messages_included        2 non-null int64\n",
      "mb_per_month_included    2 non-null int64\n",
      "minutes_included         2 non-null int64\n",
      "rub_monthly_fee          2 non-null int64\n",
      "rub_per_gb               2 non-null int64\n",
      "rub_per_message          2 non-null int64\n",
      "rub_per_minute           2 non-null int64\n",
      "tariff_name              2 non-null object\n",
      "dtypes: int64(7), object(1)\n",
      "memory usage: 256.0+ bytes\n"
     ]
    }
   ],
   "source": [
    "data_traffs.info()"
   ]
  },
  {
   "cell_type": "code",
   "execution_count": 14,
   "metadata": {},
   "outputs": [
    {
     "data": {
      "text/html": [
       "<div>\n",
       "<style scoped>\n",
       "    .dataframe tbody tr th:only-of-type {\n",
       "        vertical-align: middle;\n",
       "    }\n",
       "\n",
       "    .dataframe tbody tr th {\n",
       "        vertical-align: top;\n",
       "    }\n",
       "\n",
       "    .dataframe thead th {\n",
       "        text-align: right;\n",
       "    }\n",
       "</style>\n",
       "<table border=\"1\" class=\"dataframe\">\n",
       "  <thead>\n",
       "    <tr style=\"text-align: right;\">\n",
       "      <th></th>\n",
       "      <th>messages_included</th>\n",
       "      <th>mb_per_month_included</th>\n",
       "      <th>minutes_included</th>\n",
       "      <th>rub_monthly_fee</th>\n",
       "      <th>rub_per_gb</th>\n",
       "      <th>rub_per_message</th>\n",
       "      <th>rub_per_minute</th>\n",
       "    </tr>\n",
       "  </thead>\n",
       "  <tbody>\n",
       "    <tr>\n",
       "      <td>count</td>\n",
       "      <td>2.000000</td>\n",
       "      <td>2.000000</td>\n",
       "      <td>2.000000</td>\n",
       "      <td>2.000000</td>\n",
       "      <td>2.000000</td>\n",
       "      <td>2.000000</td>\n",
       "      <td>2.000000</td>\n",
       "    </tr>\n",
       "    <tr>\n",
       "      <td>mean</td>\n",
       "      <td>525.000000</td>\n",
       "      <td>23040.000000</td>\n",
       "      <td>1750.000000</td>\n",
       "      <td>1250.000000</td>\n",
       "      <td>175.000000</td>\n",
       "      <td>2.000000</td>\n",
       "      <td>2.000000</td>\n",
       "    </tr>\n",
       "    <tr>\n",
       "      <td>std</td>\n",
       "      <td>671.751442</td>\n",
       "      <td>10861.160159</td>\n",
       "      <td>1767.766953</td>\n",
       "      <td>989.949494</td>\n",
       "      <td>35.355339</td>\n",
       "      <td>1.414214</td>\n",
       "      <td>1.414214</td>\n",
       "    </tr>\n",
       "    <tr>\n",
       "      <td>min</td>\n",
       "      <td>50.000000</td>\n",
       "      <td>15360.000000</td>\n",
       "      <td>500.000000</td>\n",
       "      <td>550.000000</td>\n",
       "      <td>150.000000</td>\n",
       "      <td>1.000000</td>\n",
       "      <td>1.000000</td>\n",
       "    </tr>\n",
       "    <tr>\n",
       "      <td>25%</td>\n",
       "      <td>287.500000</td>\n",
       "      <td>19200.000000</td>\n",
       "      <td>1125.000000</td>\n",
       "      <td>900.000000</td>\n",
       "      <td>162.500000</td>\n",
       "      <td>1.500000</td>\n",
       "      <td>1.500000</td>\n",
       "    </tr>\n",
       "    <tr>\n",
       "      <td>50%</td>\n",
       "      <td>525.000000</td>\n",
       "      <td>23040.000000</td>\n",
       "      <td>1750.000000</td>\n",
       "      <td>1250.000000</td>\n",
       "      <td>175.000000</td>\n",
       "      <td>2.000000</td>\n",
       "      <td>2.000000</td>\n",
       "    </tr>\n",
       "    <tr>\n",
       "      <td>75%</td>\n",
       "      <td>762.500000</td>\n",
       "      <td>26880.000000</td>\n",
       "      <td>2375.000000</td>\n",
       "      <td>1600.000000</td>\n",
       "      <td>187.500000</td>\n",
       "      <td>2.500000</td>\n",
       "      <td>2.500000</td>\n",
       "    </tr>\n",
       "    <tr>\n",
       "      <td>max</td>\n",
       "      <td>1000.000000</td>\n",
       "      <td>30720.000000</td>\n",
       "      <td>3000.000000</td>\n",
       "      <td>1950.000000</td>\n",
       "      <td>200.000000</td>\n",
       "      <td>3.000000</td>\n",
       "      <td>3.000000</td>\n",
       "    </tr>\n",
       "  </tbody>\n",
       "</table>\n",
       "</div>"
      ],
      "text/plain": [
       "       messages_included  mb_per_month_included  minutes_included  \\\n",
       "count           2.000000               2.000000          2.000000   \n",
       "mean          525.000000           23040.000000       1750.000000   \n",
       "std           671.751442           10861.160159       1767.766953   \n",
       "min            50.000000           15360.000000        500.000000   \n",
       "25%           287.500000           19200.000000       1125.000000   \n",
       "50%           525.000000           23040.000000       1750.000000   \n",
       "75%           762.500000           26880.000000       2375.000000   \n",
       "max          1000.000000           30720.000000       3000.000000   \n",
       "\n",
       "       rub_monthly_fee  rub_per_gb  rub_per_message  rub_per_minute  \n",
       "count         2.000000    2.000000         2.000000        2.000000  \n",
       "mean       1250.000000  175.000000         2.000000        2.000000  \n",
       "std         989.949494   35.355339         1.414214        1.414214  \n",
       "min         550.000000  150.000000         1.000000        1.000000  \n",
       "25%         900.000000  162.500000         1.500000        1.500000  \n",
       "50%        1250.000000  175.000000         2.000000        2.000000  \n",
       "75%        1600.000000  187.500000         2.500000        2.500000  \n",
       "max        1950.000000  200.000000         3.000000        3.000000  "
      ]
     },
     "execution_count": 14,
     "metadata": {},
     "output_type": "execute_result"
    }
   ],
   "source": [
    "data_traffs.describe()"
   ]
  },
  {
   "cell_type": "code",
   "execution_count": 15,
   "metadata": {},
   "outputs": [
    {
     "data": {
      "text/html": [
       "<div>\n",
       "<style scoped>\n",
       "    .dataframe tbody tr th:only-of-type {\n",
       "        vertical-align: middle;\n",
       "    }\n",
       "\n",
       "    .dataframe tbody tr th {\n",
       "        vertical-align: top;\n",
       "    }\n",
       "\n",
       "    .dataframe thead th {\n",
       "        text-align: right;\n",
       "    }\n",
       "</style>\n",
       "<table border=\"1\" class=\"dataframe\">\n",
       "  <thead>\n",
       "    <tr style=\"text-align: right;\">\n",
       "      <th></th>\n",
       "      <th>user_id</th>\n",
       "      <th>age</th>\n",
       "      <th>churn_date</th>\n",
       "      <th>city</th>\n",
       "      <th>first_name</th>\n",
       "      <th>last_name</th>\n",
       "      <th>reg_date</th>\n",
       "      <th>tariff</th>\n",
       "    </tr>\n",
       "  </thead>\n",
       "  <tbody>\n",
       "    <tr>\n",
       "      <td>0</td>\n",
       "      <td>1000</td>\n",
       "      <td>52</td>\n",
       "      <td>NaN</td>\n",
       "      <td>Краснодар</td>\n",
       "      <td>Рафаил</td>\n",
       "      <td>Верещагин</td>\n",
       "      <td>2018-05-25</td>\n",
       "      <td>ultra</td>\n",
       "    </tr>\n",
       "    <tr>\n",
       "      <td>1</td>\n",
       "      <td>1001</td>\n",
       "      <td>41</td>\n",
       "      <td>NaN</td>\n",
       "      <td>Москва</td>\n",
       "      <td>Иван</td>\n",
       "      <td>Ежов</td>\n",
       "      <td>2018-11-01</td>\n",
       "      <td>smart</td>\n",
       "    </tr>\n",
       "    <tr>\n",
       "      <td>2</td>\n",
       "      <td>1002</td>\n",
       "      <td>59</td>\n",
       "      <td>NaN</td>\n",
       "      <td>Стерлитамак</td>\n",
       "      <td>Евгений</td>\n",
       "      <td>Абрамович</td>\n",
       "      <td>2018-06-17</td>\n",
       "      <td>smart</td>\n",
       "    </tr>\n",
       "    <tr>\n",
       "      <td>3</td>\n",
       "      <td>1003</td>\n",
       "      <td>23</td>\n",
       "      <td>NaN</td>\n",
       "      <td>Москва</td>\n",
       "      <td>Белла</td>\n",
       "      <td>Белякова</td>\n",
       "      <td>2018-08-17</td>\n",
       "      <td>ultra</td>\n",
       "    </tr>\n",
       "    <tr>\n",
       "      <td>4</td>\n",
       "      <td>1004</td>\n",
       "      <td>68</td>\n",
       "      <td>NaN</td>\n",
       "      <td>Новокузнецк</td>\n",
       "      <td>Татьяна</td>\n",
       "      <td>Авдеенко</td>\n",
       "      <td>2018-05-14</td>\n",
       "      <td>ultra</td>\n",
       "    </tr>\n",
       "    <tr>\n",
       "      <td>5</td>\n",
       "      <td>1005</td>\n",
       "      <td>67</td>\n",
       "      <td>NaN</td>\n",
       "      <td>Набережные Челны</td>\n",
       "      <td>Афанасий</td>\n",
       "      <td>Горлов</td>\n",
       "      <td>2018-01-25</td>\n",
       "      <td>smart</td>\n",
       "    </tr>\n",
       "    <tr>\n",
       "      <td>6</td>\n",
       "      <td>1006</td>\n",
       "      <td>21</td>\n",
       "      <td>NaN</td>\n",
       "      <td>Ульяновск</td>\n",
       "      <td>Леонид</td>\n",
       "      <td>Ермолаев</td>\n",
       "      <td>2018-02-26</td>\n",
       "      <td>smart</td>\n",
       "    </tr>\n",
       "    <tr>\n",
       "      <td>7</td>\n",
       "      <td>1007</td>\n",
       "      <td>65</td>\n",
       "      <td>NaN</td>\n",
       "      <td>Москва</td>\n",
       "      <td>Юна</td>\n",
       "      <td>Березина</td>\n",
       "      <td>2018-04-19</td>\n",
       "      <td>smart</td>\n",
       "    </tr>\n",
       "    <tr>\n",
       "      <td>8</td>\n",
       "      <td>1008</td>\n",
       "      <td>63</td>\n",
       "      <td>NaN</td>\n",
       "      <td>Челябинск</td>\n",
       "      <td>Рустэм</td>\n",
       "      <td>Пономарёв</td>\n",
       "      <td>2018-12-19</td>\n",
       "      <td>smart</td>\n",
       "    </tr>\n",
       "    <tr>\n",
       "      <td>9</td>\n",
       "      <td>1009</td>\n",
       "      <td>24</td>\n",
       "      <td>NaN</td>\n",
       "      <td>Пермь</td>\n",
       "      <td>Василиса</td>\n",
       "      <td>Блинова</td>\n",
       "      <td>2018-03-22</td>\n",
       "      <td>smart</td>\n",
       "    </tr>\n",
       "    <tr>\n",
       "      <td>10</td>\n",
       "      <td>1010</td>\n",
       "      <td>26</td>\n",
       "      <td>NaN</td>\n",
       "      <td>Тюмень</td>\n",
       "      <td>Эдуард</td>\n",
       "      <td>Кононов</td>\n",
       "      <td>2018-08-05</td>\n",
       "      <td>smart</td>\n",
       "    </tr>\n",
       "    <tr>\n",
       "      <td>11</td>\n",
       "      <td>1011</td>\n",
       "      <td>44</td>\n",
       "      <td>NaN</td>\n",
       "      <td>Самара</td>\n",
       "      <td>Веселина</td>\n",
       "      <td>Алёшко</td>\n",
       "      <td>2018-03-19</td>\n",
       "      <td>smart</td>\n",
       "    </tr>\n",
       "    <tr>\n",
       "      <td>12</td>\n",
       "      <td>1012</td>\n",
       "      <td>38</td>\n",
       "      <td>NaN</td>\n",
       "      <td>Санкт-Петербург</td>\n",
       "      <td>Варлам</td>\n",
       "      <td>Соловьев</td>\n",
       "      <td>2018-03-28</td>\n",
       "      <td>smart</td>\n",
       "    </tr>\n",
       "    <tr>\n",
       "      <td>13</td>\n",
       "      <td>1013</td>\n",
       "      <td>36</td>\n",
       "      <td>NaN</td>\n",
       "      <td>Иваново</td>\n",
       "      <td>Борис</td>\n",
       "      <td>Андреенко</td>\n",
       "      <td>2018-11-14</td>\n",
       "      <td>ultra</td>\n",
       "    </tr>\n",
       "    <tr>\n",
       "      <td>14</td>\n",
       "      <td>1014</td>\n",
       "      <td>64</td>\n",
       "      <td>NaN</td>\n",
       "      <td>Чебоксары</td>\n",
       "      <td>Яков</td>\n",
       "      <td>Акинфьев</td>\n",
       "      <td>2018-05-15</td>\n",
       "      <td>smart</td>\n",
       "    </tr>\n",
       "  </tbody>\n",
       "</table>\n",
       "</div>"
      ],
      "text/plain": [
       "    user_id  age churn_date              city first_name  last_name  \\\n",
       "0      1000   52        NaN         Краснодар     Рафаил  Верещагин   \n",
       "1      1001   41        NaN            Москва       Иван       Ежов   \n",
       "2      1002   59        NaN       Стерлитамак    Евгений  Абрамович   \n",
       "3      1003   23        NaN            Москва      Белла   Белякова   \n",
       "4      1004   68        NaN       Новокузнецк    Татьяна   Авдеенко   \n",
       "5      1005   67        NaN  Набережные Челны   Афанасий     Горлов   \n",
       "6      1006   21        NaN         Ульяновск     Леонид   Ермолаев   \n",
       "7      1007   65        NaN            Москва        Юна   Березина   \n",
       "8      1008   63        NaN         Челябинск     Рустэм  Пономарёв   \n",
       "9      1009   24        NaN             Пермь   Василиса    Блинова   \n",
       "10     1010   26        NaN            Тюмень     Эдуард    Кононов   \n",
       "11     1011   44        NaN            Самара   Веселина     Алёшко   \n",
       "12     1012   38        NaN   Санкт-Петербург     Варлам   Соловьев   \n",
       "13     1013   36        NaN           Иваново      Борис  Андреенко   \n",
       "14     1014   64        NaN         Чебоксары       Яков   Акинфьев   \n",
       "\n",
       "      reg_date tariff  \n",
       "0   2018-05-25  ultra  \n",
       "1   2018-11-01  smart  \n",
       "2   2018-06-17  smart  \n",
       "3   2018-08-17  ultra  \n",
       "4   2018-05-14  ultra  \n",
       "5   2018-01-25  smart  \n",
       "6   2018-02-26  smart  \n",
       "7   2018-04-19  smart  \n",
       "8   2018-12-19  smart  \n",
       "9   2018-03-22  smart  \n",
       "10  2018-08-05  smart  \n",
       "11  2018-03-19  smart  \n",
       "12  2018-03-28  smart  \n",
       "13  2018-11-14  ultra  \n",
       "14  2018-05-15  smart  "
      ]
     },
     "execution_count": 15,
     "metadata": {},
     "output_type": "execute_result"
    }
   ],
   "source": [
    "#Открываем и изучаем файл /datasets/users.csv\n",
    "data_users = pd.read_csv('/datasets/users.csv')\n",
    "\n",
    "data_users.head(15)"
   ]
  },
  {
   "cell_type": "code",
   "execution_count": 16,
   "metadata": {},
   "outputs": [
    {
     "name": "stdout",
     "output_type": "stream",
     "text": [
      "<class 'pandas.core.frame.DataFrame'>\n",
      "RangeIndex: 500 entries, 0 to 499\n",
      "Data columns (total 8 columns):\n",
      "user_id       500 non-null int64\n",
      "age           500 non-null int64\n",
      "churn_date    38 non-null object\n",
      "city          500 non-null object\n",
      "first_name    500 non-null object\n",
      "last_name     500 non-null object\n",
      "reg_date      500 non-null object\n",
      "tariff        500 non-null object\n",
      "dtypes: int64(2), object(6)\n",
      "memory usage: 31.4+ KB\n"
     ]
    }
   ],
   "source": [
    "data_users.info()"
   ]
  },
  {
   "cell_type": "code",
   "execution_count": 17,
   "metadata": {},
   "outputs": [
    {
     "data": {
      "text/html": [
       "<div>\n",
       "<style scoped>\n",
       "    .dataframe tbody tr th:only-of-type {\n",
       "        vertical-align: middle;\n",
       "    }\n",
       "\n",
       "    .dataframe tbody tr th {\n",
       "        vertical-align: top;\n",
       "    }\n",
       "\n",
       "    .dataframe thead th {\n",
       "        text-align: right;\n",
       "    }\n",
       "</style>\n",
       "<table border=\"1\" class=\"dataframe\">\n",
       "  <thead>\n",
       "    <tr style=\"text-align: right;\">\n",
       "      <th></th>\n",
       "      <th>user_id</th>\n",
       "      <th>age</th>\n",
       "    </tr>\n",
       "  </thead>\n",
       "  <tbody>\n",
       "    <tr>\n",
       "      <td>count</td>\n",
       "      <td>500.000000</td>\n",
       "      <td>500.00000</td>\n",
       "    </tr>\n",
       "    <tr>\n",
       "      <td>mean</td>\n",
       "      <td>1249.500000</td>\n",
       "      <td>46.58800</td>\n",
       "    </tr>\n",
       "    <tr>\n",
       "      <td>std</td>\n",
       "      <td>144.481833</td>\n",
       "      <td>16.66763</td>\n",
       "    </tr>\n",
       "    <tr>\n",
       "      <td>min</td>\n",
       "      <td>1000.000000</td>\n",
       "      <td>18.00000</td>\n",
       "    </tr>\n",
       "    <tr>\n",
       "      <td>25%</td>\n",
       "      <td>1124.750000</td>\n",
       "      <td>32.00000</td>\n",
       "    </tr>\n",
       "    <tr>\n",
       "      <td>50%</td>\n",
       "      <td>1249.500000</td>\n",
       "      <td>46.00000</td>\n",
       "    </tr>\n",
       "    <tr>\n",
       "      <td>75%</td>\n",
       "      <td>1374.250000</td>\n",
       "      <td>62.00000</td>\n",
       "    </tr>\n",
       "    <tr>\n",
       "      <td>max</td>\n",
       "      <td>1499.000000</td>\n",
       "      <td>75.00000</td>\n",
       "    </tr>\n",
       "  </tbody>\n",
       "</table>\n",
       "</div>"
      ],
      "text/plain": [
       "           user_id        age\n",
       "count   500.000000  500.00000\n",
       "mean   1249.500000   46.58800\n",
       "std     144.481833   16.66763\n",
       "min    1000.000000   18.00000\n",
       "25%    1124.750000   32.00000\n",
       "50%    1249.500000   46.00000\n",
       "75%    1374.250000   62.00000\n",
       "max    1499.000000   75.00000"
      ]
     },
     "execution_count": 17,
     "metadata": {},
     "output_type": "execute_result"
    }
   ],
   "source": [
    "data_users.describe()"
   ]
  },
  {
   "cell_type": "code",
   "execution_count": 18,
   "metadata": {},
   "outputs": [
    {
     "data": {
      "text/plain": [
       "user_id         0\n",
       "age             0\n",
       "churn_date    462\n",
       "city            0\n",
       "first_name      0\n",
       "last_name       0\n",
       "reg_date        0\n",
       "tariff          0\n",
       "dtype: int64"
      ]
     },
     "execution_count": 18,
     "metadata": {},
     "output_type": "execute_result"
    }
   ],
   "source": [
    "#проверяем на пропущенные значения\n",
    "data_users.isna().sum()"
   ]
  },
  {
   "cell_type": "markdown",
   "metadata": {},
   "source": [
    "Только в этом файле были замечены пропущенные значения: в столбце churn_date. Но так как это дата прекращения пользования тарифом, то пропущенное значение означает, что тариф ещё действовал на момент выгрузки данных. (можно будет заменить на 0, чтобы было удобнее представление данных)"
   ]
  },
  {
   "cell_type": "markdown",
   "metadata": {},
   "source": [
    "*Вывод*<br>\n",
    "В таблицах описываются данные пользователей (личная информация о пользователе, данные о звонках, сообщениях и интернет-трафике) и тарифные планы, которые они используют. Пропуски были замечены только в одной таблице, но уже выяснили, что это не ошибка данных. Больше всего стоит обратить внимание на типы данных, необходимо будет привести данные к верному типу, а так же в легкочитаемый вид. <br>\n",
    "Проведем предобработку данных. Так же в таблице о звонках присутствуют нулевые значения - это пропущенные звонки."
   ]
  },
  {
   "cell_type": "markdown",
   "metadata": {},
   "source": [
    "****"
   ]
  },
  {
   "cell_type": "markdown",
   "metadata": {},
   "source": [
    "## Подготовка данных"
   ]
  },
  {
   "cell_type": "markdown",
   "metadata": {},
   "source": [
    "### Предобработка данных"
   ]
  },
  {
   "cell_type": "markdown",
   "metadata": {},
   "source": [
    "*Прежде чем перейти к приведению данных к нужному типу, проверим на наличие отрицательных значений (их быть не должно) и дубликатов:*"
   ]
  },
  {
   "cell_type": "code",
   "execution_count": 19,
   "metadata": {},
   "outputs": [
    {
     "name": "stdout",
     "output_type": "stream",
     "text": [
      "data_calls\n",
      "|duration              | Нет|\n",
      "|user_id               | Нет|\n",
      "data_internet\n",
      "|Unnamed: 0            | Нет|\n",
      "|mb_used               | Нет|\n",
      "|user_id               | Нет|\n",
      "data_messages\n",
      "|user_id               | Нет|\n",
      "data_traffs\n",
      "|messages_included     | Нет|\n",
      "|mb_per_month_included | Нет|\n",
      "|minutes_included      | Нет|\n",
      "|rub_monthly_fee       | Нет|\n",
      "|rub_per_gb            | Нет|\n",
      "|rub_per_message       | Нет|\n",
      "|rub_per_minute        | Нет|\n",
      "data_users\n",
      "|user_id               | Нет|\n",
      "|age                   | Нет|\n"
     ]
    }
   ],
   "source": [
    "#Проверка на отрицательные значения\n",
    "#создадим список с таблицами\n",
    "list_table = [data_calls, data_internet, data_messages, data_traffs, data_users]\n",
    "\n",
    "#создадим список с названиями таблиц\n",
    "list_nametable = ['data_calls', 'data_internet', 'data_messages', 'data_traffs', 'data_users']\n",
    "\n",
    "#применим цикл, перебирающий таблицы из первого списка по индексам\n",
    "for i in range(0, len(list_table)):\n",
    "    print(list_nametable[i])\n",
    "    \n",
    "    #применим цикл, перебирающий названия колонок в индексе\n",
    "    for column_name in list_table[i].dtypes.index:\n",
    "        \n",
    "        #если данные для колонки соответствуют int или float, то применим проверку на отрицательные значения\n",
    "        if list_table[i][column_name].dtypes == 'int64' or list_table[i][column_name].dtypes == 'float64':\n",
    "            if list_table[i][list_table[i][column_name] < 0][column_name].count() > 0:\n",
    "                print ('|{: <22}|{: >4}|'.format(column_name, 'Есть'))\n",
    "            else:\n",
    "                print('|{: <22}|{: >4}|'.format(column_name, 'Нет'))"
   ]
  },
  {
   "cell_type": "markdown",
   "metadata": {},
   "source": [
    "Отрицательных значений не обнаружено. Переходим к проверке на дубликаты."
   ]
  },
  {
   "cell_type": "code",
   "execution_count": 20,
   "metadata": {},
   "outputs": [
    {
     "name": "stdout",
     "output_type": "stream",
     "text": [
      "|data_calls  |            Нет|\n",
      "|data_internet|            Нет|\n",
      "|data_messages|            Нет|\n",
      "|data_traffs |            Нет|\n",
      "|data_users  |            Нет|\n"
     ]
    }
   ],
   "source": [
    "#так же с помощью списов проверим наличие дубликатов в данных\n",
    "for i in range(0, len(list_table)):\n",
    "    if list_table[i].duplicated().sum() == 0:\n",
    "        print('|{: <12}|{: >15}|'.format(list_nametable[i], 'Нет'))\n",
    "    elif list_tables[i].duplicated().sum() != 0:\n",
    "        print('|{: <12}|{: >15}|'.format(list_nametable[i], 'Есть'))"
   ]
  },
  {
   "cell_type": "markdown",
   "metadata": {},
   "source": [
    "*Мы убедились, что дубликаты и отрицательные значения отсутствую. Теперь займемся приведение данных к нужным типам*"
   ]
  },
  {
   "cell_type": "code",
   "execution_count": 21,
   "metadata": {},
   "outputs": [
    {
     "name": "stdout",
     "output_type": "stream",
     "text": [
      "<class 'pandas.core.frame.DataFrame'>\n",
      "RangeIndex: 202607 entries, 0 to 202606\n",
      "Data columns (total 4 columns):\n",
      "id           202607 non-null object\n",
      "call_date    202607 non-null datetime64[ns]\n",
      "duration     202607 non-null float64\n",
      "user_id      202607 non-null int64\n",
      "dtypes: datetime64[ns](1), float64(1), int64(1), object(1)\n",
      "memory usage: 6.2+ MB\n"
     ]
    }
   ],
   "source": [
    "#В data_calls приведем столбец с датами к типу datetime\n",
    "data_calls['call_date'] = pd.to_datetime(data_calls['call_date'], format='%Y-%m-%d')\n",
    "data_calls.info()"
   ]
  },
  {
   "cell_type": "code",
   "execution_count": 22,
   "metadata": {},
   "outputs": [
    {
     "name": "stdout",
     "output_type": "stream",
     "text": [
      "<class 'pandas.core.frame.DataFrame'>\n",
      "RangeIndex: 149396 entries, 0 to 149395\n",
      "Data columns (total 5 columns):\n",
      "Unnamed: 0      149396 non-null int64\n",
      "id              149396 non-null object\n",
      "mb_used         149396 non-null float64\n",
      "session_date    149396 non-null datetime64[ns]\n",
      "user_id         149396 non-null int64\n",
      "dtypes: datetime64[ns](1), float64(1), int64(2), object(1)\n",
      "memory usage: 5.7+ MB\n"
     ]
    }
   ],
   "source": [
    "#в data_internet приведем так же колонку с датами к нужному нам типу\n",
    "data_internet['session_date'] = pd.to_datetime(data_internet['session_date'], format='%Y-%m-%d')\n",
    "data_internet.info()"
   ]
  },
  {
   "cell_type": "code",
   "execution_count": 23,
   "metadata": {},
   "outputs": [
    {
     "name": "stdout",
     "output_type": "stream",
     "text": [
      "<class 'pandas.core.frame.DataFrame'>\n",
      "RangeIndex: 123036 entries, 0 to 123035\n",
      "Data columns (total 3 columns):\n",
      "id              123036 non-null object\n",
      "message_date    123036 non-null datetime64[ns]\n",
      "user_id         123036 non-null int64\n",
      "dtypes: datetime64[ns](1), int64(1), object(1)\n",
      "memory usage: 2.8+ MB\n"
     ]
    }
   ],
   "source": [
    "#в data_message приведем так же колонку с датами к нужному нам типу\n",
    "data_messages['message_date'] = pd.to_datetime(data_messages['message_date'], format='%Y-%m-%d')\n",
    "data_messages.info()"
   ]
  },
  {
   "cell_type": "code",
   "execution_count": 25,
   "metadata": {},
   "outputs": [
    {
     "name": "stdout",
     "output_type": "stream",
     "text": [
      "<class 'pandas.core.frame.DataFrame'>\n",
      "RangeIndex: 500 entries, 0 to 499\n",
      "Data columns (total 8 columns):\n",
      "user_id       500 non-null int64\n",
      "age           500 non-null int64\n",
      "churn_date    38 non-null datetime64[ns]\n",
      "city          500 non-null object\n",
      "first_name    500 non-null object\n",
      "last_name     500 non-null object\n",
      "reg_date      500 non-null datetime64[ns]\n",
      "tariff        500 non-null object\n",
      "dtypes: datetime64[ns](2), int64(2), object(4)\n",
      "memory usage: 31.4+ KB\n"
     ]
    }
   ],
   "source": [
    "#в data_users приведем так же колонки с датами к нужному нам типу\n",
    "data_users['reg_date'] = pd.to_datetime(data_users['reg_date'], format='%Y-%m-%d')\n",
    "data_users['churn_date'] = pd.to_datetime(data_users['churn_date'], format='%Y-%m-%d')\n",
    "data_users.info()"
   ]
  },
  {
   "cell_type": "markdown",
   "metadata": {},
   "source": [
    "В data_traffs нет значений, которые нужно было бы приводить их к определенному типу."
   ]
  },
  {
   "cell_type": "markdown",
   "metadata": {},
   "source": [
    "****"
   ]
  },
  {
   "cell_type": "markdown",
   "metadata": {},
   "source": [
    "***Проверим на наличе ошибок***"
   ]
  },
  {
   "cell_type": "code",
   "execution_count": 26,
   "metadata": {},
   "outputs": [
    {
     "name": "stdout",
     "output_type": "stream",
     "text": [
      "<class 'pandas.core.frame.DataFrame'>\n",
      "RangeIndex: 149396 entries, 0 to 149395\n",
      "Data columns (total 4 columns):\n",
      "id              149396 non-null object\n",
      "mb_used         149396 non-null float64\n",
      "session_date    149396 non-null datetime64[ns]\n",
      "user_id         149396 non-null int64\n",
      "dtypes: datetime64[ns](1), float64(1), int64(1), object(1)\n",
      "memory usage: 4.6+ MB\n"
     ]
    }
   ],
   "source": [
    "#в таблице df_internet нам попался столбец Unnamed 0, который повтоярет индексы строк\n",
    "#Удалим его\n",
    "del data_internet['Unnamed: 0']\n",
    "\n",
    "data_internet.info()"
   ]
  },
  {
   "cell_type": "code",
   "execution_count": 27,
   "metadata": {},
   "outputs": [
    {
     "data": {
      "text/plain": [
       "39613"
      ]
     },
     "execution_count": 27,
     "metadata": {},
     "output_type": "execute_result"
    }
   ],
   "source": [
    "#посчитаем количество нулевых значений столба duration в data_calls\n",
    "data_calls[data_calls['duration']==0]['duration'].count()"
   ]
  },
  {
   "cell_type": "markdown",
   "metadata": {},
   "source": [
    "Почти 20% данных - нулевые значения, то есть пропущенные звонки. Соответственно это не является ошибкой, ликвидировать ее нет необходимости."
   ]
  },
  {
   "cell_type": "markdown",
   "metadata": {},
   "source": [
    "### Вычисление параметров для каждого пользователя"
   ]
  },
  {
   "cell_type": "markdown",
   "metadata": {},
   "source": [
    "Для каждого пользователя нужно посчитать следующие параметры:<br>\n",
    "- количество сделанных звонков и израсходованных минут разговора по месяцам;<br>\n",
    "- количество отправленных сообщений по месяцам;<br>\n",
    "- объем израсходованного интернет-трафика по месяцам;<br>\n",
    "- помесячную выручку с каждого пользователя.<br>"
   ]
  },
  {
   "cell_type": "markdown",
   "metadata": {},
   "source": [
    "*Для более удобной дальнейшей группировки добавим в каждую таблицу столбец month, так как стоимость тарифа расчитывается именно за месяц.*"
   ]
  },
  {
   "cell_type": "code",
   "execution_count": 28,
   "metadata": {},
   "outputs": [
    {
     "data": {
      "text/html": [
       "<div>\n",
       "<style scoped>\n",
       "    .dataframe tbody tr th:only-of-type {\n",
       "        vertical-align: middle;\n",
       "    }\n",
       "\n",
       "    .dataframe tbody tr th {\n",
       "        vertical-align: top;\n",
       "    }\n",
       "\n",
       "    .dataframe thead th {\n",
       "        text-align: right;\n",
       "    }\n",
       "</style>\n",
       "<table border=\"1\" class=\"dataframe\">\n",
       "  <thead>\n",
       "    <tr style=\"text-align: right;\">\n",
       "      <th></th>\n",
       "      <th>id</th>\n",
       "      <th>call_date</th>\n",
       "      <th>duration</th>\n",
       "      <th>user_id</th>\n",
       "      <th>month</th>\n",
       "    </tr>\n",
       "  </thead>\n",
       "  <tbody>\n",
       "    <tr>\n",
       "      <td>0</td>\n",
       "      <td>1000_0</td>\n",
       "      <td>2018-07-25</td>\n",
       "      <td>0.00</td>\n",
       "      <td>1000</td>\n",
       "      <td>7</td>\n",
       "    </tr>\n",
       "    <tr>\n",
       "      <td>1</td>\n",
       "      <td>1000_1</td>\n",
       "      <td>2018-08-17</td>\n",
       "      <td>0.00</td>\n",
       "      <td>1000</td>\n",
       "      <td>8</td>\n",
       "    </tr>\n",
       "    <tr>\n",
       "      <td>2</td>\n",
       "      <td>1000_2</td>\n",
       "      <td>2018-06-11</td>\n",
       "      <td>2.85</td>\n",
       "      <td>1000</td>\n",
       "      <td>6</td>\n",
       "    </tr>\n",
       "    <tr>\n",
       "      <td>3</td>\n",
       "      <td>1000_3</td>\n",
       "      <td>2018-09-21</td>\n",
       "      <td>13.80</td>\n",
       "      <td>1000</td>\n",
       "      <td>9</td>\n",
       "    </tr>\n",
       "    <tr>\n",
       "      <td>4</td>\n",
       "      <td>1000_4</td>\n",
       "      <td>2018-12-15</td>\n",
       "      <td>5.18</td>\n",
       "      <td>1000</td>\n",
       "      <td>12</td>\n",
       "    </tr>\n",
       "  </tbody>\n",
       "</table>\n",
       "</div>"
      ],
      "text/plain": [
       "       id  call_date  duration  user_id  month\n",
       "0  1000_0 2018-07-25      0.00     1000      7\n",
       "1  1000_1 2018-08-17      0.00     1000      8\n",
       "2  1000_2 2018-06-11      2.85     1000      6\n",
       "3  1000_3 2018-09-21     13.80     1000      9\n",
       "4  1000_4 2018-12-15      5.18     1000     12"
      ]
     },
     "execution_count": 28,
     "metadata": {},
     "output_type": "execute_result"
    }
   ],
   "source": [
    "#нам нужны данные только о звонках, сообщениях и трафике, \n",
    "#поэтому добавляем столбец month только в таблицы data_calls, data_internet и data_messages\n",
    "\n",
    "data_calls['month'] = data_calls['call_date'].dt.month\n",
    "data_internet['month'] = data_internet['session_date'].dt.month\n",
    "data_messages['month'] = data_messages['message_date'].dt.month\n",
    "\n",
    "data_calls.head()"
   ]
  },
  {
   "cell_type": "code",
   "execution_count": 29,
   "metadata": {},
   "outputs": [
    {
     "data": {
      "text/html": [
       "<div>\n",
       "<style scoped>\n",
       "    .dataframe tbody tr th:only-of-type {\n",
       "        vertical-align: middle;\n",
       "    }\n",
       "\n",
       "    .dataframe tbody tr th {\n",
       "        vertical-align: top;\n",
       "    }\n",
       "\n",
       "    .dataframe thead th {\n",
       "        text-align: right;\n",
       "    }\n",
       "</style>\n",
       "<table border=\"1\" class=\"dataframe\">\n",
       "  <thead>\n",
       "    <tr style=\"text-align: right;\">\n",
       "      <th></th>\n",
       "      <th>id</th>\n",
       "      <th>mb_used</th>\n",
       "      <th>session_date</th>\n",
       "      <th>user_id</th>\n",
       "      <th>month</th>\n",
       "    </tr>\n",
       "  </thead>\n",
       "  <tbody>\n",
       "    <tr>\n",
       "      <td>0</td>\n",
       "      <td>1000_0</td>\n",
       "      <td>112.95</td>\n",
       "      <td>2018-11-25</td>\n",
       "      <td>1000</td>\n",
       "      <td>11</td>\n",
       "    </tr>\n",
       "    <tr>\n",
       "      <td>1</td>\n",
       "      <td>1000_1</td>\n",
       "      <td>1052.81</td>\n",
       "      <td>2018-09-07</td>\n",
       "      <td>1000</td>\n",
       "      <td>9</td>\n",
       "    </tr>\n",
       "    <tr>\n",
       "      <td>2</td>\n",
       "      <td>1000_2</td>\n",
       "      <td>1197.26</td>\n",
       "      <td>2018-06-25</td>\n",
       "      <td>1000</td>\n",
       "      <td>6</td>\n",
       "    </tr>\n",
       "    <tr>\n",
       "      <td>3</td>\n",
       "      <td>1000_3</td>\n",
       "      <td>550.27</td>\n",
       "      <td>2018-08-22</td>\n",
       "      <td>1000</td>\n",
       "      <td>8</td>\n",
       "    </tr>\n",
       "    <tr>\n",
       "      <td>4</td>\n",
       "      <td>1000_4</td>\n",
       "      <td>302.56</td>\n",
       "      <td>2018-09-24</td>\n",
       "      <td>1000</td>\n",
       "      <td>9</td>\n",
       "    </tr>\n",
       "  </tbody>\n",
       "</table>\n",
       "</div>"
      ],
      "text/plain": [
       "       id  mb_used session_date  user_id  month\n",
       "0  1000_0   112.95   2018-11-25     1000     11\n",
       "1  1000_1  1052.81   2018-09-07     1000      9\n",
       "2  1000_2  1197.26   2018-06-25     1000      6\n",
       "3  1000_3   550.27   2018-08-22     1000      8\n",
       "4  1000_4   302.56   2018-09-24     1000      9"
      ]
     },
     "execution_count": 29,
     "metadata": {},
     "output_type": "execute_result"
    }
   ],
   "source": [
    "data_internet.head()"
   ]
  },
  {
   "cell_type": "code",
   "execution_count": 30,
   "metadata": {},
   "outputs": [
    {
     "data": {
      "text/html": [
       "<div>\n",
       "<style scoped>\n",
       "    .dataframe tbody tr th:only-of-type {\n",
       "        vertical-align: middle;\n",
       "    }\n",
       "\n",
       "    .dataframe tbody tr th {\n",
       "        vertical-align: top;\n",
       "    }\n",
       "\n",
       "    .dataframe thead th {\n",
       "        text-align: right;\n",
       "    }\n",
       "</style>\n",
       "<table border=\"1\" class=\"dataframe\">\n",
       "  <thead>\n",
       "    <tr style=\"text-align: right;\">\n",
       "      <th></th>\n",
       "      <th>id</th>\n",
       "      <th>message_date</th>\n",
       "      <th>user_id</th>\n",
       "      <th>month</th>\n",
       "    </tr>\n",
       "  </thead>\n",
       "  <tbody>\n",
       "    <tr>\n",
       "      <td>0</td>\n",
       "      <td>1000_0</td>\n",
       "      <td>2018-06-27</td>\n",
       "      <td>1000</td>\n",
       "      <td>6</td>\n",
       "    </tr>\n",
       "    <tr>\n",
       "      <td>1</td>\n",
       "      <td>1000_1</td>\n",
       "      <td>2018-10-08</td>\n",
       "      <td>1000</td>\n",
       "      <td>10</td>\n",
       "    </tr>\n",
       "    <tr>\n",
       "      <td>2</td>\n",
       "      <td>1000_2</td>\n",
       "      <td>2018-08-04</td>\n",
       "      <td>1000</td>\n",
       "      <td>8</td>\n",
       "    </tr>\n",
       "    <tr>\n",
       "      <td>3</td>\n",
       "      <td>1000_3</td>\n",
       "      <td>2018-06-16</td>\n",
       "      <td>1000</td>\n",
       "      <td>6</td>\n",
       "    </tr>\n",
       "    <tr>\n",
       "      <td>4</td>\n",
       "      <td>1000_4</td>\n",
       "      <td>2018-12-05</td>\n",
       "      <td>1000</td>\n",
       "      <td>12</td>\n",
       "    </tr>\n",
       "  </tbody>\n",
       "</table>\n",
       "</div>"
      ],
      "text/plain": [
       "       id message_date  user_id  month\n",
       "0  1000_0   2018-06-27     1000      6\n",
       "1  1000_1   2018-10-08     1000     10\n",
       "2  1000_2   2018-08-04     1000      8\n",
       "3  1000_3   2018-06-16     1000      6\n",
       "4  1000_4   2018-12-05     1000     12"
      ]
     },
     "execution_count": 30,
     "metadata": {},
     "output_type": "execute_result"
    }
   ],
   "source": [
    "data_messages.head()"
   ]
  },
  {
   "cell_type": "markdown",
   "metadata": {},
   "source": [
    "****"
   ]
  },
  {
   "cell_type": "markdown",
   "metadata": {},
   "source": [
    "*С помощью сводных таблиц расчитаем заданные нам параметры. Данные будем группировать по month и user_id*"
   ]
  },
  {
   "cell_type": "code",
   "execution_count": 32,
   "metadata": {},
   "outputs": [
    {
     "data": {
      "text/html": [
       "<div>\n",
       "<style scoped>\n",
       "    .dataframe tbody tr th:only-of-type {\n",
       "        vertical-align: middle;\n",
       "    }\n",
       "\n",
       "    .dataframe tbody tr th {\n",
       "        vertical-align: top;\n",
       "    }\n",
       "\n",
       "    .dataframe thead th {\n",
       "        text-align: right;\n",
       "    }\n",
       "</style>\n",
       "<table border=\"1\" class=\"dataframe\">\n",
       "  <thead>\n",
       "    <tr style=\"text-align: right;\">\n",
       "      <th></th>\n",
       "      <th></th>\n",
       "      <th>calls_count</th>\n",
       "      <th>calls_duration</th>\n",
       "    </tr>\n",
       "    <tr>\n",
       "      <th>user_id</th>\n",
       "      <th>month</th>\n",
       "      <th></th>\n",
       "      <th></th>\n",
       "    </tr>\n",
       "  </thead>\n",
       "  <tbody>\n",
       "    <tr>\n",
       "      <td rowspan=\"5\" valign=\"top\">1000</td>\n",
       "      <td>5</td>\n",
       "      <td>22</td>\n",
       "      <td>151.0</td>\n",
       "    </tr>\n",
       "    <tr>\n",
       "      <td>6</td>\n",
       "      <td>43</td>\n",
       "      <td>159.0</td>\n",
       "    </tr>\n",
       "    <tr>\n",
       "      <td>7</td>\n",
       "      <td>47</td>\n",
       "      <td>319.0</td>\n",
       "    </tr>\n",
       "    <tr>\n",
       "      <td>8</td>\n",
       "      <td>52</td>\n",
       "      <td>390.0</td>\n",
       "    </tr>\n",
       "    <tr>\n",
       "      <td>9</td>\n",
       "      <td>58</td>\n",
       "      <td>441.0</td>\n",
       "    </tr>\n",
       "  </tbody>\n",
       "</table>\n",
       "</div>"
      ],
      "text/plain": [
       "               calls_count  calls_duration\n",
       "user_id month                             \n",
       "1000    5               22           151.0\n",
       "        6               43           159.0\n",
       "        7               47           319.0\n",
       "        8               52           390.0\n",
       "        9               58           441.0"
      ]
     },
     "execution_count": 32,
     "metadata": {},
     "output_type": "execute_result"
    }
   ],
   "source": [
    "#составляем сводную таблицу по звонкам\n",
    "data_calls_pivot = data_calls.pivot_table(index=['user_id','month'], aggfunc={'call_date':'count', 'duration':sum})\n",
    "\n",
    "#названия колонок обозначим как calls_count - количество звонков, calls_duration - длительность разговора\n",
    "data_calls_pivot.columns = ['calls_count', 'calls_duration']\n",
    "\n",
    "#Округляем значения в большую сторону\n",
    "data_calls_pivot['calls_duration'] = np.ceil(data_calls_pivot['calls_duration'])\n",
    "\n",
    "data_calls_pivot.head()"
   ]
  },
  {
   "cell_type": "code",
   "execution_count": 33,
   "metadata": {},
   "outputs": [
    {
     "data": {
      "text/html": [
       "<div>\n",
       "<style scoped>\n",
       "    .dataframe tbody tr th:only-of-type {\n",
       "        vertical-align: middle;\n",
       "    }\n",
       "\n",
       "    .dataframe tbody tr th {\n",
       "        vertical-align: top;\n",
       "    }\n",
       "\n",
       "    .dataframe thead th {\n",
       "        text-align: right;\n",
       "    }\n",
       "</style>\n",
       "<table border=\"1\" class=\"dataframe\">\n",
       "  <thead>\n",
       "    <tr style=\"text-align: right;\">\n",
       "      <th></th>\n",
       "      <th></th>\n",
       "      <th>messages_count</th>\n",
       "    </tr>\n",
       "    <tr>\n",
       "      <th>user_id</th>\n",
       "      <th>month</th>\n",
       "      <th></th>\n",
       "    </tr>\n",
       "  </thead>\n",
       "  <tbody>\n",
       "    <tr>\n",
       "      <td rowspan=\"5\" valign=\"top\">1000</td>\n",
       "      <td>5</td>\n",
       "      <td>22</td>\n",
       "    </tr>\n",
       "    <tr>\n",
       "      <td>6</td>\n",
       "      <td>60</td>\n",
       "    </tr>\n",
       "    <tr>\n",
       "      <td>7</td>\n",
       "      <td>75</td>\n",
       "    </tr>\n",
       "    <tr>\n",
       "      <td>8</td>\n",
       "      <td>81</td>\n",
       "    </tr>\n",
       "    <tr>\n",
       "      <td>9</td>\n",
       "      <td>57</td>\n",
       "    </tr>\n",
       "  </tbody>\n",
       "</table>\n",
       "</div>"
      ],
      "text/plain": [
       "               messages_count\n",
       "user_id month                \n",
       "1000    5                  22\n",
       "        6                  60\n",
       "        7                  75\n",
       "        8                  81\n",
       "        9                  57"
      ]
     },
     "execution_count": 33,
     "metadata": {},
     "output_type": "execute_result"
    }
   ],
   "source": [
    "#составляем сводную таблицу по сообщениям\n",
    "data_messages_pivot = data_messages.pivot_table(index=['user_id','month'], aggfunc={'id':'count'})\n",
    "\n",
    "#названия колонок обозначим как messages_count - количество сообщений\n",
    "data_messages_pivot.columns = ['messages_count']\n",
    "data_messages_pivot.head()"
   ]
  },
  {
   "cell_type": "code",
   "execution_count": 34,
   "metadata": {},
   "outputs": [
    {
     "data": {
      "text/html": [
       "<div>\n",
       "<style scoped>\n",
       "    .dataframe tbody tr th:only-of-type {\n",
       "        vertical-align: middle;\n",
       "    }\n",
       "\n",
       "    .dataframe tbody tr th {\n",
       "        vertical-align: top;\n",
       "    }\n",
       "\n",
       "    .dataframe thead th {\n",
       "        text-align: right;\n",
       "    }\n",
       "</style>\n",
       "<table border=\"1\" class=\"dataframe\">\n",
       "  <thead>\n",
       "    <tr style=\"text-align: right;\">\n",
       "      <th></th>\n",
       "      <th></th>\n",
       "      <th>traffic_volume</th>\n",
       "    </tr>\n",
       "    <tr>\n",
       "      <th>user_id</th>\n",
       "      <th>month</th>\n",
       "      <th></th>\n",
       "    </tr>\n",
       "  </thead>\n",
       "  <tbody>\n",
       "    <tr>\n",
       "      <td rowspan=\"5\" valign=\"top\">1000</td>\n",
       "      <td>5</td>\n",
       "      <td>2254.0</td>\n",
       "    </tr>\n",
       "    <tr>\n",
       "      <td>6</td>\n",
       "      <td>23234.0</td>\n",
       "    </tr>\n",
       "    <tr>\n",
       "      <td>7</td>\n",
       "      <td>14004.0</td>\n",
       "    </tr>\n",
       "    <tr>\n",
       "      <td>8</td>\n",
       "      <td>14056.0</td>\n",
       "    </tr>\n",
       "    <tr>\n",
       "      <td>9</td>\n",
       "      <td>14569.0</td>\n",
       "    </tr>\n",
       "  </tbody>\n",
       "</table>\n",
       "</div>"
      ],
      "text/plain": [
       "               traffic_volume\n",
       "user_id month                \n",
       "1000    5              2254.0\n",
       "        6             23234.0\n",
       "        7             14004.0\n",
       "        8             14056.0\n",
       "        9             14569.0"
      ]
     },
     "execution_count": 34,
     "metadata": {},
     "output_type": "execute_result"
    }
   ],
   "source": [
    "#составляем сводную таблицу по траффику\n",
    "data_internet_pivot = data_internet.pivot_table(index=['user_id','month'], aggfunc={'mb_used':sum})\n",
    "\n",
    "#названия колонок обозначим как traffic_volume - объем траффика\n",
    "data_internet_pivot.columns = ['traffic_volume']\n",
    "\n",
    "#Округляем значения в большую сторону\n",
    "data_internet_pivot['traffic_volume'] = np.ceil(data_internet_pivot['traffic_volume'])\n",
    "\n",
    "data_internet_pivot.head()"
   ]
  },
  {
   "cell_type": "markdown",
   "metadata": {},
   "source": [
    "****"
   ]
  },
  {
   "cell_type": "markdown",
   "metadata": {},
   "source": [
    "*Посчитаем выручку с каждого пользователя*"
   ]
  },
  {
   "cell_type": "code",
   "execution_count": 35,
   "metadata": {},
   "outputs": [
    {
     "data": {
      "text/html": [
       "<div>\n",
       "<style scoped>\n",
       "    .dataframe tbody tr th:only-of-type {\n",
       "        vertical-align: middle;\n",
       "    }\n",
       "\n",
       "    .dataframe tbody tr th {\n",
       "        vertical-align: top;\n",
       "    }\n",
       "\n",
       "    .dataframe thead th {\n",
       "        text-align: right;\n",
       "    }\n",
       "</style>\n",
       "<table border=\"1\" class=\"dataframe\">\n",
       "  <thead>\n",
       "    <tr style=\"text-align: right;\">\n",
       "      <th></th>\n",
       "      <th>user_id</th>\n",
       "      <th>age</th>\n",
       "      <th>churn_date</th>\n",
       "      <th>city</th>\n",
       "      <th>first_name</th>\n",
       "      <th>last_name</th>\n",
       "      <th>reg_date</th>\n",
       "      <th>tariff</th>\n",
       "      <th>month</th>\n",
       "      <th>traffic_volume</th>\n",
       "      <th>calls_count</th>\n",
       "      <th>calls_duration</th>\n",
       "      <th>messages_count</th>\n",
       "    </tr>\n",
       "  </thead>\n",
       "  <tbody>\n",
       "    <tr>\n",
       "      <td>0</td>\n",
       "      <td>1000</td>\n",
       "      <td>52</td>\n",
       "      <td>NaT</td>\n",
       "      <td>Краснодар</td>\n",
       "      <td>Рафаил</td>\n",
       "      <td>Верещагин</td>\n",
       "      <td>2018-05-25</td>\n",
       "      <td>ultra</td>\n",
       "      <td>5.0</td>\n",
       "      <td>2254.0</td>\n",
       "      <td>22.0</td>\n",
       "      <td>151.0</td>\n",
       "      <td>22.0</td>\n",
       "    </tr>\n",
       "    <tr>\n",
       "      <td>0</td>\n",
       "      <td>1000</td>\n",
       "      <td>52</td>\n",
       "      <td>NaT</td>\n",
       "      <td>Краснодар</td>\n",
       "      <td>Рафаил</td>\n",
       "      <td>Верещагин</td>\n",
       "      <td>2018-05-25</td>\n",
       "      <td>ultra</td>\n",
       "      <td>6.0</td>\n",
       "      <td>23234.0</td>\n",
       "      <td>43.0</td>\n",
       "      <td>159.0</td>\n",
       "      <td>60.0</td>\n",
       "    </tr>\n",
       "    <tr>\n",
       "      <td>0</td>\n",
       "      <td>1000</td>\n",
       "      <td>52</td>\n",
       "      <td>NaT</td>\n",
       "      <td>Краснодар</td>\n",
       "      <td>Рафаил</td>\n",
       "      <td>Верещагин</td>\n",
       "      <td>2018-05-25</td>\n",
       "      <td>ultra</td>\n",
       "      <td>7.0</td>\n",
       "      <td>14004.0</td>\n",
       "      <td>47.0</td>\n",
       "      <td>319.0</td>\n",
       "      <td>75.0</td>\n",
       "    </tr>\n",
       "    <tr>\n",
       "      <td>0</td>\n",
       "      <td>1000</td>\n",
       "      <td>52</td>\n",
       "      <td>NaT</td>\n",
       "      <td>Краснодар</td>\n",
       "      <td>Рафаил</td>\n",
       "      <td>Верещагин</td>\n",
       "      <td>2018-05-25</td>\n",
       "      <td>ultra</td>\n",
       "      <td>8.0</td>\n",
       "      <td>14056.0</td>\n",
       "      <td>52.0</td>\n",
       "      <td>390.0</td>\n",
       "      <td>81.0</td>\n",
       "    </tr>\n",
       "    <tr>\n",
       "      <td>0</td>\n",
       "      <td>1000</td>\n",
       "      <td>52</td>\n",
       "      <td>NaT</td>\n",
       "      <td>Краснодар</td>\n",
       "      <td>Рафаил</td>\n",
       "      <td>Верещагин</td>\n",
       "      <td>2018-05-25</td>\n",
       "      <td>ultra</td>\n",
       "      <td>9.0</td>\n",
       "      <td>14569.0</td>\n",
       "      <td>58.0</td>\n",
       "      <td>441.0</td>\n",
       "      <td>57.0</td>\n",
       "    </tr>\n",
       "  </tbody>\n",
       "</table>\n",
       "</div>"
      ],
      "text/plain": [
       "   user_id  age churn_date       city first_name  last_name   reg_date tariff  \\\n",
       "0     1000   52        NaT  Краснодар     Рафаил  Верещагин 2018-05-25  ultra   \n",
       "0     1000   52        NaT  Краснодар     Рафаил  Верещагин 2018-05-25  ultra   \n",
       "0     1000   52        NaT  Краснодар     Рафаил  Верещагин 2018-05-25  ultra   \n",
       "0     1000   52        NaT  Краснодар     Рафаил  Верещагин 2018-05-25  ultra   \n",
       "0     1000   52        NaT  Краснодар     Рафаил  Верещагин 2018-05-25  ultra   \n",
       "\n",
       "   month  traffic_volume  calls_count  calls_duration  messages_count  \n",
       "0    5.0          2254.0         22.0           151.0            22.0  \n",
       "0    6.0         23234.0         43.0           159.0            60.0  \n",
       "0    7.0         14004.0         47.0           319.0            75.0  \n",
       "0    8.0         14056.0         52.0           390.0            81.0  \n",
       "0    9.0         14569.0         58.0           441.0            57.0  "
      ]
     },
     "execution_count": 35,
     "metadata": {},
     "output_type": "execute_result"
    }
   ],
   "source": [
    "#объединим все сводные таблицы и таблицу data_users\n",
    "\n",
    "data_proceeds_pivot = data_internet_pivot.join([data_calls_pivot, data_messages_pivot]).reset_index(level='month')\n",
    "data_proceeds_pivot = data_users.join(data_proceeds_pivot, on='user_id')\n",
    "\n",
    "data_proceeds_pivot.head()"
   ]
  },
  {
   "cell_type": "markdown",
   "metadata": {},
   "source": [
    "*В этой таблице присутствуют столбцы, которые нам не нужны и будут только мешать при работе с данными, нужно их удалить. "
   ]
  },
  {
   "cell_type": "code",
   "execution_count": 36,
   "metadata": {},
   "outputs": [
    {
     "data": {
      "text/html": [
       "<div>\n",
       "<style scoped>\n",
       "    .dataframe tbody tr th:only-of-type {\n",
       "        vertical-align: middle;\n",
       "    }\n",
       "\n",
       "    .dataframe tbody tr th {\n",
       "        vertical-align: top;\n",
       "    }\n",
       "\n",
       "    .dataframe thead th {\n",
       "        text-align: right;\n",
       "    }\n",
       "</style>\n",
       "<table border=\"1\" class=\"dataframe\">\n",
       "  <thead>\n",
       "    <tr style=\"text-align: right;\">\n",
       "      <th></th>\n",
       "      <th>user_id</th>\n",
       "      <th>age</th>\n",
       "      <th>city</th>\n",
       "      <th>tariff</th>\n",
       "      <th>month</th>\n",
       "      <th>traffic_volume</th>\n",
       "      <th>calls_count</th>\n",
       "      <th>calls_duration</th>\n",
       "      <th>messages_count</th>\n",
       "    </tr>\n",
       "  </thead>\n",
       "  <tbody>\n",
       "    <tr>\n",
       "      <td>0</td>\n",
       "      <td>1000</td>\n",
       "      <td>52</td>\n",
       "      <td>Краснодар</td>\n",
       "      <td>ultra</td>\n",
       "      <td>5.0</td>\n",
       "      <td>2254.0</td>\n",
       "      <td>22.0</td>\n",
       "      <td>151.0</td>\n",
       "      <td>22.0</td>\n",
       "    </tr>\n",
       "    <tr>\n",
       "      <td>0</td>\n",
       "      <td>1000</td>\n",
       "      <td>52</td>\n",
       "      <td>Краснодар</td>\n",
       "      <td>ultra</td>\n",
       "      <td>6.0</td>\n",
       "      <td>23234.0</td>\n",
       "      <td>43.0</td>\n",
       "      <td>159.0</td>\n",
       "      <td>60.0</td>\n",
       "    </tr>\n",
       "    <tr>\n",
       "      <td>0</td>\n",
       "      <td>1000</td>\n",
       "      <td>52</td>\n",
       "      <td>Краснодар</td>\n",
       "      <td>ultra</td>\n",
       "      <td>7.0</td>\n",
       "      <td>14004.0</td>\n",
       "      <td>47.0</td>\n",
       "      <td>319.0</td>\n",
       "      <td>75.0</td>\n",
       "    </tr>\n",
       "    <tr>\n",
       "      <td>0</td>\n",
       "      <td>1000</td>\n",
       "      <td>52</td>\n",
       "      <td>Краснодар</td>\n",
       "      <td>ultra</td>\n",
       "      <td>8.0</td>\n",
       "      <td>14056.0</td>\n",
       "      <td>52.0</td>\n",
       "      <td>390.0</td>\n",
       "      <td>81.0</td>\n",
       "    </tr>\n",
       "    <tr>\n",
       "      <td>0</td>\n",
       "      <td>1000</td>\n",
       "      <td>52</td>\n",
       "      <td>Краснодар</td>\n",
       "      <td>ultra</td>\n",
       "      <td>9.0</td>\n",
       "      <td>14569.0</td>\n",
       "      <td>58.0</td>\n",
       "      <td>441.0</td>\n",
       "      <td>57.0</td>\n",
       "    </tr>\n",
       "  </tbody>\n",
       "</table>\n",
       "</div>"
      ],
      "text/plain": [
       "   user_id  age       city tariff  month  traffic_volume  calls_count  \\\n",
       "0     1000   52  Краснодар  ultra    5.0          2254.0         22.0   \n",
       "0     1000   52  Краснодар  ultra    6.0         23234.0         43.0   \n",
       "0     1000   52  Краснодар  ultra    7.0         14004.0         47.0   \n",
       "0     1000   52  Краснодар  ultra    8.0         14056.0         52.0   \n",
       "0     1000   52  Краснодар  ultra    9.0         14569.0         58.0   \n",
       "\n",
       "   calls_duration  messages_count  \n",
       "0           151.0            22.0  \n",
       "0           159.0            60.0  \n",
       "0           319.0            75.0  \n",
       "0           390.0            81.0  \n",
       "0           441.0            57.0  "
      ]
     },
     "execution_count": 36,
     "metadata": {},
     "output_type": "execute_result"
    }
   ],
   "source": [
    "data_proceeds_pivot = data_proceeds_pivot.drop(['churn_date', 'first_name', 'last_name', 'reg_date'], axis='columns')\n",
    "\n",
    "data_proceeds_pivot.head()"
   ]
  },
  {
   "cell_type": "code",
   "execution_count": 37,
   "metadata": {},
   "outputs": [
    {
     "name": "stdout",
     "output_type": "stream",
     "text": [
      "<class 'pandas.core.frame.DataFrame'>\n",
      "Int64Index: 3206 entries, 0 to 499\n",
      "Data columns (total 9 columns):\n",
      "user_id           3206 non-null int64\n",
      "age               3206 non-null int64\n",
      "city              3206 non-null object\n",
      "tariff            3206 non-null object\n",
      "month             3203 non-null float64\n",
      "traffic_volume    3203 non-null float64\n",
      "calls_count       3163 non-null float64\n",
      "calls_duration    3163 non-null float64\n",
      "messages_count    2706 non-null float64\n",
      "dtypes: float64(5), int64(2), object(2)\n",
      "memory usage: 250.5+ KB\n"
     ]
    }
   ],
   "source": [
    "data_proceeds_pivot.info()"
   ]
  },
  {
   "cell_type": "markdown",
   "metadata": {},
   "source": [
    "*Добавим к имеющейся таблице информацию о тарифах из data_traffs. Объединим по колонке с названием тарифа.*"
   ]
  },
  {
   "cell_type": "code",
   "execution_count": 38,
   "metadata": {},
   "outputs": [
    {
     "data": {
      "text/html": [
       "<div>\n",
       "<style scoped>\n",
       "    .dataframe tbody tr th:only-of-type {\n",
       "        vertical-align: middle;\n",
       "    }\n",
       "\n",
       "    .dataframe tbody tr th {\n",
       "        vertical-align: top;\n",
       "    }\n",
       "\n",
       "    .dataframe thead th {\n",
       "        text-align: right;\n",
       "    }\n",
       "</style>\n",
       "<table border=\"1\" class=\"dataframe\">\n",
       "  <thead>\n",
       "    <tr style=\"text-align: right;\">\n",
       "      <th></th>\n",
       "      <th>messages_included</th>\n",
       "      <th>mb_per_month_included</th>\n",
       "      <th>minutes_included</th>\n",
       "      <th>rub_monthly_fee</th>\n",
       "      <th>rub_per_gb</th>\n",
       "      <th>rub_per_message</th>\n",
       "      <th>rub_per_minute</th>\n",
       "      <th>tariff</th>\n",
       "    </tr>\n",
       "  </thead>\n",
       "  <tbody>\n",
       "    <tr>\n",
       "      <td>0</td>\n",
       "      <td>50</td>\n",
       "      <td>15360</td>\n",
       "      <td>500</td>\n",
       "      <td>550</td>\n",
       "      <td>200</td>\n",
       "      <td>3</td>\n",
       "      <td>3</td>\n",
       "      <td>smart</td>\n",
       "    </tr>\n",
       "    <tr>\n",
       "      <td>1</td>\n",
       "      <td>1000</td>\n",
       "      <td>30720</td>\n",
       "      <td>3000</td>\n",
       "      <td>1950</td>\n",
       "      <td>150</td>\n",
       "      <td>1</td>\n",
       "      <td>1</td>\n",
       "      <td>ultra</td>\n",
       "    </tr>\n",
       "  </tbody>\n",
       "</table>\n",
       "</div>"
      ],
      "text/plain": [
       "   messages_included  mb_per_month_included  minutes_included  \\\n",
       "0                 50                  15360               500   \n",
       "1               1000                  30720              3000   \n",
       "\n",
       "   rub_monthly_fee  rub_per_gb  rub_per_message  rub_per_minute tariff  \n",
       "0              550         200                3               3  smart  \n",
       "1             1950         150                1               1  ultra  "
      ]
     },
     "execution_count": 38,
     "metadata": {},
     "output_type": "execute_result"
    }
   ],
   "source": [
    "#Прежде чем объединять необходимо поменять название колонки с тарифами в data_traffs\n",
    "data_traffs.columns = ['messages_included', 'mb_per_month_included', 'minutes_included', 'rub_monthly_fee',\\\n",
    "     'rub_per_gb', 'rub_per_message', 'rub_per_minute', 'tariff']\n",
    "\n",
    "\n",
    "data_traffs.head()    "
   ]
  },
  {
   "cell_type": "code",
   "execution_count": 39,
   "metadata": {},
   "outputs": [
    {
     "data": {
      "text/html": [
       "<div>\n",
       "<style scoped>\n",
       "    .dataframe tbody tr th:only-of-type {\n",
       "        vertical-align: middle;\n",
       "    }\n",
       "\n",
       "    .dataframe tbody tr th {\n",
       "        vertical-align: top;\n",
       "    }\n",
       "\n",
       "    .dataframe thead th {\n",
       "        text-align: right;\n",
       "    }\n",
       "</style>\n",
       "<table border=\"1\" class=\"dataframe\">\n",
       "  <thead>\n",
       "    <tr style=\"text-align: right;\">\n",
       "      <th></th>\n",
       "      <th>user_id</th>\n",
       "      <th>age</th>\n",
       "      <th>city</th>\n",
       "      <th>tariff</th>\n",
       "      <th>month</th>\n",
       "      <th>traffic_volume</th>\n",
       "      <th>calls_count</th>\n",
       "      <th>calls_duration</th>\n",
       "      <th>messages_count</th>\n",
       "      <th>messages_included</th>\n",
       "      <th>mb_per_month_included</th>\n",
       "      <th>minutes_included</th>\n",
       "      <th>rub_monthly_fee</th>\n",
       "      <th>rub_per_gb</th>\n",
       "      <th>rub_per_message</th>\n",
       "      <th>rub_per_minute</th>\n",
       "    </tr>\n",
       "  </thead>\n",
       "  <tbody>\n",
       "    <tr>\n",
       "      <td>0</td>\n",
       "      <td>1000</td>\n",
       "      <td>52</td>\n",
       "      <td>Краснодар</td>\n",
       "      <td>ultra</td>\n",
       "      <td>5.0</td>\n",
       "      <td>2254.0</td>\n",
       "      <td>22.0</td>\n",
       "      <td>151.0</td>\n",
       "      <td>22.0</td>\n",
       "      <td>1000</td>\n",
       "      <td>30720</td>\n",
       "      <td>3000</td>\n",
       "      <td>1950</td>\n",
       "      <td>150</td>\n",
       "      <td>1</td>\n",
       "      <td>1</td>\n",
       "    </tr>\n",
       "    <tr>\n",
       "      <td>1</td>\n",
       "      <td>1000</td>\n",
       "      <td>52</td>\n",
       "      <td>Краснодар</td>\n",
       "      <td>ultra</td>\n",
       "      <td>6.0</td>\n",
       "      <td>23234.0</td>\n",
       "      <td>43.0</td>\n",
       "      <td>159.0</td>\n",
       "      <td>60.0</td>\n",
       "      <td>1000</td>\n",
       "      <td>30720</td>\n",
       "      <td>3000</td>\n",
       "      <td>1950</td>\n",
       "      <td>150</td>\n",
       "      <td>1</td>\n",
       "      <td>1</td>\n",
       "    </tr>\n",
       "    <tr>\n",
       "      <td>2</td>\n",
       "      <td>1000</td>\n",
       "      <td>52</td>\n",
       "      <td>Краснодар</td>\n",
       "      <td>ultra</td>\n",
       "      <td>7.0</td>\n",
       "      <td>14004.0</td>\n",
       "      <td>47.0</td>\n",
       "      <td>319.0</td>\n",
       "      <td>75.0</td>\n",
       "      <td>1000</td>\n",
       "      <td>30720</td>\n",
       "      <td>3000</td>\n",
       "      <td>1950</td>\n",
       "      <td>150</td>\n",
       "      <td>1</td>\n",
       "      <td>1</td>\n",
       "    </tr>\n",
       "    <tr>\n",
       "      <td>3</td>\n",
       "      <td>1000</td>\n",
       "      <td>52</td>\n",
       "      <td>Краснодар</td>\n",
       "      <td>ultra</td>\n",
       "      <td>8.0</td>\n",
       "      <td>14056.0</td>\n",
       "      <td>52.0</td>\n",
       "      <td>390.0</td>\n",
       "      <td>81.0</td>\n",
       "      <td>1000</td>\n",
       "      <td>30720</td>\n",
       "      <td>3000</td>\n",
       "      <td>1950</td>\n",
       "      <td>150</td>\n",
       "      <td>1</td>\n",
       "      <td>1</td>\n",
       "    </tr>\n",
       "    <tr>\n",
       "      <td>4</td>\n",
       "      <td>1000</td>\n",
       "      <td>52</td>\n",
       "      <td>Краснодар</td>\n",
       "      <td>ultra</td>\n",
       "      <td>9.0</td>\n",
       "      <td>14569.0</td>\n",
       "      <td>58.0</td>\n",
       "      <td>441.0</td>\n",
       "      <td>57.0</td>\n",
       "      <td>1000</td>\n",
       "      <td>30720</td>\n",
       "      <td>3000</td>\n",
       "      <td>1950</td>\n",
       "      <td>150</td>\n",
       "      <td>1</td>\n",
       "      <td>1</td>\n",
       "    </tr>\n",
       "  </tbody>\n",
       "</table>\n",
       "</div>"
      ],
      "text/plain": [
       "   user_id  age       city tariff  month  traffic_volume  calls_count  \\\n",
       "0     1000   52  Краснодар  ultra    5.0          2254.0         22.0   \n",
       "1     1000   52  Краснодар  ultra    6.0         23234.0         43.0   \n",
       "2     1000   52  Краснодар  ultra    7.0         14004.0         47.0   \n",
       "3     1000   52  Краснодар  ultra    8.0         14056.0         52.0   \n",
       "4     1000   52  Краснодар  ultra    9.0         14569.0         58.0   \n",
       "\n",
       "   calls_duration  messages_count  messages_included  mb_per_month_included  \\\n",
       "0           151.0            22.0               1000                  30720   \n",
       "1           159.0            60.0               1000                  30720   \n",
       "2           319.0            75.0               1000                  30720   \n",
       "3           390.0            81.0               1000                  30720   \n",
       "4           441.0            57.0               1000                  30720   \n",
       "\n",
       "   minutes_included  rub_monthly_fee  rub_per_gb  rub_per_message  \\\n",
       "0              3000             1950         150                1   \n",
       "1              3000             1950         150                1   \n",
       "2              3000             1950         150                1   \n",
       "3              3000             1950         150                1   \n",
       "4              3000             1950         150                1   \n",
       "\n",
       "   rub_per_minute  \n",
       "0               1  \n",
       "1               1  \n",
       "2               1  \n",
       "3               1  \n",
       "4               1  "
      ]
     },
     "execution_count": 39,
     "metadata": {},
     "output_type": "execute_result"
    }
   ],
   "source": [
    "data_proceeds_pivot = data_proceeds_pivot.merge(data_traffs, on='tariff')\n",
    "data_proceeds_pivot.head()"
   ]
  },
  {
   "cell_type": "code",
   "execution_count": 40,
   "metadata": {},
   "outputs": [
    {
     "data": {
      "text/plain": [
       "user_id                    0\n",
       "age                        0\n",
       "city                       0\n",
       "tariff                     0\n",
       "month                      3\n",
       "traffic_volume             3\n",
       "calls_count               43\n",
       "calls_duration            43\n",
       "messages_count           500\n",
       "messages_included          0\n",
       "mb_per_month_included      0\n",
       "minutes_included           0\n",
       "rub_monthly_fee            0\n",
       "rub_per_gb                 0\n",
       "rub_per_message            0\n",
       "rub_per_minute             0\n",
       "dtype: int64"
      ]
     },
     "execution_count": 40,
     "metadata": {},
     "output_type": "execute_result"
    }
   ],
   "source": [
    "data_proceeds_pivot.isna().sum()"
   ]
  },
  {
   "cell_type": "markdown",
   "metadata": {},
   "source": [
    "После объединения таблиц появились пропуски, особенно много их в messages_count. Скорее всего это произошло из-за разницы в исходных данных. Заменим пропуски на 0, так как если отбросить эти пропуски, то будет потеряно много данных, а если оставить как есть, то это будет искажать дальнейшие расчеты.<br>\n",
    "Пропуски в колонке month заменить на ноль нельзя, но так как их всего 3, то можно удалить не беспокоясь о потери данных.<br>\n",
    "traffic_volume, calls_count и calls_duration так же имеют немного пропусков, но их удалять не стоит, поэтому как и в messages_count заменим их на 0."
   ]
  },
  {
   "cell_type": "code",
   "execution_count": 41,
   "metadata": {},
   "outputs": [
    {
     "data": {
      "text/plain": [
       "user_id                  0\n",
       "age                      0\n",
       "city                     0\n",
       "tariff                   0\n",
       "month                    0\n",
       "traffic_volume           0\n",
       "calls_count              0\n",
       "calls_duration           0\n",
       "messages_count           0\n",
       "messages_included        0\n",
       "mb_per_month_included    0\n",
       "minutes_included         0\n",
       "rub_monthly_fee          0\n",
       "rub_per_gb               0\n",
       "rub_per_message          0\n",
       "rub_per_minute           0\n",
       "dtype: int64"
      ]
     },
     "execution_count": 41,
     "metadata": {},
     "output_type": "execute_result"
    }
   ],
   "source": [
    "data_proceeds_pivot = data_proceeds_pivot.dropna(subset=['month']).fillna(0)\n",
    "data_proceeds_pivot.isna().sum() "
   ]
  },
  {
   "cell_type": "code",
   "execution_count": 42,
   "metadata": {},
   "outputs": [
    {
     "data": {
      "text/html": [
       "<div>\n",
       "<style scoped>\n",
       "    .dataframe tbody tr th:only-of-type {\n",
       "        vertical-align: middle;\n",
       "    }\n",
       "\n",
       "    .dataframe tbody tr th {\n",
       "        vertical-align: top;\n",
       "    }\n",
       "\n",
       "    .dataframe thead th {\n",
       "        text-align: right;\n",
       "    }\n",
       "</style>\n",
       "<table border=\"1\" class=\"dataframe\">\n",
       "  <thead>\n",
       "    <tr style=\"text-align: right;\">\n",
       "      <th></th>\n",
       "      <th>user_id</th>\n",
       "      <th>age</th>\n",
       "      <th>city</th>\n",
       "      <th>tariff</th>\n",
       "      <th>month</th>\n",
       "      <th>traffic_volume</th>\n",
       "      <th>calls_count</th>\n",
       "      <th>calls_duration</th>\n",
       "      <th>messages_count</th>\n",
       "      <th>messages_included</th>\n",
       "      <th>mb_per_month_included</th>\n",
       "      <th>minutes_included</th>\n",
       "      <th>rub_monthly_fee</th>\n",
       "      <th>rub_per_gb</th>\n",
       "      <th>rub_per_message</th>\n",
       "      <th>rub_per_minute</th>\n",
       "      <th>proceeds_monthly</th>\n",
       "    </tr>\n",
       "  </thead>\n",
       "  <tbody>\n",
       "    <tr>\n",
       "      <td>0</td>\n",
       "      <td>1000</td>\n",
       "      <td>52</td>\n",
       "      <td>Краснодар</td>\n",
       "      <td>ultra</td>\n",
       "      <td>5.0</td>\n",
       "      <td>2254.0</td>\n",
       "      <td>22.0</td>\n",
       "      <td>151.0</td>\n",
       "      <td>22.0</td>\n",
       "      <td>1000</td>\n",
       "      <td>30720</td>\n",
       "      <td>3000</td>\n",
       "      <td>1950</td>\n",
       "      <td>150</td>\n",
       "      <td>1</td>\n",
       "      <td>1</td>\n",
       "      <td>1950.0</td>\n",
       "    </tr>\n",
       "    <tr>\n",
       "      <td>1</td>\n",
       "      <td>1000</td>\n",
       "      <td>52</td>\n",
       "      <td>Краснодар</td>\n",
       "      <td>ultra</td>\n",
       "      <td>6.0</td>\n",
       "      <td>23234.0</td>\n",
       "      <td>43.0</td>\n",
       "      <td>159.0</td>\n",
       "      <td>60.0</td>\n",
       "      <td>1000</td>\n",
       "      <td>30720</td>\n",
       "      <td>3000</td>\n",
       "      <td>1950</td>\n",
       "      <td>150</td>\n",
       "      <td>1</td>\n",
       "      <td>1</td>\n",
       "      <td>1950.0</td>\n",
       "    </tr>\n",
       "    <tr>\n",
       "      <td>2</td>\n",
       "      <td>1000</td>\n",
       "      <td>52</td>\n",
       "      <td>Краснодар</td>\n",
       "      <td>ultra</td>\n",
       "      <td>7.0</td>\n",
       "      <td>14004.0</td>\n",
       "      <td>47.0</td>\n",
       "      <td>319.0</td>\n",
       "      <td>75.0</td>\n",
       "      <td>1000</td>\n",
       "      <td>30720</td>\n",
       "      <td>3000</td>\n",
       "      <td>1950</td>\n",
       "      <td>150</td>\n",
       "      <td>1</td>\n",
       "      <td>1</td>\n",
       "      <td>1950.0</td>\n",
       "    </tr>\n",
       "    <tr>\n",
       "      <td>3</td>\n",
       "      <td>1000</td>\n",
       "      <td>52</td>\n",
       "      <td>Краснодар</td>\n",
       "      <td>ultra</td>\n",
       "      <td>8.0</td>\n",
       "      <td>14056.0</td>\n",
       "      <td>52.0</td>\n",
       "      <td>390.0</td>\n",
       "      <td>81.0</td>\n",
       "      <td>1000</td>\n",
       "      <td>30720</td>\n",
       "      <td>3000</td>\n",
       "      <td>1950</td>\n",
       "      <td>150</td>\n",
       "      <td>1</td>\n",
       "      <td>1</td>\n",
       "      <td>1950.0</td>\n",
       "    </tr>\n",
       "    <tr>\n",
       "      <td>4</td>\n",
       "      <td>1000</td>\n",
       "      <td>52</td>\n",
       "      <td>Краснодар</td>\n",
       "      <td>ultra</td>\n",
       "      <td>9.0</td>\n",
       "      <td>14569.0</td>\n",
       "      <td>58.0</td>\n",
       "      <td>441.0</td>\n",
       "      <td>57.0</td>\n",
       "      <td>1000</td>\n",
       "      <td>30720</td>\n",
       "      <td>3000</td>\n",
       "      <td>1950</td>\n",
       "      <td>150</td>\n",
       "      <td>1</td>\n",
       "      <td>1</td>\n",
       "      <td>1950.0</td>\n",
       "    </tr>\n",
       "    <tr>\n",
       "      <td>...</td>\n",
       "      <td>...</td>\n",
       "      <td>...</td>\n",
       "      <td>...</td>\n",
       "      <td>...</td>\n",
       "      <td>...</td>\n",
       "      <td>...</td>\n",
       "      <td>...</td>\n",
       "      <td>...</td>\n",
       "      <td>...</td>\n",
       "      <td>...</td>\n",
       "      <td>...</td>\n",
       "      <td>...</td>\n",
       "      <td>...</td>\n",
       "      <td>...</td>\n",
       "      <td>...</td>\n",
       "      <td>...</td>\n",
       "      <td>...</td>\n",
       "    </tr>\n",
       "    <tr>\n",
       "      <td>3201</td>\n",
       "      <td>1498</td>\n",
       "      <td>68</td>\n",
       "      <td>Владикавказ</td>\n",
       "      <td>smart</td>\n",
       "      <td>10.0</td>\n",
       "      <td>20580.0</td>\n",
       "      <td>41.0</td>\n",
       "      <td>233.0</td>\n",
       "      <td>42.0</td>\n",
       "      <td>50</td>\n",
       "      <td>15360</td>\n",
       "      <td>500</td>\n",
       "      <td>550</td>\n",
       "      <td>200</td>\n",
       "      <td>3</td>\n",
       "      <td>3</td>\n",
       "      <td>1750.0</td>\n",
       "    </tr>\n",
       "    <tr>\n",
       "      <td>3202</td>\n",
       "      <td>1499</td>\n",
       "      <td>35</td>\n",
       "      <td>Пермь</td>\n",
       "      <td>smart</td>\n",
       "      <td>9.0</td>\n",
       "      <td>1846.0</td>\n",
       "      <td>9.0</td>\n",
       "      <td>65.0</td>\n",
       "      <td>11.0</td>\n",
       "      <td>50</td>\n",
       "      <td>15360</td>\n",
       "      <td>500</td>\n",
       "      <td>550</td>\n",
       "      <td>200</td>\n",
       "      <td>3</td>\n",
       "      <td>3</td>\n",
       "      <td>550.0</td>\n",
       "    </tr>\n",
       "    <tr>\n",
       "      <td>3203</td>\n",
       "      <td>1499</td>\n",
       "      <td>35</td>\n",
       "      <td>Пермь</td>\n",
       "      <td>smart</td>\n",
       "      <td>10.0</td>\n",
       "      <td>17789.0</td>\n",
       "      <td>68.0</td>\n",
       "      <td>430.0</td>\n",
       "      <td>48.0</td>\n",
       "      <td>50</td>\n",
       "      <td>15360</td>\n",
       "      <td>500</td>\n",
       "      <td>550</td>\n",
       "      <td>200</td>\n",
       "      <td>3</td>\n",
       "      <td>3</td>\n",
       "      <td>1150.0</td>\n",
       "    </tr>\n",
       "    <tr>\n",
       "      <td>3204</td>\n",
       "      <td>1499</td>\n",
       "      <td>35</td>\n",
       "      <td>Пермь</td>\n",
       "      <td>smart</td>\n",
       "      <td>11.0</td>\n",
       "      <td>17964.0</td>\n",
       "      <td>74.0</td>\n",
       "      <td>577.0</td>\n",
       "      <td>59.0</td>\n",
       "      <td>50</td>\n",
       "      <td>15360</td>\n",
       "      <td>500</td>\n",
       "      <td>550</td>\n",
       "      <td>200</td>\n",
       "      <td>3</td>\n",
       "      <td>3</td>\n",
       "      <td>1408.0</td>\n",
       "    </tr>\n",
       "    <tr>\n",
       "      <td>3205</td>\n",
       "      <td>1499</td>\n",
       "      <td>35</td>\n",
       "      <td>Пермь</td>\n",
       "      <td>smart</td>\n",
       "      <td>12.0</td>\n",
       "      <td>13056.0</td>\n",
       "      <td>69.0</td>\n",
       "      <td>466.0</td>\n",
       "      <td>66.0</td>\n",
       "      <td>50</td>\n",
       "      <td>15360</td>\n",
       "      <td>500</td>\n",
       "      <td>550</td>\n",
       "      <td>200</td>\n",
       "      <td>3</td>\n",
       "      <td>3</td>\n",
       "      <td>598.0</td>\n",
       "    </tr>\n",
       "  </tbody>\n",
       "</table>\n",
       "<p>3203 rows × 17 columns</p>\n",
       "</div>"
      ],
      "text/plain": [
       "      user_id  age         city tariff  month  traffic_volume  calls_count  \\\n",
       "0        1000   52    Краснодар  ultra    5.0          2254.0         22.0   \n",
       "1        1000   52    Краснодар  ultra    6.0         23234.0         43.0   \n",
       "2        1000   52    Краснодар  ultra    7.0         14004.0         47.0   \n",
       "3        1000   52    Краснодар  ultra    8.0         14056.0         52.0   \n",
       "4        1000   52    Краснодар  ultra    9.0         14569.0         58.0   \n",
       "...       ...  ...          ...    ...    ...             ...          ...   \n",
       "3201     1498   68  Владикавказ  smart   10.0         20580.0         41.0   \n",
       "3202     1499   35        Пермь  smart    9.0          1846.0          9.0   \n",
       "3203     1499   35        Пермь  smart   10.0         17789.0         68.0   \n",
       "3204     1499   35        Пермь  smart   11.0         17964.0         74.0   \n",
       "3205     1499   35        Пермь  smart   12.0         13056.0         69.0   \n",
       "\n",
       "      calls_duration  messages_count  messages_included  \\\n",
       "0              151.0            22.0               1000   \n",
       "1              159.0            60.0               1000   \n",
       "2              319.0            75.0               1000   \n",
       "3              390.0            81.0               1000   \n",
       "4              441.0            57.0               1000   \n",
       "...              ...             ...                ...   \n",
       "3201           233.0            42.0                 50   \n",
       "3202            65.0            11.0                 50   \n",
       "3203           430.0            48.0                 50   \n",
       "3204           577.0            59.0                 50   \n",
       "3205           466.0            66.0                 50   \n",
       "\n",
       "      mb_per_month_included  minutes_included  rub_monthly_fee  rub_per_gb  \\\n",
       "0                     30720              3000             1950         150   \n",
       "1                     30720              3000             1950         150   \n",
       "2                     30720              3000             1950         150   \n",
       "3                     30720              3000             1950         150   \n",
       "4                     30720              3000             1950         150   \n",
       "...                     ...               ...              ...         ...   \n",
       "3201                  15360               500              550         200   \n",
       "3202                  15360               500              550         200   \n",
       "3203                  15360               500              550         200   \n",
       "3204                  15360               500              550         200   \n",
       "3205                  15360               500              550         200   \n",
       "\n",
       "      rub_per_message  rub_per_minute  proceeds_monthly  \n",
       "0                   1               1            1950.0  \n",
       "1                   1               1            1950.0  \n",
       "2                   1               1            1950.0  \n",
       "3                   1               1            1950.0  \n",
       "4                   1               1            1950.0  \n",
       "...               ...             ...               ...  \n",
       "3201                3               3            1750.0  \n",
       "3202                3               3             550.0  \n",
       "3203                3               3            1150.0  \n",
       "3204                3               3            1408.0  \n",
       "3205                3               3             598.0  \n",
       "\n",
       "[3203 rows x 17 columns]"
      ]
     },
     "execution_count": 42,
     "metadata": {},
     "output_type": "execute_result"
    }
   ],
   "source": [
    "#рассчитаем помесячную выручку с помощью функции proceeds_monthly\n",
    "def proceeds_monthly(row):\n",
    "    bill_minutes = 0 #счет за израсходованные минуты\n",
    "    bill_sms = 0 #счет за использованные смс\n",
    "    bill_traffic = 0 #счет за интернет-трафик\n",
    "    \n",
    "    minutes = row['calls_duration']\n",
    "    sms = row['messages_count']\n",
    "    traffic = row['traffic_volume']\n",
    "    tariff = row['tariff']\n",
    "    minutes_limit = row['minutes_included']\n",
    "    sms_limit = row['messages_included']\n",
    "    traffic_limit = row['mb_per_month_included']\n",
    "    monthly_fee = row['rub_monthly_fee']\n",
    "    rub_per_gb = row['rub_per_gb']\n",
    "    rub_per_message = row['rub_per_message']\n",
    "    rub_per_minute = row['rub_per_minute']\n",
    "\n",
    "# проверим разницу между суммарными значениями звонков, сообщений, трафика и бесплатным лимитом тарифа\n",
    "# если эта разница меньше нуля, то возвращаем ноль - клиент не израсходовал бесплатный лимит\n",
    "# если больше - то разницу умножаем на стоимость сверх тарифного плана\n",
    "    \n",
    "    if minutes > minutes_limit:\n",
    "        bill_minutes += (minutes - minutes_limit) * rub_per_minute\n",
    "    if minutes < minutes_limit:\n",
    "        bill_minutes = 0\n",
    "    if sms > sms_limit:\n",
    "        bill_sms += (sms - sms_limit) * rub_per_message\n",
    "    if sms < sms_limit:\n",
    "        bill_sms = 0\n",
    "    if traffic > traffic_limit:\n",
    "        bill_traffic += (np.ceil((traffic - traffic_limit) / 1024 )) * rub_per_gb\n",
    "    if traffic < traffic_limit:\n",
    "        bill_traffic = 0\n",
    "        \n",
    "# функция возвращает итоговый счет за месяц для клиента,\n",
    "# в котором к сумме счетов за отдельные категории услуг прибавляется абонентская плата за тариф\n",
    "        \n",
    "    return bill_minutes + bill_sms + bill_traffic + monthly_fee\n",
    "\n",
    "\n",
    "#методом applay() применяем функцию к DataFrame\n",
    "data_proceeds_pivot['proceeds_monthly'] = data_proceeds_pivot.apply(proceeds_monthly, axis=1)\n",
    "data_proceeds_pivot"
   ]
  },
  {
   "cell_type": "markdown",
   "metadata": {},
   "source": [
    "Для каждого пользователя были посчитаны следующие данные (помесячно):<br>\n",
    "- количество сделанных звонков и израсходованных минут разговора - *calls_count* и *calls_duration*;<br>\n",
    "- количество отправленных сообщений - *messages_count*;<br>\n",
    "- объем израсходованного интернет-трафика - *traffic_volume*;<br>\n",
    "- помесячную выручку с каждого пользователя - *proceeds_monthly*."
   ]
  },
  {
   "cell_type": "markdown",
   "metadata": {},
   "source": [
    "***"
   ]
  },
  {
   "cell_type": "markdown",
   "metadata": {},
   "source": [
    "# Анализ данных"
   ]
  },
  {
   "cell_type": "markdown",
   "metadata": {},
   "source": [
    "*Для анализа поведения клиентов, расчитаем помесячную сумму для исследуемых нами параметров (минуты разговора, количество сообщений и объем интернет-трафика)*"
   ]
  },
  {
   "cell_type": "code",
   "execution_count": 43,
   "metadata": {},
   "outputs": [
    {
     "data": {
      "text/html": [
       "<div>\n",
       "<style scoped>\n",
       "    .dataframe tbody tr th:only-of-type {\n",
       "        vertical-align: middle;\n",
       "    }\n",
       "\n",
       "    .dataframe tbody tr th {\n",
       "        vertical-align: top;\n",
       "    }\n",
       "\n",
       "    .dataframe thead th {\n",
       "        text-align: right;\n",
       "    }\n",
       "</style>\n",
       "<table border=\"1\" class=\"dataframe\">\n",
       "  <thead>\n",
       "    <tr style=\"text-align: right;\">\n",
       "      <th></th>\n",
       "      <th>month</th>\n",
       "      <th>calls_count</th>\n",
       "      <th>calls_duration</th>\n",
       "      <th>messages_count</th>\n",
       "      <th>proceeds_monthly</th>\n",
       "      <th>traffic_volume</th>\n",
       "    </tr>\n",
       "    <tr>\n",
       "      <th>tariff</th>\n",
       "      <th></th>\n",
       "      <th></th>\n",
       "      <th></th>\n",
       "      <th></th>\n",
       "      <th></th>\n",
       "      <th></th>\n",
       "    </tr>\n",
       "  </thead>\n",
       "  <tbody>\n",
       "    <tr>\n",
       "      <td>smart</td>\n",
       "      <td>1.0</td>\n",
       "      <td>941.0</td>\n",
       "      <td>6579.0</td>\n",
       "      <td>620.0</td>\n",
       "      <td>24456.0</td>\n",
       "      <td>289482.0</td>\n",
       "    </tr>\n",
       "    <tr>\n",
       "      <td>smart</td>\n",
       "      <td>2.0</td>\n",
       "      <td>2331.0</td>\n",
       "      <td>16438.0</td>\n",
       "      <td>1397.0</td>\n",
       "      <td>47053.0</td>\n",
       "      <td>672656.0</td>\n",
       "    </tr>\n",
       "    <tr>\n",
       "      <td>smart</td>\n",
       "      <td>3.0</td>\n",
       "      <td>4183.0</td>\n",
       "      <td>28362.0</td>\n",
       "      <td>2453.0</td>\n",
       "      <td>87384.0</td>\n",
       "      <td>1163058.0</td>\n",
       "    </tr>\n",
       "    <tr>\n",
       "      <td>smart</td>\n",
       "      <td>4.0</td>\n",
       "      <td>5747.0</td>\n",
       "      <td>38838.0</td>\n",
       "      <td>3443.0</td>\n",
       "      <td>105253.0</td>\n",
       "      <td>1507817.0</td>\n",
       "    </tr>\n",
       "    <tr>\n",
       "      <td>smart</td>\n",
       "      <td>5.0</td>\n",
       "      <td>7789.0</td>\n",
       "      <td>51565.0</td>\n",
       "      <td>4762.0</td>\n",
       "      <td>165339.0</td>\n",
       "      <td>2228598.0</td>\n",
       "    </tr>\n",
       "    <tr>\n",
       "      <td>smart</td>\n",
       "      <td>6.0</td>\n",
       "      <td>9110.0</td>\n",
       "      <td>61283.0</td>\n",
       "      <td>5478.0</td>\n",
       "      <td>192950.0</td>\n",
       "      <td>2590405.0</td>\n",
       "    </tr>\n",
       "    <tr>\n",
       "      <td>smart</td>\n",
       "      <td>7.0</td>\n",
       "      <td>11402.0</td>\n",
       "      <td>77587.0</td>\n",
       "      <td>6784.0</td>\n",
       "      <td>239765.0</td>\n",
       "      <td>3164469.0</td>\n",
       "    </tr>\n",
       "    <tr>\n",
       "      <td>smart</td>\n",
       "      <td>8.0</td>\n",
       "      <td>13856.0</td>\n",
       "      <td>93569.0</td>\n",
       "      <td>7904.0</td>\n",
       "      <td>302467.0</td>\n",
       "      <td>3903634.0</td>\n",
       "    </tr>\n",
       "    <tr>\n",
       "      <td>smart</td>\n",
       "      <td>9.0</td>\n",
       "      <td>15482.0</td>\n",
       "      <td>105303.0</td>\n",
       "      <td>8746.0</td>\n",
       "      <td>316187.0</td>\n",
       "      <td>4239065.0</td>\n",
       "    </tr>\n",
       "    <tr>\n",
       "      <td>smart</td>\n",
       "      <td>10.0</td>\n",
       "      <td>17629.0</td>\n",
       "      <td>118412.0</td>\n",
       "      <td>9927.0</td>\n",
       "      <td>391409.0</td>\n",
       "      <td>4926730.0</td>\n",
       "    </tr>\n",
       "    <tr>\n",
       "      <td>smart</td>\n",
       "      <td>11.0</td>\n",
       "      <td>19435.0</td>\n",
       "      <td>129908.0</td>\n",
       "      <td>10768.0</td>\n",
       "      <td>413474.0</td>\n",
       "      <td>5339197.0</td>\n",
       "    </tr>\n",
       "    <tr>\n",
       "      <td>smart</td>\n",
       "      <td>12.0</td>\n",
       "      <td>22406.0</td>\n",
       "      <td>152391.0</td>\n",
       "      <td>12130.0</td>\n",
       "      <td>516878.0</td>\n",
       "      <td>6104468.0</td>\n",
       "    </tr>\n",
       "    <tr>\n",
       "      <td>ultra</td>\n",
       "      <td>1.0</td>\n",
       "      <td>535.0</td>\n",
       "      <td>3648.0</td>\n",
       "      <td>304.0</td>\n",
       "      <td>17550.0</td>\n",
       "      <td>118272.0</td>\n",
       "    </tr>\n",
       "    <tr>\n",
       "      <td>ultra</td>\n",
       "      <td>2.0</td>\n",
       "      <td>972.0</td>\n",
       "      <td>6566.0</td>\n",
       "      <td>522.0</td>\n",
       "      <td>43500.0</td>\n",
       "      <td>282632.0</td>\n",
       "    </tr>\n",
       "    <tr>\n",
       "      <td>ultra</td>\n",
       "      <td>3.0</td>\n",
       "      <td>2504.0</td>\n",
       "      <td>17130.0</td>\n",
       "      <td>1195.0</td>\n",
       "      <td>74550.0</td>\n",
       "      <td>648835.0</td>\n",
       "    </tr>\n",
       "    <tr>\n",
       "      <td>ultra</td>\n",
       "      <td>4.0</td>\n",
       "      <td>3525.0</td>\n",
       "      <td>23780.0</td>\n",
       "      <td>1736.0</td>\n",
       "      <td>110100.0</td>\n",
       "      <td>925574.0</td>\n",
       "    </tr>\n",
       "    <tr>\n",
       "      <td>ultra</td>\n",
       "      <td>5.0</td>\n",
       "      <td>4834.0</td>\n",
       "      <td>32099.0</td>\n",
       "      <td>2515.0</td>\n",
       "      <td>136050.0</td>\n",
       "      <td>1297366.0</td>\n",
       "    </tr>\n",
       "    <tr>\n",
       "      <td>ultra</td>\n",
       "      <td>6.0</td>\n",
       "      <td>5566.0</td>\n",
       "      <td>37874.0</td>\n",
       "      <td>3467.0</td>\n",
       "      <td>169350.0</td>\n",
       "      <td>1589735.0</td>\n",
       "    </tr>\n",
       "    <tr>\n",
       "      <td>ultra</td>\n",
       "      <td>7.0</td>\n",
       "      <td>6852.0</td>\n",
       "      <td>46691.0</td>\n",
       "      <td>4499.0</td>\n",
       "      <td>190800.0</td>\n",
       "      <td>1865150.0</td>\n",
       "    </tr>\n",
       "    <tr>\n",
       "      <td>ultra</td>\n",
       "      <td>8.0</td>\n",
       "      <td>7575.0</td>\n",
       "      <td>51387.0</td>\n",
       "      <td>5142.0</td>\n",
       "      <td>220950.0</td>\n",
       "      <td>2094693.0</td>\n",
       "    </tr>\n",
       "    <tr>\n",
       "      <td>ultra</td>\n",
       "      <td>9.0</td>\n",
       "      <td>8546.0</td>\n",
       "      <td>58393.0</td>\n",
       "      <td>5981.0</td>\n",
       "      <td>230850.0</td>\n",
       "      <td>2208549.0</td>\n",
       "    </tr>\n",
       "    <tr>\n",
       "      <td>ultra</td>\n",
       "      <td>10.0</td>\n",
       "      <td>9477.0</td>\n",
       "      <td>64563.0</td>\n",
       "      <td>7152.0</td>\n",
       "      <td>252150.0</td>\n",
       "      <td>2465640.0</td>\n",
       "    </tr>\n",
       "    <tr>\n",
       "      <td>ultra</td>\n",
       "      <td>11.0</td>\n",
       "      <td>10021.0</td>\n",
       "      <td>68265.0</td>\n",
       "      <td>7447.0</td>\n",
       "      <td>278400.0</td>\n",
       "      <td>2651500.0</td>\n",
       "    </tr>\n",
       "    <tr>\n",
       "      <td>ultra</td>\n",
       "      <td>12.0</td>\n",
       "      <td>11540.0</td>\n",
       "      <td>77609.0</td>\n",
       "      <td>8386.0</td>\n",
       "      <td>295350.0</td>\n",
       "      <td>3029323.0</td>\n",
       "    </tr>\n",
       "  </tbody>\n",
       "</table>\n",
       "</div>"
      ],
      "text/plain": [
       "        month  calls_count  calls_duration  messages_count  proceeds_monthly  \\\n",
       "tariff                                                                         \n",
       "smart     1.0        941.0          6579.0           620.0           24456.0   \n",
       "smart     2.0       2331.0         16438.0          1397.0           47053.0   \n",
       "smart     3.0       4183.0         28362.0          2453.0           87384.0   \n",
       "smart     4.0       5747.0         38838.0          3443.0          105253.0   \n",
       "smart     5.0       7789.0         51565.0          4762.0          165339.0   \n",
       "smart     6.0       9110.0         61283.0          5478.0          192950.0   \n",
       "smart     7.0      11402.0         77587.0          6784.0          239765.0   \n",
       "smart     8.0      13856.0         93569.0          7904.0          302467.0   \n",
       "smart     9.0      15482.0        105303.0          8746.0          316187.0   \n",
       "smart    10.0      17629.0        118412.0          9927.0          391409.0   \n",
       "smart    11.0      19435.0        129908.0         10768.0          413474.0   \n",
       "smart    12.0      22406.0        152391.0         12130.0          516878.0   \n",
       "ultra     1.0        535.0          3648.0           304.0           17550.0   \n",
       "ultra     2.0        972.0          6566.0           522.0           43500.0   \n",
       "ultra     3.0       2504.0         17130.0          1195.0           74550.0   \n",
       "ultra     4.0       3525.0         23780.0          1736.0          110100.0   \n",
       "ultra     5.0       4834.0         32099.0          2515.0          136050.0   \n",
       "ultra     6.0       5566.0         37874.0          3467.0          169350.0   \n",
       "ultra     7.0       6852.0         46691.0          4499.0          190800.0   \n",
       "ultra     8.0       7575.0         51387.0          5142.0          220950.0   \n",
       "ultra     9.0       8546.0         58393.0          5981.0          230850.0   \n",
       "ultra    10.0       9477.0         64563.0          7152.0          252150.0   \n",
       "ultra    11.0      10021.0         68265.0          7447.0          278400.0   \n",
       "ultra    12.0      11540.0         77609.0          8386.0          295350.0   \n",
       "\n",
       "        traffic_volume  \n",
       "tariff                  \n",
       "smart         289482.0  \n",
       "smart         672656.0  \n",
       "smart        1163058.0  \n",
       "smart        1507817.0  \n",
       "smart        2228598.0  \n",
       "smart        2590405.0  \n",
       "smart        3164469.0  \n",
       "smart        3903634.0  \n",
       "smart        4239065.0  \n",
       "smart        4926730.0  \n",
       "smart        5339197.0  \n",
       "smart        6104468.0  \n",
       "ultra         118272.0  \n",
       "ultra         282632.0  \n",
       "ultra         648835.0  \n",
       "ultra         925574.0  \n",
       "ultra        1297366.0  \n",
       "ultra        1589735.0  \n",
       "ultra        1865150.0  \n",
       "ultra        2094693.0  \n",
       "ultra        2208549.0  \n",
       "ultra        2465640.0  \n",
       "ultra        2651500.0  \n",
       "ultra        3029323.0  "
      ]
     },
     "execution_count": 43,
     "metadata": {},
     "output_type": "execute_result"
    }
   ],
   "source": [
    "data_month_sum = (\n",
    "    data_proceeds_pivot\n",
    "    .pivot_table(index=['tariff', 'month'],\n",
    "                 values=['calls_count', 'calls_duration', 'messages_count', 'traffic_volume', 'proceeds_monthly'],\n",
    "                 aggfunc=sum)\n",
    ")\n",
    "data_month_sum = data_month_sum.reset_index(level='month')\n",
    "data_month_sum"
   ]
  },
  {
   "cell_type": "code",
   "execution_count": 44,
   "metadata": {},
   "outputs": [
    {
     "data": {
      "image/png": "[encoded data removed]",
      "text/plain": [
       "<Figure size 1080x360 with 2 Axes>"
      ]
     },
     "metadata": {
      "needs_background": "light"
     },
     "output_type": "display_data"
    },
    {
     "data": {
      "image/png": "[encoded data removed]",
      "text/plain": [
       "<Figure size 1080x360 with 2 Axes>"
      ]
     },
     "metadata": {
      "needs_background": "light"
     },
     "output_type": "display_data"
    },
    {
     "data": {
      "image/png": "[encoded data removed]",
      "text/plain": [
       "<Figure size 1080x360 with 2 Axes>"
      ]
     },
     "metadata": {
      "needs_background": "light"
     },
     "output_type": "display_data"
    },
    {
     "data": {
      "image/png": "[encoded data removed]",
      "text/plain": [
       "<Figure size 1080x360 with 2 Axes>"
      ]
     },
     "metadata": {
      "needs_background": "light"
     },
     "output_type": "display_data"
    },
    {
     "data": {
      "image/png": "[encoded data removed]",
      "text/plain": [
       "<Figure size 1080x360 with 2 Axes>"
      ]
     },
     "metadata": {
      "needs_background": "light"
     },
     "output_type": "display_data"
    }
   ],
   "source": [
    "#строим графики для большей наглядности распределения значений параметров в течение года\n",
    "\n",
    "for dms_col_name in ['calls_count', 'calls_duration', 'messages_count', 'traffic_volume', 'proceeds_monthly']:\n",
    "    fig, axs = plt.subplots(1,2)\n",
    "    data_month_sum[data_month_sum.index=='smart'].plot(x='month', y=dms_col_name, kind='bar', title='smart', ax=axs[0], figsize=(15, 5))\n",
    "    data_month_sum[data_month_sum.index=='ultra'].plot(x='month', y=dms_col_name, kind='bar', title='ultra', ax=axs[1], figsize=(15, 5))"
   ]
  },
  {
   "cell_type": "code",
   "execution_count": 45,
   "metadata": {},
   "outputs": [
    {
     "name": "stdout",
     "output_type": "stream",
     "text": [
      "2228\n",
      "975\n"
     ]
    }
   ],
   "source": [
    "print(data_proceeds_pivot[data_proceeds_pivot['tariff']=='smart']['tariff'].count())\n",
    "print(data_proceeds_pivot[data_proceeds_pivot['tariff']=='ultra']['tariff'].count())"
   ]
  },
  {
   "cell_type": "markdown",
   "metadata": {},
   "source": [
    "Разный объем выборок, соответсвенно количественные показатели нас не очень интересуют.<br>\n",
    "<br>\n",
    "Все рассматриваемые параметры линейно растут от января к декабрю, независимо от того, какой тариф используется.<br>\n",
    "Сложно объяснить такую зависимость, но рискну предположить, что в январе пользователи отдыхают по большей части и не особо рвутся пользоваться предоставленными возможностями современных технологий. Далее же год набирает обороты, становится больше работы, каких-то дел и планов, возможно \"Мегалайн\" устраивает какие-либо промоакции, что клиент охотнее продляет тариф или же покупает услуги связи. В декабре, в предверии новогодней суеты, количество звонков и использованного трафика всего зашкаливает, потому что как правио \"все пытаются запрыгнуть в последний вагон\", стараясь успеть все.<br>\n",
    "<br>\n",
    "Стоит отметить, что у тарифа \"Ультра\" рост все таки более плавный, что \"Смарт\"."
   ]
  },
  {
   "cell_type": "markdown",
   "metadata": {},
   "source": [
    "***"
   ]
  },
  {
   "cell_type": "markdown",
   "metadata": {},
   "source": [
    "*Посчитаем среднее, дисперсию и ско для всех пользователей в течение года*"
   ]
  },
  {
   "cell_type": "code",
   "execution_count": 46,
   "metadata": {},
   "outputs": [
    {
     "data": {
      "text/html": [
       "<div>\n",
       "<style scoped>\n",
       "    .dataframe tbody tr th:only-of-type {\n",
       "        vertical-align: middle;\n",
       "    }\n",
       "\n",
       "    .dataframe tbody tr th {\n",
       "        vertical-align: top;\n",
       "    }\n",
       "\n",
       "    .dataframe thead th {\n",
       "        text-align: right;\n",
       "    }\n",
       "</style>\n",
       "<table border=\"1\" class=\"dataframe\">\n",
       "  <thead>\n",
       "    <tr style=\"text-align: right;\">\n",
       "      <th></th>\n",
       "      <th>calls_duration_mean</th>\n",
       "      <th>messages_count_mean</th>\n",
       "      <th>traffic_volume_mean</th>\n",
       "      <th>proceeds_monthly_mean</th>\n",
       "    </tr>\n",
       "    <tr>\n",
       "      <th>tariff</th>\n",
       "      <th></th>\n",
       "      <th></th>\n",
       "      <th></th>\n",
       "      <th></th>\n",
       "    </tr>\n",
       "  </thead>\n",
       "  <tbody>\n",
       "    <tr>\n",
       "      <td>smart</td>\n",
       "      <td>395.078546</td>\n",
       "      <td>33.398564</td>\n",
       "      <td>1257.906194</td>\n",
       "      <td>16216.148564</td>\n",
       "    </tr>\n",
       "    <tr>\n",
       "      <td>ultra</td>\n",
       "      <td>500.517949</td>\n",
       "      <td>49.585641</td>\n",
       "      <td>2071.384615</td>\n",
       "      <td>19668.993846</td>\n",
       "    </tr>\n",
       "  </tbody>\n",
       "</table>\n",
       "</div>"
      ],
      "text/plain": [
       "        calls_duration_mean  messages_count_mean  traffic_volume_mean  \\\n",
       "tariff                                                                  \n",
       "smart            395.078546            33.398564          1257.906194   \n",
       "ultra            500.517949            49.585641          2071.384615   \n",
       "\n",
       "        proceeds_monthly_mean  \n",
       "tariff                         \n",
       "smart            16216.148564  \n",
       "ultra            19668.993846  "
      ]
     },
     "metadata": {},
     "output_type": "display_data"
    },
    {
     "data": {
      "text/html": [
       "<div>\n",
       "<style scoped>\n",
       "    .dataframe tbody tr th:only-of-type {\n",
       "        vertical-align: middle;\n",
       "    }\n",
       "\n",
       "    .dataframe tbody tr th {\n",
       "        vertical-align: top;\n",
       "    }\n",
       "\n",
       "    .dataframe thead th {\n",
       "        text-align: right;\n",
       "    }\n",
       "</style>\n",
       "<table border=\"1\" class=\"dataframe\">\n",
       "  <thead>\n",
       "    <tr style=\"text-align: right;\">\n",
       "      <th></th>\n",
       "      <th>calls_duration_var</th>\n",
       "      <th>messages_count_var</th>\n",
       "      <th>traffic_volume_var</th>\n",
       "      <th>proceeds_monthly_var</th>\n",
       "    </tr>\n",
       "    <tr>\n",
       "      <th>tariff</th>\n",
       "      <th></th>\n",
       "      <th></th>\n",
       "      <th></th>\n",
       "      <th></th>\n",
       "    </tr>\n",
       "  </thead>\n",
       "  <tbody>\n",
       "    <tr>\n",
       "      <td>smart</td>\n",
       "      <td>32353.071062</td>\n",
       "      <td>796.69963</td>\n",
       "      <td>641528.913064</td>\n",
       "      <td>3.436001e+07</td>\n",
       "    </tr>\n",
       "    <tr>\n",
       "      <td>ultra</td>\n",
       "      <td>89957.083610</td>\n",
       "      <td>2301.92464</td>\n",
       "      <td>142819.949455</td>\n",
       "      <td>9.886460e+07</td>\n",
       "    </tr>\n",
       "  </tbody>\n",
       "</table>\n",
       "</div>"
      ],
      "text/plain": [
       "        calls_duration_var  messages_count_var  traffic_volume_var  \\\n",
       "tariff                                                               \n",
       "smart         32353.071062           796.69963       641528.913064   \n",
       "ultra         89957.083610          2301.92464       142819.949455   \n",
       "\n",
       "        proceeds_monthly_var  \n",
       "tariff                        \n",
       "smart           3.436001e+07  \n",
       "ultra           9.886460e+07  "
      ]
     },
     "metadata": {},
     "output_type": "display_data"
    },
    {
     "data": {
      "text/html": [
       "<div>\n",
       "<style scoped>\n",
       "    .dataframe tbody tr th:only-of-type {\n",
       "        vertical-align: middle;\n",
       "    }\n",
       "\n",
       "    .dataframe tbody tr th {\n",
       "        vertical-align: top;\n",
       "    }\n",
       "\n",
       "    .dataframe thead th {\n",
       "        text-align: right;\n",
       "    }\n",
       "</style>\n",
       "<table border=\"1\" class=\"dataframe\">\n",
       "  <thead>\n",
       "    <tr style=\"text-align: right;\">\n",
       "      <th></th>\n",
       "      <th>calls_duration_std</th>\n",
       "      <th>messages_count_std</th>\n",
       "      <th>traffic_volume_std</th>\n",
       "      <th>proceeds_monthly_std</th>\n",
       "    </tr>\n",
       "    <tr>\n",
       "      <th>tariff</th>\n",
       "      <th></th>\n",
       "      <th></th>\n",
       "      <th></th>\n",
       "      <th></th>\n",
       "    </tr>\n",
       "  </thead>\n",
       "  <tbody>\n",
       "    <tr>\n",
       "      <td>smart</td>\n",
       "      <td>179.869595</td>\n",
       "      <td>28.225868</td>\n",
       "      <td>800.955001</td>\n",
       "      <td>5861.741292</td>\n",
       "    </tr>\n",
       "    <tr>\n",
       "      <td>ultra</td>\n",
       "      <td>299.928464</td>\n",
       "      <td>47.978377</td>\n",
       "      <td>377.915268</td>\n",
       "      <td>9943.067706</td>\n",
       "    </tr>\n",
       "  </tbody>\n",
       "</table>\n",
       "</div>"
      ],
      "text/plain": [
       "        calls_duration_std  messages_count_std  traffic_volume_std  \\\n",
       "tariff                                                               \n",
       "smart           179.869595           28.225868          800.955001   \n",
       "ultra           299.928464           47.978377          377.915268   \n",
       "\n",
       "        proceeds_monthly_std  \n",
       "tariff                        \n",
       "smart            5861.741292  \n",
       "ultra            9943.067706  "
      ]
     },
     "metadata": {},
     "output_type": "display_data"
    }
   ],
   "source": [
    "for i in range(0, 3):\n",
    "    functions = ['mean', np.var, np.std] # функции, которые будем применять к значениям\n",
    "    tables = ['total_month_sum_mean', 'total_month_sum_var', 'total_month_sum_std'] # названия сводных таблиц\n",
    "    list_of_cols = ['calls_duration', 'messages_count', 'traffic_volume', 'proceeds_monthly'] # значения\n",
    "    suffix = ['_mean', '_var', '_std'] # суффикс, который добавим к именам колонок\n",
    "    \n",
    "    tables[i] = data_proceeds_pivot.pivot_table(index=['tariff'], values=list_of_cols, aggfunc=functions[i])\n",
    "    tables[i].columns = ['calls_duration'+suffix[i], 'messages_count'+suffix[i],\\\n",
    "                         'traffic_volume'+suffix[i], 'proceeds_monthly'+suffix[i]]\n",
    "    display(tables[i])"
   ]
  },
  {
   "cell_type": "markdown",
   "metadata": {},
   "source": [
    "Пользователи тарифа \"Ультра\" более охотно пользуются услугами оператора.<br>\n",
    "<br>\n",
    "1) Высокое значение дисперсии у тарифа \"Ультра\" можно объяснить меньшим объемом выборки, чем у смарт;<br>\n",
    "2) Низкая дисперсия в интернет-трафике говорит о том, что возможно пользователи выбирают тариф \"Ультра\" из-за более выгодного включенного пакета мегабайт трафика, т.к. сейчас в основном большая часть звонков и сообщений передается посредством сети интрнет. Следовательно пользователи \"Ультра\" не заботятся об экономии трафика и используют его свободно, что приводит к среднему с меньшим разбросом. В то время как пользователи смарт экономно используют свой лимит и в итоге к концу месяца у многих оставшийся трафик обнуляется, а у кого-то перерасход (потому что опускают момент с отслеживанием трафика)."
   ]
  },
  {
   "cell_type": "code",
   "execution_count": 47,
   "metadata": {},
   "outputs": [
    {
     "data": {
      "text/html": [
       "<div>\n",
       "<style scoped>\n",
       "    .dataframe tbody tr th:only-of-type {\n",
       "        vertical-align: middle;\n",
       "    }\n",
       "\n",
       "    .dataframe tbody tr th {\n",
       "        vertical-align: top;\n",
       "    }\n",
       "\n",
       "    .dataframe thead th {\n",
       "        text-align: right;\n",
       "    }\n",
       "</style>\n",
       "<table border=\"1\" class=\"dataframe\">\n",
       "  <thead>\n",
       "    <tr style=\"text-align: right;\">\n",
       "      <th></th>\n",
       "      <th>tariff</th>\n",
       "      <th>user_id</th>\n",
       "      <th>calls_count</th>\n",
       "      <th>calls_duration</th>\n",
       "      <th>messages_count</th>\n",
       "      <th>traffic_volume</th>\n",
       "      <th>proceeds_monthly</th>\n",
       "    </tr>\n",
       "  </thead>\n",
       "  <tbody>\n",
       "    <tr>\n",
       "      <td>0</td>\n",
       "      <td>smart</td>\n",
       "      <td>1001</td>\n",
       "      <td>122.0</td>\n",
       "      <td>801.0</td>\n",
       "      <td>0.0</td>\n",
       "      <td>32467.0</td>\n",
       "      <td>1700.0</td>\n",
       "    </tr>\n",
       "    <tr>\n",
       "      <td>1</td>\n",
       "      <td>smart</td>\n",
       "      <td>1002</td>\n",
       "      <td>217.0</td>\n",
       "      <td>1434.0</td>\n",
       "      <td>70.0</td>\n",
       "      <td>116041.0</td>\n",
       "      <td>7250.0</td>\n",
       "    </tr>\n",
       "    <tr>\n",
       "      <td>2</td>\n",
       "      <td>smart</td>\n",
       "      <td>1005</td>\n",
       "      <td>888.0</td>\n",
       "      <td>6248.0</td>\n",
       "      <td>552.0</td>\n",
       "      <td>99692.0</td>\n",
       "      <td>9045.0</td>\n",
       "    </tr>\n",
       "    <tr>\n",
       "      <td>3</td>\n",
       "      <td>smart</td>\n",
       "      <td>1006</td>\n",
       "      <td>506.0</td>\n",
       "      <td>3296.0</td>\n",
       "      <td>0.0</td>\n",
       "      <td>164194.0</td>\n",
       "      <td>10250.0</td>\n",
       "    </tr>\n",
       "    <tr>\n",
       "      <td>4</td>\n",
       "      <td>smart</td>\n",
       "      <td>1007</td>\n",
       "      <td>612.0</td>\n",
       "      <td>4143.0</td>\n",
       "      <td>225.0</td>\n",
       "      <td>131631.0</td>\n",
       "      <td>7867.0</td>\n",
       "    </tr>\n",
       "    <tr>\n",
       "      <td>...</td>\n",
       "      <td>...</td>\n",
       "      <td>...</td>\n",
       "      <td>...</td>\n",
       "      <td>...</td>\n",
       "      <td>...</td>\n",
       "      <td>...</td>\n",
       "      <td>...</td>\n",
       "    </tr>\n",
       "    <tr>\n",
       "      <td>492</td>\n",
       "      <td>ultra</td>\n",
       "      <td>1476</td>\n",
       "      <td>549.0</td>\n",
       "      <td>3981.0</td>\n",
       "      <td>45.0</td>\n",
       "      <td>150290.0</td>\n",
       "      <td>17550.0</td>\n",
       "    </tr>\n",
       "    <tr>\n",
       "      <td>493</td>\n",
       "      <td>ultra</td>\n",
       "      <td>1485</td>\n",
       "      <td>94.0</td>\n",
       "      <td>548.0</td>\n",
       "      <td>155.0</td>\n",
       "      <td>23423.0</td>\n",
       "      <td>1950.0</td>\n",
       "    </tr>\n",
       "    <tr>\n",
       "      <td>494</td>\n",
       "      <td>ultra</td>\n",
       "      <td>1491</td>\n",
       "      <td>648.0</td>\n",
       "      <td>4353.0</td>\n",
       "      <td>432.0</td>\n",
       "      <td>161466.0</td>\n",
       "      <td>17550.0</td>\n",
       "    </tr>\n",
       "    <tr>\n",
       "      <td>495</td>\n",
       "      <td>ultra</td>\n",
       "      <td>1493</td>\n",
       "      <td>110.0</td>\n",
       "      <td>702.0</td>\n",
       "      <td>94.0</td>\n",
       "      <td>54421.0</td>\n",
       "      <td>5700.0</td>\n",
       "    </tr>\n",
       "    <tr>\n",
       "      <td>496</td>\n",
       "      <td>ultra</td>\n",
       "      <td>1495</td>\n",
       "      <td>565.0</td>\n",
       "      <td>3691.0</td>\n",
       "      <td>340.0</td>\n",
       "      <td>127414.0</td>\n",
       "      <td>11550.0</td>\n",
       "    </tr>\n",
       "  </tbody>\n",
       "</table>\n",
       "<p>497 rows × 7 columns</p>\n",
       "</div>"
      ],
      "text/plain": [
       "    tariff  user_id  calls_count  calls_duration  messages_count  \\\n",
       "0    smart     1001        122.0           801.0             0.0   \n",
       "1    smart     1002        217.0          1434.0            70.0   \n",
       "2    smart     1005        888.0          6248.0           552.0   \n",
       "3    smart     1006        506.0          3296.0             0.0   \n",
       "4    smart     1007        612.0          4143.0           225.0   \n",
       "..     ...      ...          ...             ...             ...   \n",
       "492  ultra     1476        549.0          3981.0            45.0   \n",
       "493  ultra     1485         94.0           548.0           155.0   \n",
       "494  ultra     1491        648.0          4353.0           432.0   \n",
       "495  ultra     1493        110.0           702.0            94.0   \n",
       "496  ultra     1495        565.0          3691.0           340.0   \n",
       "\n",
       "     traffic_volume  proceeds_monthly  \n",
       "0           32467.0            1700.0  \n",
       "1          116041.0            7250.0  \n",
       "2           99692.0            9045.0  \n",
       "3          164194.0           10250.0  \n",
       "4          131631.0            7867.0  \n",
       "..              ...               ...  \n",
       "492        150290.0           17550.0  \n",
       "493         23423.0            1950.0  \n",
       "494        161466.0           17550.0  \n",
       "495         54421.0            5700.0  \n",
       "496        127414.0           11550.0  \n",
       "\n",
       "[497 rows x 7 columns]"
      ]
     },
     "execution_count": 47,
     "metadata": {},
     "output_type": "execute_result"
    }
   ],
   "source": [
    "#Строим частотные гистограммы для определения кол-ва пользователей,\n",
    "#которые тратят то или иное кол-во предоставляемых услуг\n",
    "\n",
    "#сгруппируем данные по тарифу и пользователям\n",
    "group_hist = (\n",
    "    (data_proceeds_pivot\n",
    "     .pivot_table(index=['tariff', 'user_id'],\\\n",
    "                  values=['calls_count', 'calls_duration', 'messages_count', 'traffic_volume', 'proceeds_monthly'],\\\n",
    "                  aggfunc=sum))\n",
    ")\n",
    "\n",
    "# расставим столбцы в удобном порядке:\n",
    "cols = group_hist.columns.tolist()\n",
    "cols = cols[:3] + cols[-1:] + cols[-2:4]\n",
    "group_hist = group_hist[cols]\n",
    "\n",
    "group_hist.reset_index(inplace=True)\n",
    "\n",
    "group_hist"
   ]
  },
  {
   "cell_type": "code",
   "execution_count": 48,
   "metadata": {},
   "outputs": [
    {
     "data": {
      "image/png": "[encoded data removed]",
      "text/plain": [
       "<Figure size 1080x360 with 2 Axes>"
      ]
     },
     "metadata": {
      "needs_background": "light"
     },
     "output_type": "display_data"
    },
    {
     "data": {
      "image/png": "[encoded data removed]",
      "text/plain": [
       "<Figure size 1080x360 with 2 Axes>"
      ]
     },
     "metadata": {
      "needs_background": "light"
     },
     "output_type": "display_data"
    },
    {
     "data": {
      "image/png": "[encoded data removed]",
      "text/plain": [
       "<Figure size 1080x360 with 2 Axes>"
      ]
     },
     "metadata": {
      "needs_background": "light"
     },
     "output_type": "display_data"
    },
    {
     "data": {
      "image/png": "[encoded data removed]",
      "text/plain": [
       "<Figure size 1080x360 with 2 Axes>"
      ]
     },
     "metadata": {
      "needs_background": "light"
     },
     "output_type": "display_data"
    },
    {
     "data": {
      "image/png": "[encoded data removed]",
      "text/plain": [
       "<Figure size 1080x360 with 2 Axes>"
      ]
     },
     "metadata": {
      "needs_background": "light"
     },
     "output_type": "display_data"
    }
   ],
   "source": [
    "#так же как и с диаграммами, строим гистограммы при помощи цикла\n",
    "for hist_name_column in group_hist.columns[2:]:\n",
    "    fig, axs = plt.subplots(1,2)\n",
    "    group_hist[group_hist['tariff']=='smart'][hist_name_column].plot(bins=90, kind='hist', figsize=(15, 5), title=hist_name_column+'_smart', ax=axs[0])\n",
    "    group_hist[group_hist['tariff']=='ultra'][hist_name_column].plot(bins=60, kind='hist', figsize=(15, 5), title=hist_name_column+'_ultra', ax=axs[1])"
   ]
  },
  {
   "cell_type": "markdown",
   "metadata": {},
   "source": [
    "Из-за высокого значения дисперсии \"\"Ультра имеет более длинные хвосты чем \"Смарт\".<br>\n",
    "<br>\n",
    "1) Количество звонков: max \"Смарт\" выходит на 200, max \"Ультра\" - около 130;<br>\n",
    "2) Продолжительность звонков: у \"Смарт\" наблюдается два основных пика около 400 и 1500 минут, у \"Ультра\" один - около 1000. В основном люди тарифа \"Смарт\" говорят не больше 6000 минут в год, в то время как клиенты \"Ультра\" почти 8000 минут. Также можем наблюдать, что у \"Ультра\" есть небольшой пик на околонулевых значениях (0 - 250);<br>\n",
    "3) Количество сообщений: в обоих тарифах доля людей мало или практически не использующих смс - высока. При этом следует помнить, что ранее мы заменили 500 пропусков в данных нулями и сейчас наблюдаем результаты этого действия. Но так же и не стоит забывать об использовании мессенджерей для онлайн-общения;<br>\n",
    "4) Интернет-трафик: в обоих тарифах наблюдается четкая граница в районе 200000 мб, после которой совсем мало значений. Пик у \"Ультра\" в районе 100000 мб, у \"Смарт\" два пика - один в районе 20000, другой около 130000 мб.<br>\n",
    "<br>\n",
    "*Итоговый счет*: Так как пользователи подключались в разное время года и не все оставались на одном тарифе до конца мы видим, что большая часть трат на связь приходится до уровня минимальной годовой абонентской платы, которая для смарт составляет 6600, а для ультра 23400. У смарт второй пик находится в районе 7500, после чего идет плавное уменьшение числа людей перерасходовавших тарифный план, т.е. большая часть людей хоть немного, но исользует тарифы сверх лимитов. У \"Ультра\" большинство пользователей тратит до 20000, после чего есть еще одна граница в районе 23000-24000, после чего небольшой хвост, т.е. пользователя тарифа в основном укладываются в лимиты тарифного плана и не перерасходуют его."
   ]
  },
  {
   "cell_type": "markdown",
   "metadata": {},
   "source": [
    "***"
   ]
  },
  {
   "cell_type": "markdown",
   "metadata": {},
   "source": [
    "## Проверка гипотез"
   ]
  },
  {
   "cell_type": "markdown",
   "metadata": {},
   "source": [
    "### Первая гипотеза: Средняя выручка пользователей тарифов «Ультра» и «Смарт» различаются"
   ]
  },
  {
   "cell_type": "markdown",
   "metadata": {},
   "source": [
    "Сформулируем нулевую и альтернативную гипотезы:<br>\n",
    "\n",
    "- H0 - средняя выручка пользователей тарифов «Ультра» и «Смарт» равны (в H0 всегда используется знак равенства);<br>\n",
    "- H1 - средняя выручка пользователей тарифов «Ультра» и «Смарт» различаются.<br>\n",
    "\n",
    "Чтобы проверить гипотезу о равенстве среднего применим метод scipy.stats.ttest_ind (array1, array2, equal_var), где equal_var - параметр, задающий считать ли равными дисперсии выборок. Передаётся как \"equal_var = True\" или \"equal_var = False\" (True — считать, False — не считать). Т.к. мы знаем, что дисперсии выборок по смарт и ультра различаются (3.436001e+07 и 9.886460e+07 соответственно), то equal_var зададим как False.<br>\n",
    "<br>\n",
    "*Уровень значимости зададим alpha=0,05*"
   ]
  },
  {
   "cell_type": "code",
   "execution_count": 49,
   "metadata": {},
   "outputs": [
    {
     "name": "stdout",
     "output_type": "stream",
     "text": [
      "p-значение: 1.1678550574171129e-272\n",
      "Отвергаем нулевую гипотезу\n"
     ]
    }
   ],
   "source": [
    "smart_ttest = data_proceeds_pivot[data_proceeds_pivot['tariff']=='smart']['proceeds_monthly']\n",
    "ultra_ttest = data_proceeds_pivot[data_proceeds_pivot['tariff']=='ultra']['proceeds_monthly']\n",
    "\n",
    "alpha = 0.05\n",
    "\n",
    "results = st.ttest_ind(smart_ttest, ultra_ttest, equal_var=False)\n",
    "\n",
    "print('p-значение:', results.pvalue)\n",
    "\n",
    "if (results.pvalue < alpha):\n",
    "    print(\"Отвергаем нулевую гипотезу\")\n",
    "else:\n",
    "    print(\"Не получилось отвергнуть нулевую гипотезу\")"
   ]
  },
  {
   "cell_type": "markdown",
   "metadata": {},
   "source": [
    "***Так как p-уровень значимости слишком мал, то принимаем альтернативную гипотезу о том, что средняя выручка пользователей тарифов \"Ультра\" и \"Смарт\" достаточно значимо различаются.***"
   ]
  },
  {
   "cell_type": "markdown",
   "metadata": {},
   "source": [
    "### Вторая гипотеза: Средняя выручка пользователей из Москвы отличается от выручки пользователей из других регионов"
   ]
  },
  {
   "cell_type": "markdown",
   "metadata": {},
   "source": [
    "Сформулируем нулевую и альтернативную гипотезы:<br>\n",
    "\n",
    "- H0 - средняя выручка пользователей из Москвы равна средней выручке пользователей из других регионов (в H0 всегда используется знак равенства);<br>\n",
    "- H1 - средняя выручка пользователей из Москвы отличается от выручки пользователей из других регионов.<br>\n",
    "\n",
    "Альтернативная гипотеза у нас двусторонняя, т.к. средняя выручка из Москвы может отличаться от других регионов как в большую так и в меньшую сторону.<br>\n",
    "Для проверки гипотезы воспользуемся методом scipy.stats.ttest_1samp (array, popmean), где в качестве массива данных будет выборка выручки по Москве, а в качестве popmean (предполагаемого среднего) будет выступать среднее значение выручки пользователей из других регионов.<br>\n",
    "<br>\n",
    "*Уровень значимости зададим alpha=0,05*"
   ]
  },
  {
   "cell_type": "code",
   "execution_count": 50,
   "metadata": {},
   "outputs": [
    {
     "name": "stdout",
     "output_type": "stream",
     "text": [
      "p-значение:  0.3859979276331743\n",
      "Не получилось отвергнуть нулевую гипотезу\n"
     ]
    }
   ],
   "source": [
    "moscow_ttest = data_proceeds_pivot[data_proceeds_pivot['city']=='Москва']['proceeds_monthly']\n",
    "\n",
    "popmean = data_proceeds_pivot[data_proceeds_pivot['city']!='Москва']['proceeds_monthly'].mean()\n",
    "\n",
    "# уровень значимости 5%\n",
    "alpha = 0.05\n",
    "\n",
    "results = st.ttest_1samp(moscow_ttest, popmean)\n",
    "\n",
    "print('p-значение: ', results.pvalue)\n",
    "\n",
    "if results.pvalue < alpha:\n",
    "    print(\"Отвергаем нулевую гипотезу\")\n",
    "else:\n",
    "    print(\"Не получилось отвергнуть нулевую гипотезу\")"
   ]
  },
  {
   "cell_type": "markdown",
   "metadata": {},
   "source": [
    "p-уровень значимости практически 39%, что выше нашего заданного порогового значения значимости, а это означает, что средняя выручка по Москве статистически не отличается от средней выручки по регионам."
   ]
  },
  {
   "cell_type": "markdown",
   "metadata": {},
   "source": [
    "## Вывод"
   ]
  },
  {
   "cell_type": "markdown",
   "metadata": {},
   "source": [
    "Проведя анализ тарифов \"Ультра\" и \"Смарт\" на выборке пользователей, можно сделать следующие обобщенные выводы:<br>\n",
    "1) В среднем тарифы по выручке значимо отличаются друг от друга: пользователи тарифа \"Ультра\" платят больше;<br>\n",
    "2) Так как выручка по Моске не отличается от других регионов, то есть смысл рекламную компанию запускать по всей территории распространения сети;<br>\n",
    "3) Самым популярным тарифом является \"Смарт\", так как он дешевле в своей первональном пакете. Но тариф \"Ультра\" является самым прибыльным, так как он дороже и пользователи практически не выходят за рамки тарифного лимита (большой пакет гб и звонков), в то время как пользователи \"Смарт\" стараются в своем большинстве не расходовать больше лимита и соответственно не переплачивать."
   ]
  },
  {
   "cell_type": "code",
   "execution_count": null,
   "metadata": {},
   "outputs": [],
   "source": []
  }
 ],
 "metadata": {
  "ExecuteTimeLog": [
   {
    "duration": 1328,
    "start_time": "2021-12-27T20:24:40.350Z"
   },
   {
    "duration": 229,
    "start_time": "2021-12-27T20:26:11.972Z"
   },
   {
    "duration": 11,
    "start_time": "2021-12-27T20:26:42.757Z"
   },
   {
    "duration": 19,
    "start_time": "2021-12-27T20:27:12.541Z"
   },
   {
    "duration": 208,
    "start_time": "2021-12-27T20:27:37.132Z"
   },
   {
    "duration": 35,
    "start_time": "2021-12-27T20:27:49.319Z"
   },
   {
    "duration": 44,
    "start_time": "2021-12-27T20:28:06.708Z"
   },
   {
    "duration": 184,
    "start_time": "2021-12-27T20:29:20.185Z"
   },
   {
    "duration": 27,
    "start_time": "2021-12-27T20:29:30.310Z"
   },
   {
    "duration": 42,
    "start_time": "2021-12-27T20:29:40.258Z"
   },
   {
    "duration": 131,
    "start_time": "2021-12-27T20:30:33.217Z"
   },
   {
    "duration": 18,
    "start_time": "2021-12-27T20:30:41.159Z"
   },
   {
    "duration": 24,
    "start_time": "2021-12-27T20:30:50.362Z"
   },
   {
    "duration": 27,
    "start_time": "2021-12-27T20:32:45.373Z"
   },
   {
    "duration": 26,
    "start_time": "2021-12-27T20:32:56.003Z"
   },
   {
    "duration": 11,
    "start_time": "2021-12-27T20:33:16.524Z"
   },
   {
    "duration": 46,
    "start_time": "2021-12-27T20:33:25.985Z"
   },
   {
    "duration": 43,
    "start_time": "2021-12-27T20:33:36.457Z"
   },
   {
    "duration": 9,
    "start_time": "2021-12-27T20:33:45.073Z"
   },
   {
    "duration": 21,
    "start_time": "2021-12-27T20:33:57.962Z"
   },
   {
    "duration": 27,
    "start_time": "2021-12-27T20:35:13.660Z"
   },
   {
    "duration": 26,
    "start_time": "2021-12-27T20:35:47.905Z"
   },
   {
    "duration": 7,
    "start_time": "2021-12-27T20:36:38.360Z"
   },
   {
    "duration": 3,
    "start_time": "2021-12-27T21:03:13.839Z"
   },
   {
    "duration": 431,
    "start_time": "2021-12-27T21:05:46.414Z"
   },
   {
    "duration": 6,
    "start_time": "2021-12-27T21:06:24.778Z"
   },
   {
    "duration": 12,
    "start_time": "2021-12-27T21:10:10.975Z"
   },
   {
    "duration": 38,
    "start_time": "2021-12-27T21:12:36.804Z"
   },
   {
    "duration": 34,
    "start_time": "2021-12-27T21:12:59.123Z"
   },
   {
    "duration": 34,
    "start_time": "2021-12-27T21:13:21.863Z"
   },
   {
    "duration": 34,
    "start_time": "2021-12-27T21:13:36.673Z"
   },
   {
    "duration": 298,
    "start_time": "2021-12-27T21:15:31.750Z"
   },
   {
    "duration": 4,
    "start_time": "2021-12-27T21:17:43.568Z"
   },
   {
    "duration": 277,
    "start_time": "2021-12-27T21:19:12.249Z"
   },
   {
    "duration": 52,
    "start_time": "2021-12-27T21:19:45.608Z"
   },
   {
    "duration": 24,
    "start_time": "2021-12-27T21:20:40.695Z"
   },
   {
    "duration": 43,
    "start_time": "2021-12-27T21:22:05.287Z"
   },
   {
    "duration": 569,
    "start_time": "2021-12-27T21:24:14.916Z"
   },
   {
    "duration": 37,
    "start_time": "2021-12-27T21:24:26.633Z"
   },
   {
    "duration": 11,
    "start_time": "2021-12-27T21:26:10.207Z"
   },
   {
    "duration": 3,
    "start_time": "2021-12-27T21:29:37.609Z"
   },
   {
    "duration": 8387,
    "start_time": "2021-12-27T21:30:20.658Z"
   },
   {
    "duration": 19,
    "start_time": "2021-12-27T21:31:24.910Z"
   },
   {
    "duration": 12,
    "start_time": "2021-12-27T21:39:04.214Z"
   },
   {
    "duration": 1328,
    "start_time": "2021-12-28T20:56:12.521Z"
   },
   {
    "duration": 227,
    "start_time": "2021-12-28T20:56:15.127Z"
   },
   {
    "duration": 28,
    "start_time": "2021-12-28T20:56:16.610Z"
   },
   {
    "duration": 37,
    "start_time": "2021-12-28T20:56:17.554Z"
   },
   {
    "duration": 197,
    "start_time": "2021-12-28T20:56:18.454Z"
   },
   {
    "duration": 24,
    "start_time": "2021-12-28T20:56:19.709Z"
   },
   {
    "duration": 40,
    "start_time": "2021-12-28T20:56:20.517Z"
   },
   {
    "duration": 125,
    "start_time": "2021-12-28T20:56:21.236Z"
   },
   {
    "duration": 20,
    "start_time": "2021-12-28T20:56:22.173Z"
   },
   {
    "duration": 20,
    "start_time": "2021-12-28T20:56:22.961Z"
   },
   {
    "duration": 25,
    "start_time": "2021-12-28T20:56:23.673Z"
   },
   {
    "duration": 10,
    "start_time": "2021-12-28T20:56:24.416Z"
   },
   {
    "duration": 43,
    "start_time": "2021-12-28T20:56:24.931Z"
   },
   {
    "duration": 55,
    "start_time": "2021-12-28T20:56:25.490Z"
   },
   {
    "duration": 13,
    "start_time": "2021-12-28T20:56:25.859Z"
   },
   {
    "duration": 25,
    "start_time": "2021-12-28T20:56:26.195Z"
   },
   {
    "duration": 9,
    "start_time": "2021-12-28T20:56:26.643Z"
   },
   {
    "duration": 37,
    "start_time": "2021-12-28T20:56:28.771Z"
   },
   {
    "duration": 335,
    "start_time": "2021-12-28T20:56:29.788Z"
   },
   {
    "duration": 57,
    "start_time": "2021-12-28T20:56:31.330Z"
   },
   {
    "duration": 44,
    "start_time": "2021-12-28T20:56:32.075Z"
   },
   {
    "duration": 37,
    "start_time": "2021-12-28T20:56:32.742Z"
   },
   {
    "duration": 11,
    "start_time": "2021-12-28T20:56:33.385Z"
   },
   {
    "duration": 17,
    "start_time": "2021-12-28T20:56:35.114Z"
   },
   {
    "duration": 13,
    "start_time": "2021-12-28T20:56:35.627Z"
   },
   {
    "duration": 104,
    "start_time": "2021-12-28T21:14:06.735Z"
   },
   {
    "duration": 87,
    "start_time": "2021-12-28T21:14:20.121Z"
   },
   {
    "duration": 96,
    "start_time": "2021-12-28T21:14:23.826Z"
   },
   {
    "duration": 95,
    "start_time": "2021-12-28T21:14:45.807Z"
   },
   {
    "duration": 91,
    "start_time": "2021-12-28T21:15:02.652Z"
   },
   {
    "duration": 99,
    "start_time": "2021-12-28T21:15:10.603Z"
   },
   {
    "duration": 384,
    "start_time": "2021-12-28T21:16:57.834Z"
   },
   {
    "duration": 259,
    "start_time": "2021-12-28T21:17:06.657Z"
   },
   {
    "duration": 291,
    "start_time": "2021-12-28T21:17:16.568Z"
   },
   {
    "duration": 313,
    "start_time": "2021-12-28T21:17:29.696Z"
   },
   {
    "duration": 290,
    "start_time": "2021-12-28T21:17:41.852Z"
   },
   {
    "duration": 305,
    "start_time": "2021-12-28T21:17:56.575Z"
   },
   {
    "duration": 93,
    "start_time": "2021-12-28T21:18:24.002Z"
   },
   {
    "duration": 86,
    "start_time": "2021-12-28T21:18:58.096Z"
   },
   {
    "duration": 311,
    "start_time": "2021-12-28T21:24:52.700Z"
   },
   {
    "duration": 664,
    "start_time": "2021-12-28T21:28:36.991Z"
   },
   {
    "duration": 33,
    "start_time": "2021-12-28T21:31:52.873Z"
   },
   {
    "duration": 42,
    "start_time": "2021-12-28T21:32:11.437Z"
   },
   {
    "duration": 466,
    "start_time": "2021-12-28T21:33:59.479Z"
   },
   {
    "duration": 389,
    "start_time": "2021-12-28T21:34:08.352Z"
   },
   {
    "duration": 84,
    "start_time": "2021-12-28T21:34:12.208Z"
   },
   {
    "duration": 14,
    "start_time": "2021-12-28T21:34:21.582Z"
   },
   {
    "duration": 12,
    "start_time": "2021-12-28T21:34:28.162Z"
   },
   {
    "duration": 83,
    "start_time": "2021-12-28T21:37:39.278Z"
   },
   {
    "duration": 43,
    "start_time": "2021-12-28T21:41:44.033Z"
   },
   {
    "duration": 32,
    "start_time": "2021-12-28T21:45:10.471Z"
   },
   {
    "duration": 335,
    "start_time": "2021-12-28T21:46:57.598Z"
   },
   {
    "duration": 35,
    "start_time": "2021-12-28T21:47:05.545Z"
   },
   {
    "duration": 4,
    "start_time": "2021-12-28T21:48:07.802Z"
   },
   {
    "duration": 56,
    "start_time": "2021-12-28T22:00:33.134Z"
   },
   {
    "duration": 101,
    "start_time": "2021-12-28T22:01:57.868Z"
   },
   {
    "duration": 23,
    "start_time": "2021-12-28T22:10:23.401Z"
   },
   {
    "duration": 9,
    "start_time": "2021-12-28T22:13:50.102Z"
   },
   {
    "duration": 284,
    "start_time": "2021-12-28T22:15:23.244Z"
   },
   {
    "duration": 274,
    "start_time": "2021-12-28T22:16:03.302Z"
   },
   {
    "duration": 290,
    "start_time": "2021-12-28T22:16:08.056Z"
   },
   {
    "duration": 59,
    "start_time": "2021-12-28T22:16:35.925Z"
   },
   {
    "duration": 22,
    "start_time": "2021-12-28T22:16:46.916Z"
   },
   {
    "duration": 308,
    "start_time": "2021-12-28T22:16:53.047Z"
   },
   {
    "duration": 295,
    "start_time": "2021-12-28T22:17:00.924Z"
   },
   {
    "duration": 55,
    "start_time": "2021-12-28T22:17:04.228Z"
   },
   {
    "duration": 130,
    "start_time": "2021-12-28T22:17:08.872Z"
   },
   {
    "duration": 41,
    "start_time": "2021-12-28T22:17:28.963Z"
   },
   {
    "duration": 8,
    "start_time": "2021-12-28T22:17:44.314Z"
   },
   {
    "duration": 10,
    "start_time": "2021-12-28T22:18:45.589Z"
   },
   {
    "duration": 11,
    "start_time": "2021-12-28T22:21:14.945Z"
   },
   {
    "duration": 14,
    "start_time": "2021-12-28T22:26:31.693Z"
   },
   {
    "duration": 18,
    "start_time": "2021-12-28T22:32:24.764Z"
   },
   {
    "duration": 285,
    "start_time": "2021-12-28T22:33:47.197Z"
   },
   {
    "duration": 277,
    "start_time": "2021-12-28T22:34:53.865Z"
   },
   {
    "duration": 335,
    "start_time": "2021-12-28T22:35:44.841Z"
   },
   {
    "duration": 296,
    "start_time": "2021-12-28T22:36:11.192Z"
   },
   {
    "duration": 1418,
    "start_time": "2021-12-28T22:36:49.331Z"
   },
   {
    "duration": 232,
    "start_time": "2021-12-28T22:36:51.331Z"
   },
   {
    "duration": 28,
    "start_time": "2021-12-28T22:36:51.887Z"
   },
   {
    "duration": 38,
    "start_time": "2021-12-28T22:36:52.301Z"
   },
   {
    "duration": 198,
    "start_time": "2021-12-28T22:36:52.597Z"
   },
   {
    "duration": 25,
    "start_time": "2021-12-28T22:36:52.820Z"
   },
   {
    "duration": 47,
    "start_time": "2021-12-28T22:36:53.054Z"
   },
   {
    "duration": 127,
    "start_time": "2021-12-28T22:36:53.283Z"
   },
   {
    "duration": 19,
    "start_time": "2021-12-28T22:36:53.441Z"
   },
   {
    "duration": 21,
    "start_time": "2021-12-28T22:36:53.594Z"
   },
   {
    "duration": 24,
    "start_time": "2021-12-28T22:36:53.746Z"
   },
   {
    "duration": 10,
    "start_time": "2021-12-28T22:36:53.881Z"
   },
   {
    "duration": 42,
    "start_time": "2021-12-28T22:36:54.018Z"
   },
   {
    "duration": 41,
    "start_time": "2021-12-28T22:36:54.155Z"
   },
   {
    "duration": 10,
    "start_time": "2021-12-28T22:36:54.300Z"
   },
   {
    "duration": 23,
    "start_time": "2021-12-28T22:36:54.424Z"
   },
   {
    "duration": 8,
    "start_time": "2021-12-28T22:36:54.543Z"
   },
   {
    "duration": 39,
    "start_time": "2021-12-28T22:36:55.395Z"
   },
   {
    "duration": 302,
    "start_time": "2021-12-28T22:36:55.694Z"
   },
   {
    "duration": 55,
    "start_time": "2021-12-28T22:36:55.999Z"
   },
   {
    "duration": 43,
    "start_time": "2021-12-28T22:36:56.118Z"
   },
   {
    "duration": 35,
    "start_time": "2021-12-28T22:36:56.262Z"
   },
   {
    "duration": 12,
    "start_time": "2021-12-28T22:36:56.409Z"
   },
   {
    "duration": 18,
    "start_time": "2021-12-28T22:36:56.980Z"
   },
   {
    "duration": 12,
    "start_time": "2021-12-28T22:36:57.121Z"
   },
   {
    "duration": 84,
    "start_time": "2021-12-28T22:36:57.876Z"
   },
   {
    "duration": 13,
    "start_time": "2021-12-28T22:36:57.991Z"
   },
   {
    "duration": 13,
    "start_time": "2021-12-28T22:36:58.154Z"
   },
   {
    "duration": 47,
    "start_time": "2021-12-28T22:36:58.625Z"
   },
   {
    "duration": 34,
    "start_time": "2021-12-28T22:36:58.788Z"
   },
   {
    "duration": 31,
    "start_time": "2021-12-28T22:36:58.945Z"
   },
   {
    "duration": 80,
    "start_time": "2021-12-28T22:36:59.445Z"
   },
   {
    "duration": 39,
    "start_time": "2021-12-28T22:36:59.761Z"
   },
   {
    "duration": 17,
    "start_time": "2021-12-28T22:37:00.099Z"
   },
   {
    "duration": 426,
    "start_time": "2021-12-28T22:37:00.235Z"
   },
   {
    "duration": -64,
    "start_time": "2021-12-28T22:37:00.728Z"
   },
   {
    "duration": 56,
    "start_time": "2021-12-28T22:38:24.355Z"
   },
   {
    "duration": 22,
    "start_time": "2021-12-28T22:38:27.288Z"
   },
   {
    "duration": 17,
    "start_time": "2021-12-28T22:38:31.382Z"
   },
   {
    "duration": 307,
    "start_time": "2021-12-28T22:38:37.890Z"
   },
   {
    "duration": 303,
    "start_time": "2021-12-28T22:42:25.440Z"
   },
   {
    "duration": 285,
    "start_time": "2021-12-28T22:48:57.333Z"
   },
   {
    "duration": 341,
    "start_time": "2021-12-28T23:06:06.096Z"
   },
   {
    "duration": 303,
    "start_time": "2021-12-28T23:08:39.875Z"
   },
   {
    "duration": 289,
    "start_time": "2021-12-28T23:10:08.953Z"
   },
   {
    "duration": 12,
    "start_time": "2021-12-28T23:11:20.995Z"
   },
   {
    "duration": 18,
    "start_time": "2021-12-28T23:11:51.582Z"
   },
   {
    "duration": 17,
    "start_time": "2021-12-28T23:12:21.096Z"
   },
   {
    "duration": 12,
    "start_time": "2021-12-28T23:12:23.448Z"
   },
   {
    "duration": 37,
    "start_time": "2021-12-28T23:12:35.259Z"
   },
   {
    "duration": 24,
    "start_time": "2021-12-28T23:13:20.175Z"
   },
   {
    "duration": 13,
    "start_time": "2021-12-28T23:13:51.520Z"
   },
   {
    "duration": 35,
    "start_time": "2021-12-28T23:13:55.416Z"
   },
   {
    "duration": 10,
    "start_time": "2021-12-28T23:14:01.981Z"
   },
   {
    "duration": 15,
    "start_time": "2021-12-28T23:14:05.862Z"
   },
   {
    "duration": 7946,
    "start_time": "2021-12-28T23:25:14.489Z"
   },
   {
    "duration": 7917,
    "start_time": "2021-12-28T23:25:25.956Z"
   },
   {
    "duration": 1599,
    "start_time": "2021-12-28T23:34:01.999Z"
   },
   {
    "duration": 5,
    "start_time": "2021-12-28T23:34:03.601Z"
   },
   {
    "duration": 322,
    "start_time": "2021-12-28T23:34:04.571Z"
   },
   {
    "duration": 28,
    "start_time": "2021-12-28T23:34:05.178Z"
   },
   {
    "duration": 37,
    "start_time": "2021-12-28T23:34:05.376Z"
   },
   {
    "duration": 191,
    "start_time": "2021-12-28T23:34:05.546Z"
   },
   {
    "duration": 33,
    "start_time": "2021-12-28T23:34:05.740Z"
   },
   {
    "duration": 48,
    "start_time": "2021-12-28T23:34:05.817Z"
   },
   {
    "duration": 130,
    "start_time": "2021-12-28T23:34:05.958Z"
   },
   {
    "duration": 20,
    "start_time": "2021-12-28T23:34:06.118Z"
   },
   {
    "duration": 19,
    "start_time": "2021-12-28T23:34:06.249Z"
   },
   {
    "duration": 28,
    "start_time": "2021-12-28T23:34:06.385Z"
   },
   {
    "duration": 9,
    "start_time": "2021-12-28T23:34:06.543Z"
   },
   {
    "duration": 45,
    "start_time": "2021-12-28T23:34:06.681Z"
   },
   {
    "duration": 39,
    "start_time": "2021-12-28T23:34:06.828Z"
   },
   {
    "duration": 9,
    "start_time": "2021-12-28T23:34:06.959Z"
   },
   {
    "duration": 22,
    "start_time": "2021-12-28T23:34:07.107Z"
   },
   {
    "duration": 8,
    "start_time": "2021-12-28T23:34:07.265Z"
   },
   {
    "duration": 38,
    "start_time": "2021-12-28T23:34:08.468Z"
   },
   {
    "duration": 312,
    "start_time": "2021-12-28T23:34:08.776Z"
   },
   {
    "duration": 54,
    "start_time": "2021-12-28T23:34:09.091Z"
   },
   {
    "duration": 44,
    "start_time": "2021-12-28T23:34:09.246Z"
   },
   {
    "duration": 40,
    "start_time": "2021-12-28T23:34:09.402Z"
   },
   {
    "duration": 12,
    "start_time": "2021-12-28T23:34:09.570Z"
   },
   {
    "duration": 21,
    "start_time": "2021-12-28T23:34:10.607Z"
   },
   {
    "duration": 17,
    "start_time": "2021-12-28T23:34:10.845Z"
   },
   {
    "duration": 104,
    "start_time": "2021-12-28T23:34:12.007Z"
   },
   {
    "duration": 18,
    "start_time": "2021-12-28T23:34:12.330Z"
   },
   {
    "duration": 15,
    "start_time": "2021-12-28T23:34:12.601Z"
   },
   {
    "duration": 48,
    "start_time": "2021-12-28T23:34:13.623Z"
   },
   {
    "duration": 33,
    "start_time": "2021-12-28T23:34:13.939Z"
   },
   {
    "duration": 33,
    "start_time": "2021-12-28T23:34:15.634Z"
   },
   {
    "duration": 59,
    "start_time": "2021-12-28T23:34:18.415Z"
   },
   {
    "duration": 21,
    "start_time": "2021-12-28T23:34:19.656Z"
   },
   {
    "duration": 10,
    "start_time": "2021-12-28T23:34:20.314Z"
   },
   {
    "duration": 13,
    "start_time": "2021-12-28T23:34:24.600Z"
   },
   {
    "duration": 27,
    "start_time": "2021-12-28T23:34:27.150Z"
   },
   {
    "duration": 9,
    "start_time": "2021-12-28T23:34:29.719Z"
   },
   {
    "duration": 16,
    "start_time": "2021-12-28T23:34:34.124Z"
   },
   {
    "duration": 435,
    "start_time": "2021-12-28T23:34:38.732Z"
   },
   {
    "duration": 37,
    "start_time": "2021-12-28T23:45:57.314Z"
   },
   {
    "duration": 86,
    "start_time": "2021-12-28T23:48:08.537Z"
   },
   {
    "duration": 3633,
    "start_time": "2021-12-28T23:48:21.474Z"
   },
   {
    "duration": 12,
    "start_time": "2021-12-28T23:50:10.985Z"
   },
   {
    "duration": 393,
    "start_time": "2021-12-29T00:01:37.348Z"
   },
   {
    "duration": 62,
    "start_time": "2021-12-29T00:01:45.878Z"
   },
   {
    "duration": 35,
    "start_time": "2021-12-29T00:13:32.758Z"
   },
   {
    "duration": 7897,
    "start_time": "2021-12-29T00:18:06.819Z"
   },
   {
    "duration": 7210,
    "start_time": "2021-12-29T00:19:13.683Z"
   },
   {
    "duration": 7063,
    "start_time": "2021-12-29T00:20:35.743Z"
   },
   {
    "duration": 7345,
    "start_time": "2021-12-29T00:21:31.484Z"
   },
   {
    "duration": 39,
    "start_time": "2021-12-29T00:22:17.170Z"
   },
   {
    "duration": 733,
    "start_time": "2021-12-29T00:22:21.177Z"
   },
   {
    "duration": 5018,
    "start_time": "2021-12-29T00:22:41.274Z"
   },
   {
    "duration": 5154,
    "start_time": "2021-12-29T00:23:15.391Z"
   },
   {
    "duration": 14,
    "start_time": "2021-12-29T00:37:05.914Z"
   },
   {
    "duration": 12,
    "start_time": "2021-12-29T00:40:10.451Z"
   },
   {
    "duration": 12,
    "start_time": "2021-12-29T00:40:15.193Z"
   },
   {
    "duration": 13,
    "start_time": "2021-12-29T00:44:09.481Z"
   },
   {
    "duration": 1410,
    "start_time": "2021-12-30T18:56:53.823Z"
   },
   {
    "duration": 5,
    "start_time": "2021-12-30T18:56:58.937Z"
   },
   {
    "duration": 233,
    "start_time": "2021-12-30T18:56:59.548Z"
   },
   {
    "duration": 29,
    "start_time": "2021-12-30T18:56:59.913Z"
   },
   {
    "duration": 38,
    "start_time": "2021-12-30T18:57:00.253Z"
   },
   {
    "duration": 188,
    "start_time": "2021-12-30T18:57:00.680Z"
   },
   {
    "duration": 22,
    "start_time": "2021-12-30T18:57:01.088Z"
   },
   {
    "duration": 39,
    "start_time": "2021-12-30T18:57:01.797Z"
   },
   {
    "duration": 121,
    "start_time": "2021-12-30T18:57:02.338Z"
   },
   {
    "duration": 20,
    "start_time": "2021-12-30T18:57:05.371Z"
   },
   {
    "duration": 20,
    "start_time": "2021-12-30T18:57:05.908Z"
   },
   {
    "duration": 26,
    "start_time": "2021-12-30T18:57:09.417Z"
   },
   {
    "duration": 10,
    "start_time": "2021-12-30T18:57:09.929Z"
   },
   {
    "duration": 44,
    "start_time": "2021-12-30T18:57:10.556Z"
   },
   {
    "duration": 48,
    "start_time": "2021-12-30T18:57:11.236Z"
   },
   {
    "duration": 10,
    "start_time": "2021-12-30T18:57:14.253Z"
   },
   {
    "duration": 23,
    "start_time": "2021-12-30T18:57:14.266Z"
   },
   {
    "duration": 12,
    "start_time": "2021-12-30T18:57:14.292Z"
   },
   {
    "duration": 41,
    "start_time": "2021-12-30T18:57:20.122Z"
   },
   {
    "duration": 297,
    "start_time": "2021-12-30T18:57:23.439Z"
   },
   {
    "duration": 91,
    "start_time": "2021-12-30T18:57:24.451Z"
   },
   {
    "duration": 73,
    "start_time": "2021-12-30T18:57:25.235Z"
   },
   {
    "duration": 59,
    "start_time": "2021-12-30T18:57:27.478Z"
   },
   {
    "duration": 17,
    "start_time": "2021-12-30T18:57:27.899Z"
   },
   {
    "duration": 14,
    "start_time": "2021-12-30T18:59:00.879Z"
   },
   {
    "duration": 19,
    "start_time": "2021-12-30T19:07:04.010Z"
   },
   {
    "duration": 13,
    "start_time": "2021-12-30T19:07:05.216Z"
   },
   {
    "duration": 83,
    "start_time": "2021-12-30T19:07:09.610Z"
   },
   {
    "duration": 14,
    "start_time": "2021-12-30T19:07:11.537Z"
   },
   {
    "duration": 17,
    "start_time": "2021-12-30T19:07:12.057Z"
   },
   {
    "duration": -83,
    "start_time": "2021-12-30T19:09:03.302Z"
   },
   {
    "duration": 35,
    "start_time": "2021-12-30T19:09:22.993Z"
   },
   {
    "duration": 34,
    "start_time": "2021-12-30T19:10:06.099Z"
   },
   {
    "duration": 33,
    "start_time": "2021-12-30T19:10:07.524Z"
   },
   {
    "duration": 59,
    "start_time": "2021-12-30T19:11:04.932Z"
   },
   {
    "duration": 20,
    "start_time": "2021-12-30T19:11:21.861Z"
   },
   {
    "duration": 10,
    "start_time": "2021-12-30T19:11:25.512Z"
   },
   {
    "duration": 12,
    "start_time": "2021-12-30T19:11:30.819Z"
   },
   {
    "duration": 27,
    "start_time": "2021-12-30T19:11:32.144Z"
   },
   {
    "duration": 8,
    "start_time": "2021-12-30T19:11:34.060Z"
   },
   {
    "duration": 14,
    "start_time": "2021-12-30T19:11:34.494Z"
   },
   {
    "duration": 423,
    "start_time": "2021-12-30T19:11:34.702Z"
   },
   {
    "duration": 38,
    "start_time": "2021-12-30T19:11:36.064Z"
   },
   {
    "duration": 3374,
    "start_time": "2021-12-30T19:11:36.280Z"
   },
   {
    "duration": 17,
    "start_time": "2021-12-30T19:11:39.657Z"
   },
   {
    "duration": 57,
    "start_time": "2021-12-30T19:11:39.677Z"
   },
   {
    "duration": 62,
    "start_time": "2021-12-30T19:11:39.737Z"
   },
   {
    "duration": 5012,
    "start_time": "2021-12-30T19:11:39.801Z"
   },
   {
    "duration": 13,
    "start_time": "2021-12-30T19:11:44.816Z"
   },
   {
    "duration": 38,
    "start_time": "2021-12-30T19:11:44.831Z"
   }
  ],
  "kernelspec": {
   "display_name": "Python 3 (ipykernel)",
   "language": "python",
   "name": "python3"
  },
  "language_info": {
   "codemirror_mode": {
    "name": "ipython",
    "version": 3
   },
   "file_extension": ".py",
   "mimetype": "text/x-python",
   "name": "python",
   "nbconvert_exporter": "python",
   "pygments_lexer": "ipython3",
   "version": "3.9.7"
  },
  "toc": {
   "base_numbering": 1,
   "nav_menu": {},
   "number_sections": true,
   "sideBar": true,
   "skip_h1_title": true,
   "title_cell": "Table of Contents",
   "title_sidebar": "Contents",
   "toc_cell": false,
   "toc_position": {},
   "toc_section_display": true,
   "toc_window_display": false
  }
 },
 "nbformat": 4,
 "nbformat_minor": 2
}
