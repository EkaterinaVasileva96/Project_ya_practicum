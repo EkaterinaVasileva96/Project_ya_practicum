{
 "cells": [
  {
   "cell_type": "markdown",
   "metadata": {},
   "source": [
    "# Параметры успешной игры."
   ]
  },
  {
   "cell_type": "markdown",
   "metadata": {},
   "source": [
    "Из открытых источников доступны исторические данные о продажах игр, оценки пользователей и экспертов, жанры и платформы (например, Xbox или PlayStation). Нужно выявить определяющие успешность игры закономерности. Это позволит сделать ставку на потенциально популярный продукт и спланировать рекламные кампании.<br>\n",
    "\n",
    "**Описание данных**<br>\n",
    "*Name* — название игры<br>\n",
    "*Platform* — платформа<br>\n",
    "*Year_of_Release* — год выпуска<br>\n",
    "*Genre* — жанр игры<br>\n",
    "*NA_sales* — продажи в Северной Америке (миллионы проданных копий)<br>\n",
    "*EU_sales* — продажи в Европе (миллионы проданных копий)<br>\n",
    "*JP_sales* — продажи в Японии (миллионы проданных копий)<br>\n",
    "*Other_sales* — продажи в других странах (миллионы проданных копий)<br>\n",
    "*Critic_Score* — оценка критиков (максимум 100)<br>\n",
    "*User_Score* — оценка пользователей (максимум 10)<br>\n",
    "*Rating* — рейтинг от организации ESRB (англ. Entertainment Software Rating Board). Эта ассоциация определяет рейтинг компьютерных игр и присваивает им подходящую возрастную категорию.<br>\n",
    "Данные за 2016 год могут быть неполными."
   ]
  },
  {
   "cell_type": "markdown",
   "metadata": {},
   "source": [
    "## Изучение данных"
   ]
  },
  {
   "cell_type": "code",
   "execution_count": 1,
   "metadata": {},
   "outputs": [],
   "source": [
    "#Импортируем все необходимые для работы библиотеки\n",
    "import pandas as pd\n",
    "import math\n",
    "import numpy as np\n",
    "import matplotlib.pyplot as plt\n",
    "from scipy import stats as st\n",
    "import seaborn"
   ]
  },
  {
   "cell_type": "code",
   "execution_count": 2,
   "metadata": {},
   "outputs": [],
   "source": [
    "#устанавливаем опцию вывода всех колонок\n",
    "pd.set_option('display.max_columns', None)"
   ]
  },
  {
   "cell_type": "code",
   "execution_count": 3,
   "metadata": {},
   "outputs": [
    {
     "data": {
      "text/html": [
       "<div>\n",
       "<style scoped>\n",
       "    .dataframe tbody tr th:only-of-type {\n",
       "        vertical-align: middle;\n",
       "    }\n",
       "\n",
       "    .dataframe tbody tr th {\n",
       "        vertical-align: top;\n",
       "    }\n",
       "\n",
       "    .dataframe thead th {\n",
       "        text-align: right;\n",
       "    }\n",
       "</style>\n",
       "<table border=\"1\" class=\"dataframe\">\n",
       "  <thead>\n",
       "    <tr style=\"text-align: right;\">\n",
       "      <th></th>\n",
       "      <th>Name</th>\n",
       "      <th>Platform</th>\n",
       "      <th>Year_of_Release</th>\n",
       "      <th>Genre</th>\n",
       "      <th>NA_sales</th>\n",
       "      <th>EU_sales</th>\n",
       "      <th>JP_sales</th>\n",
       "      <th>Other_sales</th>\n",
       "      <th>Critic_Score</th>\n",
       "      <th>User_Score</th>\n",
       "      <th>Rating</th>\n",
       "    </tr>\n",
       "  </thead>\n",
       "  <tbody>\n",
       "    <tr>\n",
       "      <td>0</td>\n",
       "      <td>Wii Sports</td>\n",
       "      <td>Wii</td>\n",
       "      <td>2006.0</td>\n",
       "      <td>Sports</td>\n",
       "      <td>41.36</td>\n",
       "      <td>28.96</td>\n",
       "      <td>3.77</td>\n",
       "      <td>8.45</td>\n",
       "      <td>76.0</td>\n",
       "      <td>8</td>\n",
       "      <td>E</td>\n",
       "    </tr>\n",
       "    <tr>\n",
       "      <td>1</td>\n",
       "      <td>Super Mario Bros.</td>\n",
       "      <td>NES</td>\n",
       "      <td>1985.0</td>\n",
       "      <td>Platform</td>\n",
       "      <td>29.08</td>\n",
       "      <td>3.58</td>\n",
       "      <td>6.81</td>\n",
       "      <td>0.77</td>\n",
       "      <td>NaN</td>\n",
       "      <td>NaN</td>\n",
       "      <td>NaN</td>\n",
       "    </tr>\n",
       "    <tr>\n",
       "      <td>2</td>\n",
       "      <td>Mario Kart Wii</td>\n",
       "      <td>Wii</td>\n",
       "      <td>2008.0</td>\n",
       "      <td>Racing</td>\n",
       "      <td>15.68</td>\n",
       "      <td>12.76</td>\n",
       "      <td>3.79</td>\n",
       "      <td>3.29</td>\n",
       "      <td>82.0</td>\n",
       "      <td>8.3</td>\n",
       "      <td>E</td>\n",
       "    </tr>\n",
       "    <tr>\n",
       "      <td>3</td>\n",
       "      <td>Wii Sports Resort</td>\n",
       "      <td>Wii</td>\n",
       "      <td>2009.0</td>\n",
       "      <td>Sports</td>\n",
       "      <td>15.61</td>\n",
       "      <td>10.93</td>\n",
       "      <td>3.28</td>\n",
       "      <td>2.95</td>\n",
       "      <td>80.0</td>\n",
       "      <td>8</td>\n",
       "      <td>E</td>\n",
       "    </tr>\n",
       "    <tr>\n",
       "      <td>4</td>\n",
       "      <td>Pokemon Red/Pokemon Blue</td>\n",
       "      <td>GB</td>\n",
       "      <td>1996.0</td>\n",
       "      <td>Role-Playing</td>\n",
       "      <td>11.27</td>\n",
       "      <td>8.89</td>\n",
       "      <td>10.22</td>\n",
       "      <td>1.00</td>\n",
       "      <td>NaN</td>\n",
       "      <td>NaN</td>\n",
       "      <td>NaN</td>\n",
       "    </tr>\n",
       "    <tr>\n",
       "      <td>5</td>\n",
       "      <td>Tetris</td>\n",
       "      <td>GB</td>\n",
       "      <td>1989.0</td>\n",
       "      <td>Puzzle</td>\n",
       "      <td>23.20</td>\n",
       "      <td>2.26</td>\n",
       "      <td>4.22</td>\n",
       "      <td>0.58</td>\n",
       "      <td>NaN</td>\n",
       "      <td>NaN</td>\n",
       "      <td>NaN</td>\n",
       "    </tr>\n",
       "    <tr>\n",
       "      <td>6</td>\n",
       "      <td>New Super Mario Bros.</td>\n",
       "      <td>DS</td>\n",
       "      <td>2006.0</td>\n",
       "      <td>Platform</td>\n",
       "      <td>11.28</td>\n",
       "      <td>9.14</td>\n",
       "      <td>6.50</td>\n",
       "      <td>2.88</td>\n",
       "      <td>89.0</td>\n",
       "      <td>8.5</td>\n",
       "      <td>E</td>\n",
       "    </tr>\n",
       "    <tr>\n",
       "      <td>7</td>\n",
       "      <td>Wii Play</td>\n",
       "      <td>Wii</td>\n",
       "      <td>2006.0</td>\n",
       "      <td>Misc</td>\n",
       "      <td>13.96</td>\n",
       "      <td>9.18</td>\n",
       "      <td>2.93</td>\n",
       "      <td>2.84</td>\n",
       "      <td>58.0</td>\n",
       "      <td>6.6</td>\n",
       "      <td>E</td>\n",
       "    </tr>\n",
       "    <tr>\n",
       "      <td>8</td>\n",
       "      <td>New Super Mario Bros. Wii</td>\n",
       "      <td>Wii</td>\n",
       "      <td>2009.0</td>\n",
       "      <td>Platform</td>\n",
       "      <td>14.44</td>\n",
       "      <td>6.94</td>\n",
       "      <td>4.70</td>\n",
       "      <td>2.24</td>\n",
       "      <td>87.0</td>\n",
       "      <td>8.4</td>\n",
       "      <td>E</td>\n",
       "    </tr>\n",
       "    <tr>\n",
       "      <td>9</td>\n",
       "      <td>Duck Hunt</td>\n",
       "      <td>NES</td>\n",
       "      <td>1984.0</td>\n",
       "      <td>Shooter</td>\n",
       "      <td>26.93</td>\n",
       "      <td>0.63</td>\n",
       "      <td>0.28</td>\n",
       "      <td>0.47</td>\n",
       "      <td>NaN</td>\n",
       "      <td>NaN</td>\n",
       "      <td>NaN</td>\n",
       "    </tr>\n",
       "  </tbody>\n",
       "</table>\n",
       "</div>"
      ],
      "text/plain": [
       "                        Name Platform  Year_of_Release         Genre  \\\n",
       "0                 Wii Sports      Wii           2006.0        Sports   \n",
       "1          Super Mario Bros.      NES           1985.0      Platform   \n",
       "2             Mario Kart Wii      Wii           2008.0        Racing   \n",
       "3          Wii Sports Resort      Wii           2009.0        Sports   \n",
       "4   Pokemon Red/Pokemon Blue       GB           1996.0  Role-Playing   \n",
       "5                     Tetris       GB           1989.0        Puzzle   \n",
       "6      New Super Mario Bros.       DS           2006.0      Platform   \n",
       "7                   Wii Play      Wii           2006.0          Misc   \n",
       "8  New Super Mario Bros. Wii      Wii           2009.0      Platform   \n",
       "9                  Duck Hunt      NES           1984.0       Shooter   \n",
       "\n",
       "   NA_sales  EU_sales  JP_sales  Other_sales  Critic_Score User_Score Rating  \n",
       "0     41.36     28.96      3.77         8.45          76.0          8      E  \n",
       "1     29.08      3.58      6.81         0.77           NaN        NaN    NaN  \n",
       "2     15.68     12.76      3.79         3.29          82.0        8.3      E  \n",
       "3     15.61     10.93      3.28         2.95          80.0          8      E  \n",
       "4     11.27      8.89     10.22         1.00           NaN        NaN    NaN  \n",
       "5     23.20      2.26      4.22         0.58           NaN        NaN    NaN  \n",
       "6     11.28      9.14      6.50         2.88          89.0        8.5      E  \n",
       "7     13.96      9.18      2.93         2.84          58.0        6.6      E  \n",
       "8     14.44      6.94      4.70         2.24          87.0        8.4      E  \n",
       "9     26.93      0.63      0.28         0.47           NaN        NaN    NaN  "
      ]
     },
     "execution_count": 3,
     "metadata": {},
     "output_type": "execute_result"
    }
   ],
   "source": [
    "data = pd.read_csv('/datasets/games.csv')\n",
    "data.head(10)"
   ]
  },
  {
   "cell_type": "code",
   "execution_count": 4,
   "metadata": {},
   "outputs": [
    {
     "name": "stdout",
     "output_type": "stream",
     "text": [
      "<class 'pandas.core.frame.DataFrame'>\n",
      "RangeIndex: 16715 entries, 0 to 16714\n",
      "Data columns (total 11 columns):\n",
      "Name               16713 non-null object\n",
      "Platform           16715 non-null object\n",
      "Year_of_Release    16446 non-null float64\n",
      "Genre              16713 non-null object\n",
      "NA_sales           16715 non-null float64\n",
      "EU_sales           16715 non-null float64\n",
      "JP_sales           16715 non-null float64\n",
      "Other_sales        16715 non-null float64\n",
      "Critic_Score       8137 non-null float64\n",
      "User_Score         10014 non-null object\n",
      "Rating             9949 non-null object\n",
      "dtypes: float64(6), object(5)\n",
      "memory usage: 1.4+ MB\n"
     ]
    }
   ],
   "source": [
    "data.info()"
   ]
  },
  {
   "cell_type": "code",
   "execution_count": 5,
   "metadata": {},
   "outputs": [
    {
     "data": {
      "text/html": [
       "<div>\n",
       "<style scoped>\n",
       "    .dataframe tbody tr th:only-of-type {\n",
       "        vertical-align: middle;\n",
       "    }\n",
       "\n",
       "    .dataframe tbody tr th {\n",
       "        vertical-align: top;\n",
       "    }\n",
       "\n",
       "    .dataframe thead th {\n",
       "        text-align: right;\n",
       "    }\n",
       "</style>\n",
       "<table border=\"1\" class=\"dataframe\">\n",
       "  <thead>\n",
       "    <tr style=\"text-align: right;\">\n",
       "      <th></th>\n",
       "      <th>Year_of_Release</th>\n",
       "      <th>NA_sales</th>\n",
       "      <th>EU_sales</th>\n",
       "      <th>JP_sales</th>\n",
       "      <th>Other_sales</th>\n",
       "      <th>Critic_Score</th>\n",
       "    </tr>\n",
       "  </thead>\n",
       "  <tbody>\n",
       "    <tr>\n",
       "      <td>count</td>\n",
       "      <td>16446.000000</td>\n",
       "      <td>16715.000000</td>\n",
       "      <td>16715.000000</td>\n",
       "      <td>16715.000000</td>\n",
       "      <td>16715.000000</td>\n",
       "      <td>8137.000000</td>\n",
       "    </tr>\n",
       "    <tr>\n",
       "      <td>mean</td>\n",
       "      <td>2006.484616</td>\n",
       "      <td>0.263377</td>\n",
       "      <td>0.145060</td>\n",
       "      <td>0.077617</td>\n",
       "      <td>0.047342</td>\n",
       "      <td>68.967679</td>\n",
       "    </tr>\n",
       "    <tr>\n",
       "      <td>std</td>\n",
       "      <td>5.877050</td>\n",
       "      <td>0.813604</td>\n",
       "      <td>0.503339</td>\n",
       "      <td>0.308853</td>\n",
       "      <td>0.186731</td>\n",
       "      <td>13.938165</td>\n",
       "    </tr>\n",
       "    <tr>\n",
       "      <td>min</td>\n",
       "      <td>1980.000000</td>\n",
       "      <td>0.000000</td>\n",
       "      <td>0.000000</td>\n",
       "      <td>0.000000</td>\n",
       "      <td>0.000000</td>\n",
       "      <td>13.000000</td>\n",
       "    </tr>\n",
       "    <tr>\n",
       "      <td>25%</td>\n",
       "      <td>2003.000000</td>\n",
       "      <td>0.000000</td>\n",
       "      <td>0.000000</td>\n",
       "      <td>0.000000</td>\n",
       "      <td>0.000000</td>\n",
       "      <td>60.000000</td>\n",
       "    </tr>\n",
       "    <tr>\n",
       "      <td>50%</td>\n",
       "      <td>2007.000000</td>\n",
       "      <td>0.080000</td>\n",
       "      <td>0.020000</td>\n",
       "      <td>0.000000</td>\n",
       "      <td>0.010000</td>\n",
       "      <td>71.000000</td>\n",
       "    </tr>\n",
       "    <tr>\n",
       "      <td>75%</td>\n",
       "      <td>2010.000000</td>\n",
       "      <td>0.240000</td>\n",
       "      <td>0.110000</td>\n",
       "      <td>0.040000</td>\n",
       "      <td>0.030000</td>\n",
       "      <td>79.000000</td>\n",
       "    </tr>\n",
       "    <tr>\n",
       "      <td>max</td>\n",
       "      <td>2016.000000</td>\n",
       "      <td>41.360000</td>\n",
       "      <td>28.960000</td>\n",
       "      <td>10.220000</td>\n",
       "      <td>10.570000</td>\n",
       "      <td>98.000000</td>\n",
       "    </tr>\n",
       "  </tbody>\n",
       "</table>\n",
       "</div>"
      ],
      "text/plain": [
       "       Year_of_Release      NA_sales      EU_sales      JP_sales  \\\n",
       "count     16446.000000  16715.000000  16715.000000  16715.000000   \n",
       "mean       2006.484616      0.263377      0.145060      0.077617   \n",
       "std           5.877050      0.813604      0.503339      0.308853   \n",
       "min        1980.000000      0.000000      0.000000      0.000000   \n",
       "25%        2003.000000      0.000000      0.000000      0.000000   \n",
       "50%        2007.000000      0.080000      0.020000      0.000000   \n",
       "75%        2010.000000      0.240000      0.110000      0.040000   \n",
       "max        2016.000000     41.360000     28.960000     10.220000   \n",
       "\n",
       "        Other_sales  Critic_Score  \n",
       "count  16715.000000   8137.000000  \n",
       "mean       0.047342     68.967679  \n",
       "std        0.186731     13.938165  \n",
       "min        0.000000     13.000000  \n",
       "25%        0.000000     60.000000  \n",
       "50%        0.010000     71.000000  \n",
       "75%        0.030000     79.000000  \n",
       "max       10.570000     98.000000  "
      ]
     },
     "execution_count": 5,
     "metadata": {},
     "output_type": "execute_result"
    }
   ],
   "source": [
    "data.describe()"
   ]
  },
  {
   "cell_type": "code",
   "execution_count": 6,
   "metadata": {},
   "outputs": [
    {
     "data": {
      "text/plain": [
       "Name                  2\n",
       "Platform              0\n",
       "Year_of_Release     269\n",
       "Genre                 2\n",
       "NA_sales              0\n",
       "EU_sales              0\n",
       "JP_sales              0\n",
       "Other_sales           0\n",
       "Critic_Score       8578\n",
       "User_Score         6701\n",
       "Rating             6766\n",
       "dtype: int64"
      ]
     },
     "execution_count": 6,
     "metadata": {},
     "output_type": "execute_result"
    }
   ],
   "source": [
    "#подсчитаем количество пропусков по столбцам\n",
    "data.isna().sum()"
   ]
  },
  {
   "cell_type": "code",
   "execution_count": 7,
   "metadata": {},
   "outputs": [
    {
     "data": {
      "text/plain": [
       "0"
      ]
     },
     "execution_count": 7,
     "metadata": {},
     "output_type": "execute_result"
    }
   ],
   "source": [
    "#сразу проверим на наличие дубликатов\n",
    "data.duplicated().sum()"
   ]
  },
  {
   "cell_type": "markdown",
   "metadata": {},
   "source": [
    "***Вывод***\n",
    "\n",
    "В *Year_of_Releas* необходимо заменить тип данных на целочисленный, так как значении года нет дробной части.<br>\n",
    "В *User_Score* также нужно заметить тип данных, но уже на float.<br>\n",
    "Большое количество пропусков в столбцах *Critic_Score*, *User_Score* и *Rating*. Так же присутствуют в меньшем количестве пропуски в столбцах *Year_of_Release*, *Name* и *Genre*. Способы работы с пропусками будут расмотрены на следующем этапе.<br>\n",
    "Дубликаты отсутсвуют.<br>\n",
    "По описательным данным, можно увидеть, что данные берут свое начало с 1980 года. "
   ]
  },
  {
   "cell_type": "markdown",
   "metadata": {},
   "source": [
    "***"
   ]
  },
  {
   "cell_type": "markdown",
   "metadata": {},
   "source": [
    "## Подготовка данных"
   ]
  },
  {
   "cell_type": "markdown",
   "metadata": {},
   "source": [
    "*Приведем названия столбцов к нижнему регистру, заполним пропуски и преобразуем типы данных.*"
   ]
  },
  {
   "cell_type": "code",
   "execution_count": 8,
   "metadata": {},
   "outputs": [
    {
     "data": {
      "text/plain": [
       "Index(['name', 'platform', 'year_of_release', 'genre', 'na_sales', 'eu_sales',\n",
       "       'jp_sales', 'other_sales', 'critic_score', 'user_score', 'rating'],\n",
       "      dtype='object')"
      ]
     },
     "execution_count": 8,
     "metadata": {},
     "output_type": "execute_result"
    }
   ],
   "source": [
    "data.columns = data.columns.str.lower()\n",
    "\n",
    "data.columns"
   ]
  },
  {
   "cell_type": "code",
   "execution_count": 9,
   "metadata": {},
   "outputs": [
    {
     "data": {
      "text/html": [
       "<div>\n",
       "<style scoped>\n",
       "    .dataframe tbody tr th:only-of-type {\n",
       "        vertical-align: middle;\n",
       "    }\n",
       "\n",
       "    .dataframe tbody tr th {\n",
       "        vertical-align: top;\n",
       "    }\n",
       "\n",
       "    .dataframe thead th {\n",
       "        text-align: right;\n",
       "    }\n",
       "</style>\n",
       "<table border=\"1\" class=\"dataframe\">\n",
       "  <thead>\n",
       "    <tr style=\"text-align: right;\">\n",
       "      <th></th>\n",
       "      <th>name</th>\n",
       "      <th>platform</th>\n",
       "      <th>year_of_release</th>\n",
       "      <th>genre</th>\n",
       "      <th>na_sales</th>\n",
       "      <th>eu_sales</th>\n",
       "      <th>jp_sales</th>\n",
       "      <th>other_sales</th>\n",
       "      <th>critic_score</th>\n",
       "      <th>user_score</th>\n",
       "      <th>rating</th>\n",
       "    </tr>\n",
       "  </thead>\n",
       "  <tbody>\n",
       "    <tr>\n",
       "      <td>183</td>\n",
       "      <td>Madden NFL 2004</td>\n",
       "      <td>PS2</td>\n",
       "      <td>NaN</td>\n",
       "      <td>Sports</td>\n",
       "      <td>4.26</td>\n",
       "      <td>0.26</td>\n",
       "      <td>0.01</td>\n",
       "      <td>0.71</td>\n",
       "      <td>94.0</td>\n",
       "      <td>8.5</td>\n",
       "      <td>E</td>\n",
       "    </tr>\n",
       "    <tr>\n",
       "      <td>377</td>\n",
       "      <td>FIFA Soccer 2004</td>\n",
       "      <td>PS2</td>\n",
       "      <td>NaN</td>\n",
       "      <td>Sports</td>\n",
       "      <td>0.59</td>\n",
       "      <td>2.36</td>\n",
       "      <td>0.04</td>\n",
       "      <td>0.51</td>\n",
       "      <td>84.0</td>\n",
       "      <td>6.4</td>\n",
       "      <td>E</td>\n",
       "    </tr>\n",
       "    <tr>\n",
       "      <td>456</td>\n",
       "      <td>LEGO Batman: The Videogame</td>\n",
       "      <td>Wii</td>\n",
       "      <td>NaN</td>\n",
       "      <td>Action</td>\n",
       "      <td>1.80</td>\n",
       "      <td>0.97</td>\n",
       "      <td>0.00</td>\n",
       "      <td>0.29</td>\n",
       "      <td>74.0</td>\n",
       "      <td>7.9</td>\n",
       "      <td>E10+</td>\n",
       "    </tr>\n",
       "    <tr>\n",
       "      <td>475</td>\n",
       "      <td>wwe Smackdown vs. Raw 2006</td>\n",
       "      <td>PS2</td>\n",
       "      <td>NaN</td>\n",
       "      <td>Fighting</td>\n",
       "      <td>1.57</td>\n",
       "      <td>1.02</td>\n",
       "      <td>0.00</td>\n",
       "      <td>0.41</td>\n",
       "      <td>NaN</td>\n",
       "      <td>NaN</td>\n",
       "      <td>NaN</td>\n",
       "    </tr>\n",
       "    <tr>\n",
       "      <td>609</td>\n",
       "      <td>Space Invaders</td>\n",
       "      <td>2600</td>\n",
       "      <td>NaN</td>\n",
       "      <td>Shooter</td>\n",
       "      <td>2.36</td>\n",
       "      <td>0.14</td>\n",
       "      <td>0.00</td>\n",
       "      <td>0.03</td>\n",
       "      <td>NaN</td>\n",
       "      <td>NaN</td>\n",
       "      <td>NaN</td>\n",
       "    </tr>\n",
       "    <tr>\n",
       "      <td>627</td>\n",
       "      <td>Rock Band</td>\n",
       "      <td>X360</td>\n",
       "      <td>NaN</td>\n",
       "      <td>Misc</td>\n",
       "      <td>1.93</td>\n",
       "      <td>0.33</td>\n",
       "      <td>0.00</td>\n",
       "      <td>0.21</td>\n",
       "      <td>92.0</td>\n",
       "      <td>8.2</td>\n",
       "      <td>T</td>\n",
       "    </tr>\n",
       "    <tr>\n",
       "      <td>657</td>\n",
       "      <td>Frogger's Adventures: Temple of the Frog</td>\n",
       "      <td>GBA</td>\n",
       "      <td>NaN</td>\n",
       "      <td>Adventure</td>\n",
       "      <td>2.15</td>\n",
       "      <td>0.18</td>\n",
       "      <td>0.00</td>\n",
       "      <td>0.07</td>\n",
       "      <td>73.0</td>\n",
       "      <td>tbd</td>\n",
       "      <td>E</td>\n",
       "    </tr>\n",
       "    <tr>\n",
       "      <td>678</td>\n",
       "      <td>LEGO Indiana Jones: The Original Adventures</td>\n",
       "      <td>Wii</td>\n",
       "      <td>NaN</td>\n",
       "      <td>Action</td>\n",
       "      <td>1.51</td>\n",
       "      <td>0.61</td>\n",
       "      <td>0.00</td>\n",
       "      <td>0.21</td>\n",
       "      <td>78.0</td>\n",
       "      <td>6.6</td>\n",
       "      <td>E10+</td>\n",
       "    </tr>\n",
       "    <tr>\n",
       "      <td>719</td>\n",
       "      <td>Call of Duty 3</td>\n",
       "      <td>Wii</td>\n",
       "      <td>NaN</td>\n",
       "      <td>Shooter</td>\n",
       "      <td>1.17</td>\n",
       "      <td>0.84</td>\n",
       "      <td>0.00</td>\n",
       "      <td>0.23</td>\n",
       "      <td>69.0</td>\n",
       "      <td>6.7</td>\n",
       "      <td>T</td>\n",
       "    </tr>\n",
       "    <tr>\n",
       "      <td>805</td>\n",
       "      <td>Rock Band</td>\n",
       "      <td>Wii</td>\n",
       "      <td>NaN</td>\n",
       "      <td>Misc</td>\n",
       "      <td>1.33</td>\n",
       "      <td>0.56</td>\n",
       "      <td>0.00</td>\n",
       "      <td>0.20</td>\n",
       "      <td>80.0</td>\n",
       "      <td>6.3</td>\n",
       "      <td>T</td>\n",
       "    </tr>\n",
       "    <tr>\n",
       "      <td>1131</td>\n",
       "      <td>Call of Duty: Black Ops</td>\n",
       "      <td>PC</td>\n",
       "      <td>NaN</td>\n",
       "      <td>Shooter</td>\n",
       "      <td>0.58</td>\n",
       "      <td>0.81</td>\n",
       "      <td>0.00</td>\n",
       "      <td>0.23</td>\n",
       "      <td>81.0</td>\n",
       "      <td>5.2</td>\n",
       "      <td>M</td>\n",
       "    </tr>\n",
       "    <tr>\n",
       "      <td>1142</td>\n",
       "      <td>Rock Band</td>\n",
       "      <td>PS3</td>\n",
       "      <td>NaN</td>\n",
       "      <td>Misc</td>\n",
       "      <td>0.99</td>\n",
       "      <td>0.41</td>\n",
       "      <td>0.00</td>\n",
       "      <td>0.22</td>\n",
       "      <td>92.0</td>\n",
       "      <td>8.4</td>\n",
       "      <td>T</td>\n",
       "    </tr>\n",
       "    <tr>\n",
       "      <td>1301</td>\n",
       "      <td>Triple Play 99</td>\n",
       "      <td>PS</td>\n",
       "      <td>NaN</td>\n",
       "      <td>Sports</td>\n",
       "      <td>0.81</td>\n",
       "      <td>0.55</td>\n",
       "      <td>0.00</td>\n",
       "      <td>0.10</td>\n",
       "      <td>NaN</td>\n",
       "      <td>NaN</td>\n",
       "      <td>NaN</td>\n",
       "    </tr>\n",
       "    <tr>\n",
       "      <td>1506</td>\n",
       "      <td>Adventure</td>\n",
       "      <td>2600</td>\n",
       "      <td>NaN</td>\n",
       "      <td>Adventure</td>\n",
       "      <td>1.21</td>\n",
       "      <td>0.08</td>\n",
       "      <td>0.00</td>\n",
       "      <td>0.01</td>\n",
       "      <td>NaN</td>\n",
       "      <td>NaN</td>\n",
       "      <td>NaN</td>\n",
       "    </tr>\n",
       "    <tr>\n",
       "      <td>1538</td>\n",
       "      <td>LEGO Batman: The Videogame</td>\n",
       "      <td>PSP</td>\n",
       "      <td>NaN</td>\n",
       "      <td>Action</td>\n",
       "      <td>0.57</td>\n",
       "      <td>0.44</td>\n",
       "      <td>0.00</td>\n",
       "      <td>0.27</td>\n",
       "      <td>73.0</td>\n",
       "      <td>7.4</td>\n",
       "      <td>E10+</td>\n",
       "    </tr>\n",
       "  </tbody>\n",
       "</table>\n",
       "</div>"
      ],
      "text/plain": [
       "                                             name platform  year_of_release  \\\n",
       "183                               Madden NFL 2004      PS2              NaN   \n",
       "377                              FIFA Soccer 2004      PS2              NaN   \n",
       "456                    LEGO Batman: The Videogame      Wii              NaN   \n",
       "475                    wwe Smackdown vs. Raw 2006      PS2              NaN   \n",
       "609                                Space Invaders     2600              NaN   \n",
       "627                                     Rock Band     X360              NaN   \n",
       "657      Frogger's Adventures: Temple of the Frog      GBA              NaN   \n",
       "678   LEGO Indiana Jones: The Original Adventures      Wii              NaN   \n",
       "719                                Call of Duty 3      Wii              NaN   \n",
       "805                                     Rock Band      Wii              NaN   \n",
       "1131                      Call of Duty: Black Ops       PC              NaN   \n",
       "1142                                    Rock Band      PS3              NaN   \n",
       "1301                               Triple Play 99       PS              NaN   \n",
       "1506                                    Adventure     2600              NaN   \n",
       "1538                   LEGO Batman: The Videogame      PSP              NaN   \n",
       "\n",
       "          genre  na_sales  eu_sales  jp_sales  other_sales  critic_score  \\\n",
       "183      Sports      4.26      0.26      0.01         0.71          94.0   \n",
       "377      Sports      0.59      2.36      0.04         0.51          84.0   \n",
       "456      Action      1.80      0.97      0.00         0.29          74.0   \n",
       "475    Fighting      1.57      1.02      0.00         0.41           NaN   \n",
       "609     Shooter      2.36      0.14      0.00         0.03           NaN   \n",
       "627        Misc      1.93      0.33      0.00         0.21          92.0   \n",
       "657   Adventure      2.15      0.18      0.00         0.07          73.0   \n",
       "678      Action      1.51      0.61      0.00         0.21          78.0   \n",
       "719     Shooter      1.17      0.84      0.00         0.23          69.0   \n",
       "805        Misc      1.33      0.56      0.00         0.20          80.0   \n",
       "1131    Shooter      0.58      0.81      0.00         0.23          81.0   \n",
       "1142       Misc      0.99      0.41      0.00         0.22          92.0   \n",
       "1301     Sports      0.81      0.55      0.00         0.10           NaN   \n",
       "1506  Adventure      1.21      0.08      0.00         0.01           NaN   \n",
       "1538     Action      0.57      0.44      0.00         0.27          73.0   \n",
       "\n",
       "     user_score rating  \n",
       "183         8.5      E  \n",
       "377         6.4      E  \n",
       "456         7.9   E10+  \n",
       "475         NaN    NaN  \n",
       "609         NaN    NaN  \n",
       "627         8.2      T  \n",
       "657         tbd      E  \n",
       "678         6.6   E10+  \n",
       "719         6.7      T  \n",
       "805         6.3      T  \n",
       "1131        5.2      M  \n",
       "1142        8.4      T  \n",
       "1301        NaN    NaN  \n",
       "1506        NaN    NaN  \n",
       "1538        7.4   E10+  "
      ]
     },
     "execution_count": 9,
     "metadata": {},
     "output_type": "execute_result"
    }
   ],
   "source": [
    "data.loc[data['year_of_release'].isna()].head(15)"
   ]
  },
  {
   "cell_type": "markdown",
   "metadata": {},
   "source": [
    "Заполнение пропусков в данном случае будет проблематично, так как тут не заполнить средним значением или модой, так как данные будут сильно искажены. Вручную заполнение могло бы быть возможным при наличии данных до выгрузки (что скорее всего и привело к пропускам - год должен быть у каждой игры, а значит это ошибка выгрузки), но так как пропущенных значений 269, то это так же займет много времени. Единственный вариант - это удалить строки с пропущенными значениями."
   ]
  },
  {
   "cell_type": "code",
   "execution_count": 10,
   "metadata": {},
   "outputs": [
    {
     "name": "stdout",
     "output_type": "stream",
     "text": [
      "<class 'pandas.core.frame.DataFrame'>\n",
      "Int64Index: 16444 entries, 0 to 16714\n",
      "Data columns (total 11 columns):\n",
      "name               16444 non-null object\n",
      "platform           16444 non-null object\n",
      "year_of_release    16444 non-null float64\n",
      "genre              16444 non-null object\n",
      "na_sales           16444 non-null float64\n",
      "eu_sales           16444 non-null float64\n",
      "jp_sales           16444 non-null float64\n",
      "other_sales        16444 non-null float64\n",
      "critic_score       7983 non-null float64\n",
      "user_score         9839 non-null object\n",
      "rating             9768 non-null object\n",
      "dtypes: float64(6), object(5)\n",
      "memory usage: 1.5+ MB\n"
     ]
    }
   ],
   "source": [
    "data.dropna(subset=['year_of_release'],inplace=True)\n",
    "#заодно удалим два пропущенных значения в названии игр, так как их тоже нет возможности заполнить \n",
    "#какими-либо значениями и их удаление не повлияет на данные\n",
    "data.dropna(subset=['name'],inplace=True)\n",
    "\n",
    "data.info()"
   ]
  },
  {
   "cell_type": "markdown",
   "metadata": {},
   "source": [
    "После удаления оказалось, что отсутсвие названия игры совпадало с отсутсвием жанра"
   ]
  },
  {
   "cell_type": "markdown",
   "metadata": {},
   "source": [
    "Теперь необходимо избавиться от пропусков в столбцах с рейтингом и оценкамим критиков и пользователей.<br>\n",
    "В данных присутсвтует значение tbd - to be determined - подлежит определению и RP - рейтинг ожидается: означает, что оценки еще находятся на рассмотрении или рейтинг еще не проставлен. Такие значения было бы логично заменить на пропуски *NaN*, так как никакой конкретики такие данные нам не дадут. <br>\n",
    "Непосредственные пропуски не получится заменить средними/модами/медианами, это будет некорректно, так же как и если удалить эти строки, так как их слишком много, составлять почти половину всех данных и удаление, ровно как и замена могут сильно исказить итоговый результат.<br>\n",
    "Причина может быть на стороне источника данных ( у нас нет возможности обратиться к нему напрямую).<br>\n",
    "\n",
    "Стоит рассмотреть, как появлялись пропуски со временем, чтобы подобрать верный способо работы с пропусками."
   ]
  },
  {
   "cell_type": "code",
   "execution_count": 11,
   "metadata": {},
   "outputs": [
    {
     "data": {
      "image/png": "[encoded data removed]",
      "text/plain": [
       "<Figure size 1440x360 with 1 Axes>"
      ]
     },
     "metadata": {
      "needs_background": "light"
     },
     "output_type": "display_data"
    }
   ],
   "source": [
    "#построим диаграмму, чтобы было нагляднее представить данные \n",
    "fig, ax = plt.subplots(figsize=[20,5])\n",
    "data.loc[data['critic_score'].isna(),'year_of_release'].hist(alpha=0.5,color='green')\n",
    "\n",
    "data.loc[data['user_score'].isna(),'year_of_release'].hist(alpha=0.5, color='blue')\n",
    "\n",
    "data.loc[data['rating'].isna(),'year_of_release'].hist(alpha=0.5, color='yellow')\n",
    "\n",
    "plt.show()"
   ]
  },
  {
   "cell_type": "markdown",
   "metadata": {},
   "source": [
    "Что примечательно, рейтинг и оценка пользователей сливаются на графике (если заккоментировать одну из этих строк - будет видно, оба вида данных отображены, просто цвета накладываются один на другой). Это означает, что ретинг отсутсвует в тех же строках, где отсутсвует оценка пользователей.<br>\n",
    "Больше всего отсутсвующих значений у игр после 2005 года. Это можно объяснить несколькими вариантами:<br>\n",
    "- развивается индустрия игр, системные требования становятся выше, не у всех есть возможность приобрести \"железо\", которое соответствовало бы и следовательно мало пользователей играют в них, а из той выборки прошедших игру не оценили ее;<br>\n",
    "- кол-во выпускаемых игр увеличивается и кол-во неоцененных игр так же увеличивается пропорционально;<br>\n",
    "- возможно особенности рейтинговой системы, что должно пройти время (кол-во лет) после выпуска игры и получено определенное кол-во оценок для формирования общей оценки игры (в связи с этим так же могут появлятся значениям tbd и RP).<br>\n",
    "\n",
    "Все равно у нас отсутствует способ решения проблемы пропусков, поэтому оставим как есть, а при анализе на основании рейтинга будем использовать только строки с заполненными значениями."
   ]
  },
  {
   "cell_type": "code",
   "execution_count": 12,
   "metadata": {},
   "outputs": [],
   "source": [
    "#вернемся к значениям tbd и RP, поменяем их значения на пропуски NaN\n",
    "data.loc[data['user_score']=='tbd', 'user_score'] = np.nan\n",
    "\n",
    "data.loc[data['rating']=='RP', 'rating'] = np.nan"
   ]
  },
  {
   "cell_type": "code",
   "execution_count": 13,
   "metadata": {},
   "outputs": [
    {
     "name": "stdout",
     "output_type": "stream",
     "text": [
      "<class 'pandas.core.frame.DataFrame'>\n",
      "Int64Index: 16444 entries, 0 to 16714\n",
      "Data columns (total 11 columns):\n",
      "name               16444 non-null object\n",
      "platform           16444 non-null object\n",
      "year_of_release    16444 non-null int64\n",
      "genre              16444 non-null object\n",
      "na_sales           16444 non-null float64\n",
      "eu_sales           16444 non-null float64\n",
      "jp_sales           16444 non-null float64\n",
      "other_sales        16444 non-null float64\n",
      "critic_score       7983 non-null float64\n",
      "user_score         7463 non-null float64\n",
      "rating             9767 non-null object\n",
      "dtypes: float64(6), int64(1), object(4)\n",
      "memory usage: 1.5+ MB\n"
     ]
    }
   ],
   "source": [
    "#теперь перейдем к смене типа данных \n",
    "#year_of_release меняем тип данных на int, так как значении года нет дробной части\n",
    "#user_score заметить тип данных на float\n",
    "\n",
    "data['year_of_release'] = data['year_of_release'].astype('int')\n",
    "data['user_score'] = data['user_score'].astype('float')\n",
    "data.info()"
   ]
  },
  {
   "cell_type": "markdown",
   "metadata": {},
   "source": [
    "***"
   ]
  },
  {
   "cell_type": "markdown",
   "metadata": {},
   "source": [
    "*Посчитаем суммарные продажи во всех регионах и добавим их отдельным столбцом sum_sales*"
   ]
  },
  {
   "cell_type": "code",
   "execution_count": 14,
   "metadata": {},
   "outputs": [
    {
     "data": {
      "text/html": [
       "<div>\n",
       "<style scoped>\n",
       "    .dataframe tbody tr th:only-of-type {\n",
       "        vertical-align: middle;\n",
       "    }\n",
       "\n",
       "    .dataframe tbody tr th {\n",
       "        vertical-align: top;\n",
       "    }\n",
       "\n",
       "    .dataframe thead th {\n",
       "        text-align: right;\n",
       "    }\n",
       "</style>\n",
       "<table border=\"1\" class=\"dataframe\">\n",
       "  <thead>\n",
       "    <tr style=\"text-align: right;\">\n",
       "      <th></th>\n",
       "      <th>name</th>\n",
       "      <th>platform</th>\n",
       "      <th>year_of_release</th>\n",
       "      <th>genre</th>\n",
       "      <th>na_sales</th>\n",
       "      <th>eu_sales</th>\n",
       "      <th>jp_sales</th>\n",
       "      <th>other_sales</th>\n",
       "      <th>critic_score</th>\n",
       "      <th>user_score</th>\n",
       "      <th>rating</th>\n",
       "      <th>total_sales</th>\n",
       "    </tr>\n",
       "  </thead>\n",
       "  <tbody>\n",
       "    <tr>\n",
       "      <td>0</td>\n",
       "      <td>Wii Sports</td>\n",
       "      <td>Wii</td>\n",
       "      <td>2006</td>\n",
       "      <td>Sports</td>\n",
       "      <td>41.36</td>\n",
       "      <td>28.96</td>\n",
       "      <td>3.77</td>\n",
       "      <td>8.45</td>\n",
       "      <td>76.0</td>\n",
       "      <td>8.0</td>\n",
       "      <td>E</td>\n",
       "      <td>82.54</td>\n",
       "    </tr>\n",
       "    <tr>\n",
       "      <td>1</td>\n",
       "      <td>Super Mario Bros.</td>\n",
       "      <td>NES</td>\n",
       "      <td>1985</td>\n",
       "      <td>Platform</td>\n",
       "      <td>29.08</td>\n",
       "      <td>3.58</td>\n",
       "      <td>6.81</td>\n",
       "      <td>0.77</td>\n",
       "      <td>NaN</td>\n",
       "      <td>NaN</td>\n",
       "      <td>NaN</td>\n",
       "      <td>40.24</td>\n",
       "    </tr>\n",
       "    <tr>\n",
       "      <td>2</td>\n",
       "      <td>Mario Kart Wii</td>\n",
       "      <td>Wii</td>\n",
       "      <td>2008</td>\n",
       "      <td>Racing</td>\n",
       "      <td>15.68</td>\n",
       "      <td>12.76</td>\n",
       "      <td>3.79</td>\n",
       "      <td>3.29</td>\n",
       "      <td>82.0</td>\n",
       "      <td>8.3</td>\n",
       "      <td>E</td>\n",
       "      <td>35.52</td>\n",
       "    </tr>\n",
       "    <tr>\n",
       "      <td>3</td>\n",
       "      <td>Wii Sports Resort</td>\n",
       "      <td>Wii</td>\n",
       "      <td>2009</td>\n",
       "      <td>Sports</td>\n",
       "      <td>15.61</td>\n",
       "      <td>10.93</td>\n",
       "      <td>3.28</td>\n",
       "      <td>2.95</td>\n",
       "      <td>80.0</td>\n",
       "      <td>8.0</td>\n",
       "      <td>E</td>\n",
       "      <td>32.77</td>\n",
       "    </tr>\n",
       "    <tr>\n",
       "      <td>4</td>\n",
       "      <td>Pokemon Red/Pokemon Blue</td>\n",
       "      <td>GB</td>\n",
       "      <td>1996</td>\n",
       "      <td>Role-Playing</td>\n",
       "      <td>11.27</td>\n",
       "      <td>8.89</td>\n",
       "      <td>10.22</td>\n",
       "      <td>1.00</td>\n",
       "      <td>NaN</td>\n",
       "      <td>NaN</td>\n",
       "      <td>NaN</td>\n",
       "      <td>31.38</td>\n",
       "    </tr>\n",
       "  </tbody>\n",
       "</table>\n",
       "</div>"
      ],
      "text/plain": [
       "                       name platform  year_of_release         genre  na_sales  \\\n",
       "0                Wii Sports      Wii             2006        Sports     41.36   \n",
       "1         Super Mario Bros.      NES             1985      Platform     29.08   \n",
       "2            Mario Kart Wii      Wii             2008        Racing     15.68   \n",
       "3         Wii Sports Resort      Wii             2009        Sports     15.61   \n",
       "4  Pokemon Red/Pokemon Blue       GB             1996  Role-Playing     11.27   \n",
       "\n",
       "   eu_sales  jp_sales  other_sales  critic_score  user_score rating  \\\n",
       "0     28.96      3.77         8.45          76.0         8.0      E   \n",
       "1      3.58      6.81         0.77           NaN         NaN    NaN   \n",
       "2     12.76      3.79         3.29          82.0         8.3      E   \n",
       "3     10.93      3.28         2.95          80.0         8.0      E   \n",
       "4      8.89     10.22         1.00           NaN         NaN    NaN   \n",
       "\n",
       "   total_sales  \n",
       "0        82.54  \n",
       "1        40.24  \n",
       "2        35.52  \n",
       "3        32.77  \n",
       "4        31.38  "
      ]
     },
     "execution_count": 14,
     "metadata": {},
     "output_type": "execute_result"
    }
   ],
   "source": [
    "data['total_sales'] = data['na_sales'] + data['eu_sales'] + data['jp_sales'] + data['other_sales']\n",
    "data.head()"
   ]
  },
  {
   "cell_type": "markdown",
   "metadata": {},
   "source": [
    "Данные подготовленные для исследовательского анализа: названия столбцов приведены к нижнему регистру, проведена работа с пропусками, проведена замена типов данных, добавлен столбец с суммарными значениями продаж по регионам."
   ]
  },
  {
   "cell_type": "markdown",
   "metadata": {},
   "source": [
    "***"
   ]
  },
  {
   "cell_type": "markdown",
   "metadata": {},
   "source": [
    "## Исследовательский анализ"
   ]
  },
  {
   "cell_type": "markdown",
   "metadata": {},
   "source": [
    "*Изучим кол-во выпускаемых игр в разные года, вместе с этим рассмотрим динамику по платформам. Применим метод pivot_table.*"
   ]
  },
  {
   "cell_type": "code",
   "execution_count": 15,
   "metadata": {},
   "outputs": [
    {
     "data": {
      "text/html": [
       "<div>\n",
       "<style scoped>\n",
       "    .dataframe tbody tr th:only-of-type {\n",
       "        vertical-align: middle;\n",
       "    }\n",
       "\n",
       "    .dataframe tbody tr th {\n",
       "        vertical-align: top;\n",
       "    }\n",
       "\n",
       "    .dataframe thead th {\n",
       "        text-align: right;\n",
       "    }\n",
       "</style>\n",
       "<table border=\"1\" class=\"dataframe\">\n",
       "  <thead>\n",
       "    <tr style=\"text-align: right;\">\n",
       "      <th></th>\n",
       "      <th>name</th>\n",
       "    </tr>\n",
       "    <tr>\n",
       "      <th>year_of_release</th>\n",
       "      <th></th>\n",
       "    </tr>\n",
       "  </thead>\n",
       "  <tbody>\n",
       "    <tr>\n",
       "      <td>1980</td>\n",
       "      <td>9</td>\n",
       "    </tr>\n",
       "    <tr>\n",
       "      <td>1981</td>\n",
       "      <td>46</td>\n",
       "    </tr>\n",
       "    <tr>\n",
       "      <td>1982</td>\n",
       "      <td>36</td>\n",
       "    </tr>\n",
       "    <tr>\n",
       "      <td>1983</td>\n",
       "      <td>17</td>\n",
       "    </tr>\n",
       "    <tr>\n",
       "      <td>1984</td>\n",
       "      <td>14</td>\n",
       "    </tr>\n",
       "    <tr>\n",
       "      <td>1985</td>\n",
       "      <td>14</td>\n",
       "    </tr>\n",
       "    <tr>\n",
       "      <td>1986</td>\n",
       "      <td>21</td>\n",
       "    </tr>\n",
       "    <tr>\n",
       "      <td>1987</td>\n",
       "      <td>16</td>\n",
       "    </tr>\n",
       "    <tr>\n",
       "      <td>1988</td>\n",
       "      <td>15</td>\n",
       "    </tr>\n",
       "    <tr>\n",
       "      <td>1989</td>\n",
       "      <td>17</td>\n",
       "    </tr>\n",
       "  </tbody>\n",
       "</table>\n",
       "</div>"
      ],
      "text/plain": [
       "                 name\n",
       "year_of_release      \n",
       "1980                9\n",
       "1981               46\n",
       "1982               36\n",
       "1983               17\n",
       "1984               14\n",
       "1985               14\n",
       "1986               21\n",
       "1987               16\n",
       "1988               15\n",
       "1989               17"
      ]
     },
     "execution_count": 15,
     "metadata": {},
     "output_type": "execute_result"
    }
   ],
   "source": [
    "years_pivot_table = data.pivot_table(index='year_of_release', values='name', aggfunc='count')\n",
    "years_pivot_table.head(10)"
   ]
  },
  {
   "cell_type": "code",
   "execution_count": 16,
   "metadata": {},
   "outputs": [
    {
     "data": {
      "text/html": [
       "<div>\n",
       "<style scoped>\n",
       "    .dataframe tbody tr th:only-of-type {\n",
       "        vertical-align: middle;\n",
       "    }\n",
       "\n",
       "    .dataframe tbody tr th {\n",
       "        vertical-align: top;\n",
       "    }\n",
       "\n",
       "    .dataframe thead th {\n",
       "        text-align: right;\n",
       "    }\n",
       "</style>\n",
       "<table border=\"1\" class=\"dataframe\">\n",
       "  <thead>\n",
       "    <tr style=\"text-align: right;\">\n",
       "      <th></th>\n",
       "      <th>total_sales</th>\n",
       "    </tr>\n",
       "    <tr>\n",
       "      <th>platform</th>\n",
       "      <th></th>\n",
       "    </tr>\n",
       "  </thead>\n",
       "  <tbody>\n",
       "    <tr>\n",
       "      <td>PS2</td>\n",
       "      <td>1233.56</td>\n",
       "    </tr>\n",
       "    <tr>\n",
       "      <td>X360</td>\n",
       "      <td>961.24</td>\n",
       "    </tr>\n",
       "    <tr>\n",
       "      <td>PS3</td>\n",
       "      <td>931.34</td>\n",
       "    </tr>\n",
       "    <tr>\n",
       "      <td>Wii</td>\n",
       "      <td>891.18</td>\n",
       "    </tr>\n",
       "    <tr>\n",
       "      <td>DS</td>\n",
       "      <td>802.78</td>\n",
       "    </tr>\n",
       "    <tr>\n",
       "      <td>PS</td>\n",
       "      <td>727.58</td>\n",
       "    </tr>\n",
       "    <tr>\n",
       "      <td>PS4</td>\n",
       "      <td>314.14</td>\n",
       "    </tr>\n",
       "    <tr>\n",
       "      <td>GBA</td>\n",
       "      <td>312.88</td>\n",
       "    </tr>\n",
       "    <tr>\n",
       "      <td>PSP</td>\n",
       "      <td>289.53</td>\n",
       "    </tr>\n",
       "    <tr>\n",
       "      <td>3DS</td>\n",
       "      <td>257.81</td>\n",
       "    </tr>\n",
       "    <tr>\n",
       "      <td>PC</td>\n",
       "      <td>255.76</td>\n",
       "    </tr>\n",
       "    <tr>\n",
       "      <td>GB</td>\n",
       "      <td>254.43</td>\n",
       "    </tr>\n",
       "    <tr>\n",
       "      <td>XB</td>\n",
       "      <td>251.57</td>\n",
       "    </tr>\n",
       "    <tr>\n",
       "      <td>NES</td>\n",
       "      <td>251.05</td>\n",
       "    </tr>\n",
       "    <tr>\n",
       "      <td>N64</td>\n",
       "      <td>218.01</td>\n",
       "    </tr>\n",
       "  </tbody>\n",
       "</table>\n",
       "</div>"
      ],
      "text/plain": [
       "          total_sales\n",
       "platform             \n",
       "PS2           1233.56\n",
       "X360           961.24\n",
       "PS3            931.34\n",
       "Wii            891.18\n",
       "DS             802.78\n",
       "PS             727.58\n",
       "PS4            314.14\n",
       "GBA            312.88\n",
       "PSP            289.53\n",
       "3DS            257.81\n",
       "PC             255.76\n",
       "GB             254.43\n",
       "XB             251.57\n",
       "NES            251.05\n",
       "N64            218.01"
      ]
     },
     "execution_count": 16,
     "metadata": {},
     "output_type": "execute_result"
    }
   ],
   "source": [
    "#динамика продаж по платформам\n",
    "platform_pivot_table = (\n",
    "    data.pivot_table(index='platform', values='total_sales', aggfunc='sum')\n",
    "    .sort_values(by='total_sales', ascending=False)\n",
    ")\n",
    "platform_pivot_table.head(15)"
   ]
  },
  {
   "cell_type": "code",
   "execution_count": 17,
   "metadata": {},
   "outputs": [
    {
     "data": {
      "text/html": [
       "<div>\n",
       "<style scoped>\n",
       "    .dataframe tbody tr th:only-of-type {\n",
       "        vertical-align: middle;\n",
       "    }\n",
       "\n",
       "    .dataframe tbody tr th {\n",
       "        vertical-align: top;\n",
       "    }\n",
       "\n",
       "    .dataframe thead th {\n",
       "        text-align: right;\n",
       "    }\n",
       "</style>\n",
       "<table border=\"1\" class=\"dataframe\">\n",
       "  <thead>\n",
       "    <tr style=\"text-align: right;\">\n",
       "      <th></th>\n",
       "      <th>platform</th>\n",
       "      <th>lifetime</th>\n",
       "      <th>first_year</th>\n",
       "    </tr>\n",
       "  </thead>\n",
       "  <tbody>\n",
       "    <tr>\n",
       "      <td>30</td>\n",
       "      <td>PCFX</td>\n",
       "      <td>1</td>\n",
       "      <td>1996</td>\n",
       "    </tr>\n",
       "    <tr>\n",
       "      <td>27</td>\n",
       "      <td>TG16</td>\n",
       "      <td>1</td>\n",
       "      <td>1995</td>\n",
       "    </tr>\n",
       "    <tr>\n",
       "      <td>29</td>\n",
       "      <td>GG</td>\n",
       "      <td>1</td>\n",
       "      <td>1992</td>\n",
       "    </tr>\n",
       "    <tr>\n",
       "      <td>28</td>\n",
       "      <td>3DO</td>\n",
       "      <td>2</td>\n",
       "      <td>1994</td>\n",
       "    </tr>\n",
       "    <tr>\n",
       "      <td>24</td>\n",
       "      <td>SCD</td>\n",
       "      <td>2</td>\n",
       "      <td>1993</td>\n",
       "    </tr>\n",
       "  </tbody>\n",
       "</table>\n",
       "</div>"
      ],
      "text/plain": [
       "   platform  lifetime  first_year\n",
       "30     PCFX         1        1996\n",
       "27     TG16         1        1995\n",
       "29       GG         1        1992\n",
       "28      3DO         2        1994\n",
       "24      SCD         2        1993"
      ]
     },
     "execution_count": 17,
     "metadata": {},
     "output_type": "execute_result"
    }
   ],
   "source": [
    "#посчитаем срок жизни каждой платформы, годы ее происхождения\n",
    "platform_list = data['platform'].unique().tolist()\n",
    "\n",
    "game = []\n",
    "first_year = []\n",
    "for platform in platform_list:\n",
    "    lifetime = len(data.loc[data['platform'] == platform,'year_of_release'].unique())\n",
    "    year = data.loc[data['platform'] == platform,'year_of_release'].min()\n",
    "    game.append(lifetime)\n",
    "    first_year.append(year)\n",
    "    \n",
    "platform_list = pd.Series(platform_list, name='platform')\n",
    "game = pd.Series(game, name='lifetime')\n",
    "first_year = pd.Series(first_year, name='first_year')\n",
    "\n",
    "platforms_lifetime = pd.concat([platform_list, game, first_year],axis=1)\n",
    "\n",
    "platforms_lifetime = platforms_lifetime.sort_values(by='lifetime')\n",
    "platforms_lifetime.head()"
   ]
  },
  {
   "cell_type": "code",
   "execution_count": 18,
   "metadata": {},
   "outputs": [
    {
     "name": "stdout",
     "output_type": "stream",
     "text": [
      "Средний срок жизни платформы 7.7 лет\n"
     ]
    }
   ],
   "source": [
    "#считаем средний срок продолжительности жизни платформ\n",
    "avg_platform_lifetime = platforms_lifetime['lifetime'].mean()\n",
    "print('Средний срок жизни платформы {:.2} лет'.format(avg_platform_lifetime))"
   ]
  },
  {
   "cell_type": "code",
   "execution_count": 19,
   "metadata": {},
   "outputs": [
    {
     "data": {
      "text/plain": [
       "<matplotlib.axes._subplots.AxesSubplot at 0x7f7469ad76d0>"
      ]
     },
     "execution_count": 19,
     "metadata": {},
     "output_type": "execute_result"
    },
    {
     "data": {
      "image/png": "[encoded data removed]",
      "text/plain": [
       "<Figure size 1080x360 with 1 Axes>"
      ]
     },
     "metadata": {
      "needs_background": "light"
     },
     "output_type": "display_data"
    }
   ],
   "source": [
    "#с помощью графика получим более точные цифры\n",
    "(\n",
    "    platforms_lifetime.query('lifetime>3').plot(kind='bar', \n",
    "                                                x='platform', y='lifetime', \n",
    "                                                figsize=(15,5), grid=True)\n",
    ")"
   ]
  },
  {
   "cell_type": "code",
   "execution_count": 20,
   "metadata": {},
   "outputs": [
    {
     "name": "stdout",
     "output_type": "stream",
     "text": [
      "Средний срок жизни платформы 7.5 лет\n"
     ]
    }
   ],
   "source": [
    "#уберем из расчета ПК, так как это \"вечная\" платформа \n",
    "#так же можно убрать и все еще актуальные платформы\n",
    "exclude = ['PC', 'XOne', 'PS4', '3DS', 'WiiU', 'PSV']\n",
    "avg_platform_lifetime = platforms_lifetime \\\n",
    "    .loc[~platforms_lifetime['platform'].isin(exclude),'lifetime'].mean()\n",
    "print('Средний срок жизни платформы {:.2} лет'.format(avg_platform_lifetime))"
   ]
  },
  {
   "cell_type": "markdown",
   "metadata": {},
   "source": [
    "Разницы практически нет, следовательно нужно попробовать разделить платформы на периоды, чтобы еще точнее посчитать продолжительность."
   ]
  },
  {
   "cell_type": "code",
   "execution_count": 21,
   "metadata": {},
   "outputs": [
    {
     "name": "stdout",
     "output_type": "stream",
     "text": [
      "Средний срок жизни платформы выпущенной до 2000 - 6.18 лет\n",
      "Средний срок жизни платформы выпущенной после 2000 - 10.25 лет\n"
     ]
    }
   ],
   "source": [
    "#разделим на тысячилетия ( до 2000го и после 2000го года)\n",
    "\n",
    "avg_platform_lifetime = platforms_lifetime.query('first_year < 2000') \\\n",
    "    .loc[~platforms_lifetime['platform'].isin(exclude), 'lifetime'].mean()\n",
    "print('Средний срок жизни платформы выпущенной до 2000 - {:.2f} лет'.format(avg_platform_lifetime))\n",
    "\n",
    "avg_platform_lifetime = platforms_lifetime.query('first_year >= 2000') \\\n",
    "    .loc[~platforms_lifetime['platform'].isin(exclude), 'lifetime'].mean()\n",
    "print('Средний срок жизни платформы выпущенной после 2000 - {} лет'.format(avg_platform_lifetime))"
   ]
  },
  {
   "cell_type": "markdown",
   "metadata": {},
   "source": [
    "Видно, что со временем платформы стали дольше жить. Разница почти 4 года в значениях. "
   ]
  },
  {
   "cell_type": "code",
   "execution_count": 22,
   "metadata": {},
   "outputs": [
    {
     "data": {
      "image/png": "[encoded data removed]",
      "text/plain": [
       "<Figure size 432x288 with 1 Axes>"
      ]
     },
     "metadata": {
      "needs_background": "light"
     },
     "output_type": "display_data"
    }
   ],
   "source": [
    "#представим графически данные о продажах и кол-ве релизов по годам\n",
    "data.groupby('year_of_release')['total_sales'].sum().plot(legend=True)\n",
    "data.groupby('year_of_release')['name'].count().plot(legend=True, grid=True)\n",
    "plt.ylabel('Кол-во выпущенных игр / Продажи')\n",
    "plt.show()"
   ]
  },
  {
   "cell_type": "markdown",
   "metadata": {},
   "source": [
    "Несмотря на резкий рост выпуска игр в начале 2000х, выручка от продаж не имеет настолько резкие скачки. После 2010 года наблюдается такой же резкий спад как по релизам, так и по продажам. Возможно это обуславливается тем, что индустрия игр начала активно развиваться и выпускать больше новых игр, чем быстро создала перенасыщение рынка."
   ]
  },
  {
   "cell_type": "markdown",
   "metadata": {},
   "source": [
    "***"
   ]
  },
  {
   "cell_type": "code",
   "execution_count": 23,
   "metadata": {},
   "outputs": [
    {
     "data": {
      "text/plain": [
       "<matplotlib.axes._subplots.AxesSubplot at 0x7f7469c3cf50>"
      ]
     },
     "execution_count": 23,
     "metadata": {},
     "output_type": "execute_result"
    },
    {
     "data": {
      "image/png": "[encoded data removed]",
      "text/plain": [
       "<Figure size 432x288 with 1 Axes>"
      ]
     },
     "metadata": {
      "needs_background": "light"
     },
     "output_type": "display_data"
    }
   ],
   "source": [
    "#изучим наибольшие продажи по платформам\n",
    "(\n",
    "    data.groupby('platform')['year_of_release'].sum()\n",
    "    .plot(kind='bar',x='platform', y='total_sales', grid=True)\n",
    ")"
   ]
  },
  {
   "cell_type": "markdown",
   "metadata": {},
   "source": [
    "Если брать данные за все время (с 1980 года), то большая часть продаж пришлась на DS, PS2, PS3, Wii и X360. <br>\n",
    "Для корректного анализа нужен срез данных с более актуальными значениями, так как не смотря на свой пик продаж DS и PS2 уже устаревшие платформы, а значит судить по ним было бы неверным решением.<br>\n",
    "\n",
    "Можно взять срез с 2012 года, опираясь на ранее полученные данные, так как примерно в это время продажи пошли на спад, а количество игр станет более менее одинаковым по годам и появятся в выборке наиболее популярные платформы на данный момент."
   ]
  },
  {
   "cell_type": "code",
   "execution_count": 24,
   "metadata": {},
   "outputs": [
    {
     "data": {
      "text/html": [
       "<div>\n",
       "<style scoped>\n",
       "    .dataframe tbody tr th:only-of-type {\n",
       "        vertical-align: middle;\n",
       "    }\n",
       "\n",
       "    .dataframe tbody tr th {\n",
       "        vertical-align: top;\n",
       "    }\n",
       "\n",
       "    .dataframe thead th {\n",
       "        text-align: right;\n",
       "    }\n",
       "</style>\n",
       "<table border=\"1\" class=\"dataframe\">\n",
       "  <thead>\n",
       "    <tr style=\"text-align: right;\">\n",
       "      <th>year_of_release</th>\n",
       "      <th>2012</th>\n",
       "      <th>2013</th>\n",
       "      <th>2014</th>\n",
       "      <th>2015</th>\n",
       "      <th>2016</th>\n",
       "      <th>total</th>\n",
       "    </tr>\n",
       "    <tr>\n",
       "      <th>platform</th>\n",
       "      <th></th>\n",
       "      <th></th>\n",
       "      <th></th>\n",
       "      <th></th>\n",
       "      <th></th>\n",
       "      <th></th>\n",
       "    </tr>\n",
       "  </thead>\n",
       "  <tbody>\n",
       "    <tr>\n",
       "      <td>total</td>\n",
       "      <td>355.84</td>\n",
       "      <td>361.24</td>\n",
       "      <td>331.53</td>\n",
       "      <td>267.98</td>\n",
       "      <td>129.94</td>\n",
       "      <td>1446.53</td>\n",
       "    </tr>\n",
       "    <tr>\n",
       "      <td>PS4</td>\n",
       "      <td>NaN</td>\n",
       "      <td>25.99</td>\n",
       "      <td>100.00</td>\n",
       "      <td>118.90</td>\n",
       "      <td>69.25</td>\n",
       "      <td>314.14</td>\n",
       "    </tr>\n",
       "    <tr>\n",
       "      <td>PS3</td>\n",
       "      <td>107.36</td>\n",
       "      <td>113.25</td>\n",
       "      <td>47.76</td>\n",
       "      <td>16.82</td>\n",
       "      <td>3.60</td>\n",
       "      <td>288.79</td>\n",
       "    </tr>\n",
       "    <tr>\n",
       "      <td>X360</td>\n",
       "      <td>99.74</td>\n",
       "      <td>88.58</td>\n",
       "      <td>34.74</td>\n",
       "      <td>11.96</td>\n",
       "      <td>1.52</td>\n",
       "      <td>236.54</td>\n",
       "    </tr>\n",
       "    <tr>\n",
       "      <td>3DS</td>\n",
       "      <td>51.36</td>\n",
       "      <td>56.57</td>\n",
       "      <td>43.76</td>\n",
       "      <td>27.78</td>\n",
       "      <td>15.14</td>\n",
       "      <td>194.61</td>\n",
       "    </tr>\n",
       "    <tr>\n",
       "      <td>XOne</td>\n",
       "      <td>NaN</td>\n",
       "      <td>18.96</td>\n",
       "      <td>54.07</td>\n",
       "      <td>60.14</td>\n",
       "      <td>26.15</td>\n",
       "      <td>159.32</td>\n",
       "    </tr>\n",
       "    <tr>\n",
       "      <td>WiiU</td>\n",
       "      <td>17.56</td>\n",
       "      <td>21.65</td>\n",
       "      <td>22.03</td>\n",
       "      <td>16.35</td>\n",
       "      <td>4.60</td>\n",
       "      <td>82.19</td>\n",
       "    </tr>\n",
       "    <tr>\n",
       "      <td>PC</td>\n",
       "      <td>23.22</td>\n",
       "      <td>12.38</td>\n",
       "      <td>13.28</td>\n",
       "      <td>8.52</td>\n",
       "      <td>5.25</td>\n",
       "      <td>62.65</td>\n",
       "    </tr>\n",
       "    <tr>\n",
       "      <td>PSV</td>\n",
       "      <td>16.19</td>\n",
       "      <td>10.59</td>\n",
       "      <td>11.90</td>\n",
       "      <td>6.25</td>\n",
       "      <td>4.25</td>\n",
       "      <td>49.18</td>\n",
       "    </tr>\n",
       "    <tr>\n",
       "      <td>Wii</td>\n",
       "      <td>21.71</td>\n",
       "      <td>8.59</td>\n",
       "      <td>3.75</td>\n",
       "      <td>1.14</td>\n",
       "      <td>0.18</td>\n",
       "      <td>35.37</td>\n",
       "    </tr>\n",
       "    <tr>\n",
       "      <td>DS</td>\n",
       "      <td>11.01</td>\n",
       "      <td>1.54</td>\n",
       "      <td>NaN</td>\n",
       "      <td>NaN</td>\n",
       "      <td>NaN</td>\n",
       "      <td>12.55</td>\n",
       "    </tr>\n",
       "    <tr>\n",
       "      <td>PSP</td>\n",
       "      <td>7.69</td>\n",
       "      <td>3.14</td>\n",
       "      <td>0.24</td>\n",
       "      <td>0.12</td>\n",
       "      <td>NaN</td>\n",
       "      <td>11.19</td>\n",
       "    </tr>\n",
       "  </tbody>\n",
       "</table>\n",
       "</div>"
      ],
      "text/plain": [
       "year_of_release    2012    2013    2014    2015    2016    total\n",
       "platform                                                        \n",
       "total            355.84  361.24  331.53  267.98  129.94  1446.53\n",
       "PS4                 NaN   25.99  100.00  118.90   69.25   314.14\n",
       "PS3              107.36  113.25   47.76   16.82    3.60   288.79\n",
       "X360              99.74   88.58   34.74   11.96    1.52   236.54\n",
       "3DS               51.36   56.57   43.76   27.78   15.14   194.61\n",
       "XOne                NaN   18.96   54.07   60.14   26.15   159.32\n",
       "WiiU              17.56   21.65   22.03   16.35    4.60    82.19\n",
       "PC                23.22   12.38   13.28    8.52    5.25    62.65\n",
       "PSV               16.19   10.59   11.90    6.25    4.25    49.18\n",
       "Wii               21.71    8.59    3.75    1.14    0.18    35.37\n",
       "DS                11.01    1.54     NaN     NaN     NaN    12.55\n",
       "PSP                7.69    3.14    0.24    0.12     NaN    11.19"
      ]
     },
     "execution_count": 24,
     "metadata": {},
     "output_type": "execute_result"
    }
   ],
   "source": [
    "data_games_2012 = data.query('year_of_release >= 2012')\n",
    "\n",
    "#попробуем новый метод crosstab()\n",
    "pd.crosstab(data_games_2012['platform'], data_games_2012['year_of_release'],\n",
    "            values=data_games_2012['total_sales'], aggfunc='sum',\n",
    "            margins=True, margins_name=\"total\").sort_values(by='total', ascending=False)"
   ]
  },
  {
   "cell_type": "markdown",
   "metadata": {},
   "source": [
    "Исходя из полученного среза можно сделать следющие выводы:<br>\n",
    " - PS4 появилась в 2013 году и к 2016 году стала лидером по продажам;\n",
    " - PS3 заметно потеряло в позициях к 2016 году в продажах, но тем не менее смогла остаться на втором месте;\n",
    " - X360 так же стало стремительно отставать по продажам после выхода приставки нового поколения PS4;\n",
    " - XOne прямой конкурент PS4, очевидно проигрывает по цифрам, но тем не менее видно, что продажи росли до 2015 года, затем пошли на спад;\n",
    " - стоит отметить платформу 3DS, единственная портативная консоль в топ5, но продажи так же уменьшаются.<br>\n",
    " \n",
    "Делаем вывод, что за последние несколько лет продажи растут или хотя бы сохраняются у PS4 и XOne, в то время как на остальные прожади стремительно подают. Возможно, это связано с тем, что на старые консоли перестают выпускать игры.\n",
    "\n",
    "*Необходимо отдельно рассмотреть количество выпускаемых игр*"
   ]
  },
  {
   "cell_type": "code",
   "execution_count": 25,
   "metadata": {},
   "outputs": [
    {
     "data": {
      "text/html": [
       "<div>\n",
       "<style scoped>\n",
       "    .dataframe tbody tr th:only-of-type {\n",
       "        vertical-align: middle;\n",
       "    }\n",
       "\n",
       "    .dataframe tbody tr th {\n",
       "        vertical-align: top;\n",
       "    }\n",
       "\n",
       "    .dataframe thead th {\n",
       "        text-align: right;\n",
       "    }\n",
       "</style>\n",
       "<table border=\"1\" class=\"dataframe\">\n",
       "  <thead>\n",
       "    <tr style=\"text-align: right;\">\n",
       "      <th>year_of_release</th>\n",
       "      <th>2012</th>\n",
       "      <th>2013</th>\n",
       "      <th>2014</th>\n",
       "      <th>2015</th>\n",
       "      <th>2016</th>\n",
       "      <th>total</th>\n",
       "    </tr>\n",
       "    <tr>\n",
       "      <th>platform</th>\n",
       "      <th></th>\n",
       "      <th></th>\n",
       "      <th></th>\n",
       "      <th></th>\n",
       "      <th></th>\n",
       "      <th></th>\n",
       "    </tr>\n",
       "  </thead>\n",
       "  <tbody>\n",
       "    <tr>\n",
       "      <td>total</td>\n",
       "      <td>653</td>\n",
       "      <td>544</td>\n",
       "      <td>581</td>\n",
       "      <td>606</td>\n",
       "      <td>502</td>\n",
       "      <td>2886</td>\n",
       "    </tr>\n",
       "    <tr>\n",
       "      <td>PS3</td>\n",
       "      <td>148</td>\n",
       "      <td>126</td>\n",
       "      <td>108</td>\n",
       "      <td>73</td>\n",
       "      <td>38</td>\n",
       "      <td>493</td>\n",
       "    </tr>\n",
       "    <tr>\n",
       "      <td>PSV</td>\n",
       "      <td>53</td>\n",
       "      <td>63</td>\n",
       "      <td>100</td>\n",
       "      <td>110</td>\n",
       "      <td>85</td>\n",
       "      <td>411</td>\n",
       "    </tr>\n",
       "    <tr>\n",
       "      <td>3DS</td>\n",
       "      <td>93</td>\n",
       "      <td>91</td>\n",
       "      <td>80</td>\n",
       "      <td>86</td>\n",
       "      <td>46</td>\n",
       "      <td>396</td>\n",
       "    </tr>\n",
       "    <tr>\n",
       "      <td>PS4</td>\n",
       "      <td>0</td>\n",
       "      <td>16</td>\n",
       "      <td>75</td>\n",
       "      <td>137</td>\n",
       "      <td>164</td>\n",
       "      <td>392</td>\n",
       "    </tr>\n",
       "    <tr>\n",
       "      <td>X360</td>\n",
       "      <td>106</td>\n",
       "      <td>75</td>\n",
       "      <td>63</td>\n",
       "      <td>35</td>\n",
       "      <td>13</td>\n",
       "      <td>292</td>\n",
       "    </tr>\n",
       "    <tr>\n",
       "      <td>PC</td>\n",
       "      <td>61</td>\n",
       "      <td>38</td>\n",
       "      <td>47</td>\n",
       "      <td>50</td>\n",
       "      <td>54</td>\n",
       "      <td>250</td>\n",
       "    </tr>\n",
       "    <tr>\n",
       "      <td>XOne</td>\n",
       "      <td>0</td>\n",
       "      <td>19</td>\n",
       "      <td>61</td>\n",
       "      <td>80</td>\n",
       "      <td>87</td>\n",
       "      <td>247</td>\n",
       "    </tr>\n",
       "    <tr>\n",
       "      <td>PSP</td>\n",
       "      <td>106</td>\n",
       "      <td>54</td>\n",
       "      <td>10</td>\n",
       "      <td>3</td>\n",
       "      <td>0</td>\n",
       "      <td>173</td>\n",
       "    </tr>\n",
       "    <tr>\n",
       "      <td>WiiU</td>\n",
       "      <td>32</td>\n",
       "      <td>42</td>\n",
       "      <td>31</td>\n",
       "      <td>28</td>\n",
       "      <td>14</td>\n",
       "      <td>147</td>\n",
       "    </tr>\n",
       "    <tr>\n",
       "      <td>Wii</td>\n",
       "      <td>31</td>\n",
       "      <td>12</td>\n",
       "      <td>6</td>\n",
       "      <td>4</td>\n",
       "      <td>1</td>\n",
       "      <td>54</td>\n",
       "    </tr>\n",
       "    <tr>\n",
       "      <td>DS</td>\n",
       "      <td>23</td>\n",
       "      <td>8</td>\n",
       "      <td>0</td>\n",
       "      <td>0</td>\n",
       "      <td>0</td>\n",
       "      <td>31</td>\n",
       "    </tr>\n",
       "  </tbody>\n",
       "</table>\n",
       "</div>"
      ],
      "text/plain": [
       "year_of_release  2012  2013  2014  2015  2016  total\n",
       "platform                                            \n",
       "total             653   544   581   606   502   2886\n",
       "PS3               148   126   108    73    38    493\n",
       "PSV                53    63   100   110    85    411\n",
       "3DS                93    91    80    86    46    396\n",
       "PS4                 0    16    75   137   164    392\n",
       "X360              106    75    63    35    13    292\n",
       "PC                 61    38    47    50    54    250\n",
       "XOne                0    19    61    80    87    247\n",
       "PSP               106    54    10     3     0    173\n",
       "WiiU               32    42    31    28    14    147\n",
       "Wii                31    12     6     4     1     54\n",
       "DS                 23     8     0     0     0     31"
      ]
     },
     "execution_count": 25,
     "metadata": {},
     "output_type": "execute_result"
    }
   ],
   "source": [
    "pd.crosstab(data_games_2012['platform'], data_games_2012['year_of_release'],\n",
    "            margins=True, margins_name=\"total\").sort_values(by='total', ascending=False)"
   ]
  },
  {
   "cell_type": "markdown",
   "metadata": {},
   "source": [
    "На старые поколения платформ, действительно, со временем выпускают все меньше игр, в это же время на новые платформы кол-во игр растет. У платформы PSV игры выпускаются с каждым годом все больше, но продажи ее падают.\n",
    "\n",
    "Потенциально прибыльные плаформы - платформы нового поколения (PS4, XOne и 3DS, как лидер портивных консолей): на них выпускается все больше игр и они принесли больше всего выручки в 2015/16 годах."
   ]
  },
  {
   "cell_type": "code",
   "execution_count": 26,
   "metadata": {},
   "outputs": [
    {
     "data": {
      "image/png": "[encoded data removed]",
      "text/plain": [
       "<Figure size 432x288 with 1 Axes>"
      ]
     },
     "metadata": {
      "needs_background": "light"
     },
     "output_type": "display_data"
    }
   ],
   "source": [
    "profit_platform = ['PS4','XOne','3DS']\n",
    "\n",
    "seaborn.barplot(y='total_sales', \n",
    "            x='year_of_release', \n",
    "            hue='platform', \n",
    "            data = data_games_2012.query('platform in @profit_platform'),\n",
    "            hue_order=profit_platform)\n",
    "plt.show()"
   ]
  },
  {
   "cell_type": "markdown",
   "metadata": {},
   "source": [
    "На графике заметен тот самый тренд сокращение доходов всей игровой индустрии. На PS4 это сказалось сильнее всего."
   ]
  },
  {
   "cell_type": "code",
   "execution_count": 27,
   "metadata": {},
   "outputs": [
    {
     "data": {
      "image/png": "[encoded data removed]",
      "text/plain": [
       "<Figure size 1080x360 with 1 Axes>"
      ]
     },
     "metadata": {
      "needs_background": "light"
     },
     "output_type": "display_data"
    }
   ],
   "source": [
    "#построим диаграмму размаха по глобальным продажам выбранных платформ\n",
    "#стоит поставить ограничение до 4х млн долларов, для более удобного восприятия графика\n",
    "plt.figure(figsize=(15,5))\n",
    "seaborn.boxplot(y='platform', x='total_sales',\n",
    "            data = data_games_2012.query('platform in @profit_platform and total_sales < 4')\n",
    "            ,order=profit_platform)\n",
    "plt.show()"
   ]
  },
  {
   "cell_type": "markdown",
   "metadata": {},
   "source": [
    "Продажи PS4 и XOne очень похожи между собой: возможно это потому, что игры одновременно выпускают на обе платформы. В лидеры по выручке PS4 выводят эксклюзивы, которые чаще выпускают Sony. Но график нам показывает, что разброс по выручке примерно одинаковый. Что касается 3DS, то разброс цен почти в 2 раза меньше, что нам дает понять, что данная портативная консоль сильно уступает стационарным."
   ]
  },
  {
   "cell_type": "markdown",
   "metadata": {},
   "source": [
    "***"
   ]
  },
  {
   "cell_type": "code",
   "execution_count": 28,
   "metadata": {},
   "outputs": [
    {
     "data": {
      "image/png": "[encoded data removed]",
      "text/plain": [
       "<Figure size 540x540 with 12 Axes>"
      ]
     },
     "metadata": {
      "needs_background": "light"
     },
     "output_type": "display_data"
    }
   ],
   "source": [
    "#необходимо изучит***ь влияние критиков и пользователей на продажи игр на PS4\n",
    "#создадим отдельны DF: уберем данные с пропусками и увеличим ограничение до 5 млн\n",
    "\n",
    "data_ps4 = data_games_2012.loc[(data_games_2012['total_sales'] <5) \n",
    "                               & (data_games_2012['platform']=='PS4') \n",
    "                               & (data_games_2012['critic_score'].notna()) \n",
    "                               & (data_games_2012['user_score'].notna())]\n",
    "\n",
    "#построим матрицу\n",
    "j = seaborn.pairplot(data_ps4[['total_sales','critic_score', 'user_score']])\n",
    "j.fig.suptitle('PS4', y= 1.05)\n",
    "plt.show()"
   ]
  },
  {
   "cell_type": "code",
   "execution_count": 29,
   "metadata": {},
   "outputs": [
    {
     "data": {
      "text/plain": [
       "<matplotlib.axes._subplots.AxesSubplot at 0x7f7469432810>"
      ]
     },
     "execution_count": 29,
     "metadata": {},
     "output_type": "execute_result"
    },
    {
     "data": {
      "image/png": "[encoded data removed]",
      "text/plain": [
       "<Figure size 432x288 with 2 Axes>"
      ]
     },
     "metadata": {
      "needs_background": "light"
     },
     "output_type": "display_data"
    }
   ],
   "source": [
    "#добавим heatmap\n",
    "seaborn.heatmap(data_ps4[['total_sales','critic_score', 'user_score']].corr(), linewidths=.2,annot = True)"
   ]
  },
  {
   "cell_type": "markdown",
   "metadata": {},
   "source": [
    "- Существует умеренная зависимость между отзывами критиков и продажами, заметно что у значительной части игр с большими продажами нормальные/хорошие отзывы. Плохих отзывов критиков у прибыльных проектов - нет. Крупные и дорогие проекты вкладывают большие деньги в продвижение, что в том числе это может влиять на оценки критиков.\n",
    "\n",
    "- Оценки пользователей демонстрируют около нулевую корреляцию, и на диаграмме рассеяния сложно отметить какие-либо тенденции. Вероятно пользователи более критичны в отношении игр. Так как даже у очень успешных в финансовом плане проектов есть плохие оценки пользователей.\n",
    "\n",
    "- Стоит заметить, что оценки пользователей имеют среднюю корреляцию с оценками критиков (это ярко видно на графике). То есть, не редки случаи, когда оценки пользователейи критиков совпадают, либо находятся рядом друг с другом."
   ]
  },
  {
   "cell_type": "code",
   "execution_count": 30,
   "metadata": {},
   "outputs": [
    {
     "data": {
      "image/png": "[encoded data removed]",
      "text/plain": [
       "<Figure size 432x288 with 2 Axes>"
      ]
     },
     "metadata": {
      "needs_background": "light"
     },
     "output_type": "display_data"
    },
    {
     "data": {
      "image/png": "[encoded data removed]",
      "text/plain": [
       "<Figure size 432x288 with 2 Axes>"
      ]
     },
     "metadata": {
      "needs_background": "light"
     },
     "output_type": "display_data"
    },
    {
     "data": {
      "image/png": "[encoded data removed]",
      "text/plain": [
       "<Figure size 432x288 with 2 Axes>"
      ]
     },
     "metadata": {
      "needs_background": "light"
     },
     "output_type": "display_data"
    }
   ],
   "source": [
    "#сравним корреляции с другими платформами\n",
    "data_xone = data_games_2012.loc[(data_games_2012['total_sales'] <5) \n",
    "                               & (data_games_2012['platform']=='XOne') \n",
    "                               & (data_games_2012['critic_score'].notna()) \n",
    "                               & (data_games_2012['user_score'].notna())]\n",
    "\n",
    "data_3ds = data_games_2012.loc[(data_games_2012['total_sales'] <5) \n",
    "                               & (data_games_2012['platform']=='3DS') \n",
    "                               & (data_games_2012['critic_score'].notna()) \n",
    "                               & (data_games_2012['user_score'].notna())]\n",
    "seaborn.heatmap(data_ps4[['total_sales','critic_score', 'user_score']].corr(), linewidths=.2,annot = True)\n",
    "plt.title('Heatmap PS4')\n",
    "plt.show()\n",
    "seaborn.heatmap(data_xone[['total_sales','critic_score', 'user_score']].corr(), linewidths=.2,annot = True)\n",
    "plt.title('Heatmap XOne')\n",
    "plt.show()\n",
    "seaborn.heatmap(data_3ds[['total_sales','critic_score', 'user_score']].corr(), linewidths=.2,annot = True)\n",
    "plt.title('Heatmap 3DS')\n",
    "plt.show()"
   ]
  },
  {
   "cell_type": "markdown",
   "metadata": {},
   "source": [
    "Как и ранее было отмечено, PS4 и XOne похожи, коэффициенты корреляции так же очень схожи.<br>\n",
    "3DS следует рассмотреть подробнее, так как здесь более выражена зависимость продаж от оценок пользователей, а так же достаточно высокая корреляция оценок пользователей и критиков."
   ]
  },
  {
   "cell_type": "code",
   "execution_count": 31,
   "metadata": {},
   "outputs": [
    {
     "data": {
      "image/png": "[encoded data removed]",
      "text/plain": [
       "<Figure size 540x540 with 12 Axes>"
      ]
     },
     "metadata": {
      "needs_background": "light"
     },
     "output_type": "display_data"
    }
   ],
   "source": [
    "j = seaborn.pairplot(data_3ds[['total_sales','critic_score', 'user_score']])\n",
    "j.fig.suptitle(\"3DS\", y=1.05)\n",
    "plt.show()"
   ]
  },
  {
   "cell_type": "markdown",
   "metadata": {},
   "source": [
    "Действительно, на графике заметно, что оценки критиков и пользователей часто совпадают."
   ]
  },
  {
   "cell_type": "markdown",
   "metadata": {},
   "source": [
    "***"
   ]
  },
  {
   "cell_type": "code",
   "execution_count": 32,
   "metadata": {},
   "outputs": [
    {
     "data": {
      "text/html": [
       "<div>\n",
       "<style scoped>\n",
       "    .dataframe tbody tr th:only-of-type {\n",
       "        vertical-align: middle;\n",
       "    }\n",
       "\n",
       "    .dataframe tbody tr th {\n",
       "        vertical-align: top;\n",
       "    }\n",
       "\n",
       "    .dataframe thead th {\n",
       "        text-align: right;\n",
       "    }\n",
       "</style>\n",
       "<table border=\"1\" class=\"dataframe\">\n",
       "  <thead>\n",
       "    <tr style=\"text-align: right;\">\n",
       "      <th>year_of_release</th>\n",
       "      <th>2012</th>\n",
       "      <th>2013</th>\n",
       "      <th>2014</th>\n",
       "      <th>2015</th>\n",
       "      <th>2016</th>\n",
       "      <th>total</th>\n",
       "    </tr>\n",
       "    <tr>\n",
       "      <th>genre</th>\n",
       "      <th></th>\n",
       "      <th></th>\n",
       "      <th></th>\n",
       "      <th></th>\n",
       "      <th></th>\n",
       "      <th></th>\n",
       "    </tr>\n",
       "  </thead>\n",
       "  <tbody>\n",
       "    <tr>\n",
       "      <td>total</td>\n",
       "      <td>355.84</td>\n",
       "      <td>361.24</td>\n",
       "      <td>331.53</td>\n",
       "      <td>267.98</td>\n",
       "      <td>129.94</td>\n",
       "      <td>1446.53</td>\n",
       "    </tr>\n",
       "    <tr>\n",
       "      <td>Action</td>\n",
       "      <td>119.25</td>\n",
       "      <td>122.51</td>\n",
       "      <td>97.23</td>\n",
       "      <td>72.02</td>\n",
       "      <td>30.11</td>\n",
       "      <td>441.12</td>\n",
       "    </tr>\n",
       "    <tr>\n",
       "      <td>Shooter</td>\n",
       "      <td>71.75</td>\n",
       "      <td>62.04</td>\n",
       "      <td>65.21</td>\n",
       "      <td>67.51</td>\n",
       "      <td>38.22</td>\n",
       "      <td>304.73</td>\n",
       "    </tr>\n",
       "    <tr>\n",
       "      <td>Role-Playing</td>\n",
       "      <td>46.91</td>\n",
       "      <td>44.45</td>\n",
       "      <td>45.62</td>\n",
       "      <td>37.64</td>\n",
       "      <td>18.18</td>\n",
       "      <td>192.80</td>\n",
       "    </tr>\n",
       "    <tr>\n",
       "      <td>Sports</td>\n",
       "      <td>30.42</td>\n",
       "      <td>41.17</td>\n",
       "      <td>45.15</td>\n",
       "      <td>40.84</td>\n",
       "      <td>23.49</td>\n",
       "      <td>181.07</td>\n",
       "    </tr>\n",
       "    <tr>\n",
       "      <td>Misc</td>\n",
       "      <td>22.22</td>\n",
       "      <td>25.27</td>\n",
       "      <td>23.38</td>\n",
       "      <td>11.57</td>\n",
       "      <td>2.60</td>\n",
       "      <td>85.04</td>\n",
       "    </tr>\n",
       "    <tr>\n",
       "      <td>Platform</td>\n",
       "      <td>18.37</td>\n",
       "      <td>24.54</td>\n",
       "      <td>8.81</td>\n",
       "      <td>6.05</td>\n",
       "      <td>3.23</td>\n",
       "      <td>61.00</td>\n",
       "    </tr>\n",
       "    <tr>\n",
       "      <td>Racing</td>\n",
       "      <td>13.61</td>\n",
       "      <td>12.37</td>\n",
       "      <td>16.66</td>\n",
       "      <td>8.07</td>\n",
       "      <td>2.79</td>\n",
       "      <td>53.50</td>\n",
       "    </tr>\n",
       "    <tr>\n",
       "      <td>Fighting</td>\n",
       "      <td>9.18</td>\n",
       "      <td>7.09</td>\n",
       "      <td>15.85</td>\n",
       "      <td>7.90</td>\n",
       "      <td>4.47</td>\n",
       "      <td>44.49</td>\n",
       "    </tr>\n",
       "    <tr>\n",
       "      <td>Simulation</td>\n",
       "      <td>13.36</td>\n",
       "      <td>8.63</td>\n",
       "      <td>5.58</td>\n",
       "      <td>5.66</td>\n",
       "      <td>1.89</td>\n",
       "      <td>35.12</td>\n",
       "    </tr>\n",
       "    <tr>\n",
       "      <td>Adventure</td>\n",
       "      <td>5.79</td>\n",
       "      <td>6.09</td>\n",
       "      <td>5.57</td>\n",
       "      <td>8.16</td>\n",
       "      <td>3.82</td>\n",
       "      <td>29.43</td>\n",
       "    </tr>\n",
       "    <tr>\n",
       "      <td>Strategy</td>\n",
       "      <td>3.26</td>\n",
       "      <td>6.12</td>\n",
       "      <td>0.98</td>\n",
       "      <td>1.85</td>\n",
       "      <td>1.13</td>\n",
       "      <td>13.34</td>\n",
       "    </tr>\n",
       "    <tr>\n",
       "      <td>Puzzle</td>\n",
       "      <td>1.72</td>\n",
       "      <td>0.96</td>\n",
       "      <td>1.49</td>\n",
       "      <td>0.71</td>\n",
       "      <td>0.01</td>\n",
       "      <td>4.89</td>\n",
       "    </tr>\n",
       "  </tbody>\n",
       "</table>\n",
       "</div>"
      ],
      "text/plain": [
       "year_of_release    2012    2013    2014    2015    2016    total\n",
       "genre                                                           \n",
       "total            355.84  361.24  331.53  267.98  129.94  1446.53\n",
       "Action           119.25  122.51   97.23   72.02   30.11   441.12\n",
       "Shooter           71.75   62.04   65.21   67.51   38.22   304.73\n",
       "Role-Playing      46.91   44.45   45.62   37.64   18.18   192.80\n",
       "Sports            30.42   41.17   45.15   40.84   23.49   181.07\n",
       "Misc              22.22   25.27   23.38   11.57    2.60    85.04\n",
       "Platform          18.37   24.54    8.81    6.05    3.23    61.00\n",
       "Racing            13.61   12.37   16.66    8.07    2.79    53.50\n",
       "Fighting           9.18    7.09   15.85    7.90    4.47    44.49\n",
       "Simulation        13.36    8.63    5.58    5.66    1.89    35.12\n",
       "Adventure          5.79    6.09    5.57    8.16    3.82    29.43\n",
       "Strategy           3.26    6.12    0.98    1.85    1.13    13.34\n",
       "Puzzle             1.72    0.96    1.49    0.71    0.01     4.89"
      ]
     },
     "execution_count": 32,
     "metadata": {},
     "output_type": "execute_result"
    }
   ],
   "source": [
    "#изучим распределение игр по жанрам\n",
    "#определим самый прибыльный\n",
    "(\n",
    "    data_games_2012\n",
    "    .pivot_table(index='genre',columns='year_of_release'\n",
    "                 ,values='total_sales',aggfunc='sum',margins=True,margins_name='total')\n",
    "    .sort_values(by='total', ascending=False)\n",
    ")"
   ]
  },
  {
   "cell_type": "code",
   "execution_count": 33,
   "metadata": {},
   "outputs": [
    {
     "data": {
      "image/png": "[encoded data removed]",
      "text/plain": [
       "<Figure size 1440x504 with 1 Axes>"
      ]
     },
     "metadata": {
      "needs_background": "light"
     },
     "output_type": "display_data"
    }
   ],
   "source": [
    "#строим график по пяти самым прибыльным жанрам\n",
    "#все жанры нам нет смысла использовать, так как выбирать все равно будем один\n",
    "genre_top = ['Action', 'Shooter', 'Role-Playing', 'Sports','Misc']\n",
    "\n",
    "#составляем ту же таблицу, без общего подсчета и только по выбранным жанрам\n",
    "sales_genre = (\n",
    "    data_games_2012.query('genre in @genre_top')\n",
    "    .pivot_table(index='genre',columns='year_of_release'\n",
    "                 ,values='total_sales',aggfunc='sum')\n",
    ")\n",
    "\n",
    "#создадим список для значений по оси х\n",
    "x = data_games_2012['year_of_release'].unique()\n",
    "\n",
    "fig, ax = plt.subplots(figsize=(20,7))\n",
    "sales_genre.T.plot(kind='line',  ax=ax, grid=True, xticks=x)\n",
    "plt.ylabel('total_sales',fontsize='x-large')\n",
    "plt.xlabel('year_of_release',fontsize='x-large')\n",
    "plt.legend(fontsize='x-large')\n",
    "plt.show()"
   ]
  },
  {
   "cell_type": "markdown",
   "metadata": {},
   "source": [
    "На первый взгляд может казаться, что жанр Action в топе, но на графике четко видно, что с 2013 года он испытывает значительное падение, в то время как остальные жарны более менее находятся в одном положении (за 2016 год данные не полные, поэтому у всех жанров в этот период падение). <br>\n",
    "Следовательно на данный момент лидером среди жанров на рынке является Shooter."
   ]
  },
  {
   "cell_type": "markdown",
   "metadata": {},
   "source": [
    "***"
   ]
  },
  {
   "cell_type": "markdown",
   "metadata": {},
   "source": [
    "***Общий вывод***\n",
    "\n",
    "В 90х начался значительный рост в игровой индустрии, который достиг своего пика в 2005-7 годах. Но к 2016 году релизы и выручка снизились практически до уровня конца 90х.\n",
    "\n",
    "Скорость устаревания платформ прошлого тысячелетия от 4 до 7 лет, в то время как консоли нового поколения остаются актуальными до 10 лет.\n",
    "\n",
    "Самые прибыльные платорфмы с 1980 года, с порядке убывания популярнсти: PS2, X360, PS3, Wii и DS На промежутке с 2012 года - PS4, PS3, X360, 3DS, XOne. Из них наиболее перспективные - PS4, XOne и 3DS.\n",
    "\n",
    "Диаграмма размаха продемонстрировала, что в большинстве игры на PS4 & XOne продаются одинаково. Графики размаха почти идентичны, за исключением выбросов. На PS4 выходит больше экслюзивов.\n",
    "\n",
    "Существует умеренная зависимость между оценками критиков и продажами. Критики как правило более благосклонны к играм. В то время как зависимость между отзывами пользователей и продажами почти не прослеживается. Пользователи более критичны в своих оценках. Однако, оценки пользователей и критиков выставляются примерно в одном направлении. Если игра имееют отличную оценку от критиков, то с большей вероятностью можно сказать что и от пользователей оценка будет как минимум нормальная.\n",
    "\n",
    "Самый прибыльный жанр с 2012 года - Shooter, за ним Sports & Role-Plaing, далее Action занимает третье место и замыкает Misc."
   ]
  },
  {
   "cell_type": "markdown",
   "metadata": {},
   "source": [
    "***"
   ]
  },
  {
   "cell_type": "markdown",
   "metadata": {},
   "source": [
    "## Портрет регионов"
   ]
  },
  {
   "cell_type": "markdown",
   "metadata": {},
   "source": [
    "    Составим портрет пользователя в каждом регионе: Северная Америка, Европа, Япония.<br>\n",
    "Определим:\n",
    "- Самые популярные платформы (топ-5)\n",
    "- Самые популярные жанры (топ-5)\n",
    "- Влияет ли рейтинг ESRB на продажи в отдельном регионе?"
   ]
  },
  {
   "cell_type": "markdown",
   "metadata": {},
   "source": [
    "***"
   ]
  },
  {
   "cell_type": "markdown",
   "metadata": {},
   "source": [
    "***Северная Америка***"
   ]
  },
  {
   "cell_type": "code",
   "execution_count": 39,
   "metadata": {},
   "outputs": [
    {
     "data": {
      "text/plain": [
       "<matplotlib.axes._subplots.AxesSubplot at 0x7f7462686450>"
      ]
     },
     "execution_count": 39,
     "metadata": {},
     "output_type": "execute_result"
    },
    {
     "data": {
      "image/png": "[encoded data removed]",
      "text/plain": [
       "<Figure size 576x576 with 1 Axes>"
      ]
     },
     "metadata": {
      "needs_background": "light"
     },
     "output_type": "display_data"
    }
   ],
   "source": [
    "#выделим топ-5 популярных плаформ\n",
    "\n",
    "data_games_2012.pivot_table(index='platform', values='na_sales', aggfunc='sum'\n",
    "                    ).sort_values('na_sales', ascending=False).head(5\n",
    "                    ).plot(kind='bar', figsize=(8,8))"
   ]
  },
  {
   "cell_type": "markdown",
   "metadata": {},
   "source": [
    "В продажах лидирует консоль от Microsoft (XOne), но платформы от Sony не сильно отстают и находятся почти на одном уровне друг с другом. 3DS так же попадает в топ-5 лидеров среди платформ, пусть и на последнем месте."
   ]
  },
  {
   "cell_type": "code",
   "execution_count": 40,
   "metadata": {},
   "outputs": [
    {
     "data": {
      "text/plain": [
       "<matplotlib.axes._subplots.AxesSubplot at 0x7f7462471750>"
      ]
     },
     "execution_count": 40,
     "metadata": {},
     "output_type": "execute_result"
    },
    {
     "data": {
      "image/png": "[encoded data removed]",
      "text/plain": [
       "<Figure size 576x576 with 1 Axes>"
      ]
     },
     "metadata": {
      "needs_background": "light"
     },
     "output_type": "display_data"
    }
   ],
   "source": [
    "#выделим топ-5 жанров\n",
    "\n",
    "data_games_2012.pivot_table(index='genre', values='na_sales', aggfunc='sum'\n",
    "                    ).sort_values('na_sales', ascending=False).head(5\n",
    "                    ).plot(kind='bar', figsize=(8,8))"
   ]
  },
  {
   "cell_type": "markdown",
   "metadata": {},
   "source": [
    "Жанр Action занимает лидирующие позиции, но стоит проверить динамику, так как в предыдущем исследовании общих продаж этот жанр сдает свои позиции"
   ]
  },
  {
   "cell_type": "code",
   "execution_count": 42,
   "metadata": {},
   "outputs": [
    {
     "data": {
      "image/png": "[encoded data removed]",
      "text/plain": [
       "<Figure size 720x360 with 1 Axes>"
      ]
     },
     "metadata": {
      "needs_background": "light"
     },
     "output_type": "display_data"
    }
   ],
   "source": [
    "data_games_2012_top_genre = data_games_2012.query('genre in [\"Action\",\"Shooter\",\"Sports\",\"Role-Playing\",\"Misc\"]')\n",
    "fig, ax = plt.subplots(figsize=(10,5))\n",
    "pd.crosstab(data_games_2012_top_genre['genre'], \n",
    "            data_games_2012_top_genre['year_of_release'],\n",
    "            values=data_games_2012_top_genre['na_sales'],\n",
    "            aggfunc='sum').T.plot(ax = ax, xticks=x)\n",
    "\n",
    "plt.show()"
   ]
  },
  {
   "cell_type": "markdown",
   "metadata": {},
   "source": [
    "Как и было отмечено ранее, жанр Action успает позиции лидера Shooter, но не скатывается на последние позиции, а остается на втором месте. В топ-5 жанров попали те же, что и во всем мире. "
   ]
  },
  {
   "cell_type": "code",
   "execution_count": 46,
   "metadata": {},
   "outputs": [
    {
     "data": {
      "text/plain": [
       "<matplotlib.axes._subplots.AxesSubplot at 0x7f74625209d0>"
      ]
     },
     "execution_count": 46,
     "metadata": {},
     "output_type": "execute_result"
    },
    {
     "data": {
      "image/png": "[encoded data removed]",
      "text/plain": [
       "<Figure size 360x360 with 1 Axes>"
      ]
     },
     "metadata": {
      "needs_background": "light"
     },
     "output_type": "display_data"
    }
   ],
   "source": [
    "#влияние рейтинга ESRB на продажи\n",
    "\n",
    "fig, axs = plt.subplots(1, figsize=(5,5))\n",
    "data_games_2012.groupby('rating')['na_sales'].sum().plot(kind='bar')"
   ]
  },
  {
   "cell_type": "markdown",
   "metadata": {},
   "source": [
    "Наибольшим спросом пользуются игры с рейтингом М (для взрослых) : эти игры, как правило, с незацензуренными сценами жестокости, насилия, некоторые сцены носят сексуальный характер, а так как это все недопустимо для молодого потребителя (младше 17 лет), то и желание сыграть гораздо выше, чем в детские/подростковые игры."
   ]
  },
  {
   "cell_type": "markdown",
   "metadata": {},
   "source": [
    "***"
   ]
  },
  {
   "cell_type": "markdown",
   "metadata": {},
   "source": [
    "***Европа***"
   ]
  },
  {
   "cell_type": "code",
   "execution_count": 48,
   "metadata": {},
   "outputs": [
    {
     "data": {
      "text/plain": [
       "<matplotlib.axes._subplots.AxesSubplot at 0x7f7469a268d0>"
      ]
     },
     "execution_count": 48,
     "metadata": {},
     "output_type": "execute_result"
    },
    {
     "data": {
      "image/png": "[encoded data removed]",
      "text/plain": [
       "<Figure size 576x576 with 1 Axes>"
      ]
     },
     "metadata": {
      "needs_background": "light"
     },
     "output_type": "display_data"
    }
   ],
   "source": [
    "#выделим топ-5 популярных плаформ\n",
    "\n",
    "data_games_2012.pivot_table(index='platform', values='eu_sales', aggfunc='sum'\n",
    "                    ).sort_values('eu_sales', ascending=False).head(5\n",
    "                    ).plot(kind='bar', figsize=(8,8))"
   ]
  },
  {
   "cell_type": "markdown",
   "metadata": {},
   "source": [
    "В Европе ситуция немного обстоит иначе с платформами: в лидеры выбивается Sony (PS4 и PS3), XBox же занимают последние позиции. С 3DS показатели такие же как в Северной Америке."
   ]
  },
  {
   "cell_type": "code",
   "execution_count": 49,
   "metadata": {},
   "outputs": [
    {
     "data": {
      "text/plain": [
       "<matplotlib.axes._subplots.AxesSubplot at 0x7f74625204d0>"
      ]
     },
     "execution_count": 49,
     "metadata": {},
     "output_type": "execute_result"
    },
    {
     "data": {
      "image/png": "[encoded data removed]",
      "text/plain": [
       "<Figure size 576x576 with 1 Axes>"
      ]
     },
     "metadata": {
      "needs_background": "light"
     },
     "output_type": "display_data"
    }
   ],
   "source": [
    "#выделим топ-5 жанров\n",
    "\n",
    "data_games_2012.pivot_table(index='genre', values='eu_sales', aggfunc='sum'\n",
    "                    ).sort_values('eu_sales', ascending=False).head(5\n",
    "                    ).plot(kind='bar', figsize=(8,8))"
   ]
  },
  {
   "cell_type": "code",
   "execution_count": 50,
   "metadata": {},
   "outputs": [
    {
     "data": {
      "image/png": "[encoded data removed]",
      "text/plain": [
       "<Figure size 720x360 with 1 Axes>"
      ]
     },
     "metadata": {
      "needs_background": "light"
     },
     "output_type": "display_data"
    }
   ],
   "source": [
    "data_games_2012_top_genre = data_games_2012.query('genre in [\"Action\",\"Shooter\",\"Sports\",\"Role-Playing\",\"Racing\"]')\n",
    "fig, ax = plt.subplots(figsize=(10,5))\n",
    "pd.crosstab(data_games_2012_top_genre['genre'], \n",
    "            data_games_2012_top_genre['year_of_release'],\n",
    "            values=data_games_2012_top_genre['eu_sales'],\n",
    "            aggfunc='sum').T.plot(ax = ax, xticks=x)\n",
    "\n",
    "plt.show()"
   ]
  },
  {
   "cell_type": "markdown",
   "metadata": {},
   "source": [
    "У Европейских пользователей примерно такие же предпочтения как и в Северной Америке, за исключением последнего вида жанра (вместо Misc позицию занимает Racing). И так же как и везде Action занимал какое-то время лидирующие позиции, но со временем уступил жанру Shooter и даже Sports. Это может быть связано, что в этом жанре стали меньше выпускать игр, отдавая другим жанрам предпочтение."
   ]
  },
  {
   "cell_type": "code",
   "execution_count": 51,
   "metadata": {},
   "outputs": [
    {
     "data": {
      "text/plain": [
       "<matplotlib.axes._subplots.AxesSubplot at 0x7f74622d4850>"
      ]
     },
     "execution_count": 51,
     "metadata": {},
     "output_type": "execute_result"
    },
    {
     "data": {
      "image/png": "[encoded data removed]",
      "text/plain": [
       "<Figure size 360x360 with 1 Axes>"
      ]
     },
     "metadata": {
      "needs_background": "light"
     },
     "output_type": "display_data"
    }
   ],
   "source": [
    "#влияние рейтинга ESRB на продажи\n",
    "\n",
    "fig, axs = plt.subplots(1, figsize=(5,5))\n",
    "data_games_2012.groupby('rating')['eu_sales'].sum().plot(kind='bar')"
   ]
  },
  {
   "cell_type": "markdown",
   "metadata": {},
   "source": [
    "Ситуация такая же как в Северной Америке: популярны игры с рейтингом M (для взрослых). Да и остальные показатали примерно такие же."
   ]
  },
  {
   "cell_type": "markdown",
   "metadata": {},
   "source": [
    "***"
   ]
  },
  {
   "cell_type": "markdown",
   "metadata": {},
   "source": [
    "***Япония***"
   ]
  },
  {
   "cell_type": "code",
   "execution_count": 56,
   "metadata": {},
   "outputs": [
    {
     "data": {
      "text/plain": [
       "<matplotlib.axes._subplots.AxesSubplot at 0x7f746999bd10>"
      ]
     },
     "execution_count": 56,
     "metadata": {},
     "output_type": "execute_result"
    },
    {
     "data": {
      "image/png": "[encoded data removed]",
      "text/plain": [
       "<Figure size 576x576 with 1 Axes>"
      ]
     },
     "metadata": {
      "needs_background": "light"
     },
     "output_type": "display_data"
    }
   ],
   "source": [
    "#выделим топ-5 популярных платформ\n",
    "\n",
    "data_games_2012.pivot_table(index='platform', values='jp_sales', aggfunc='sum'\n",
    "                    ).sort_values('jp_sales', ascending=False).head(5\n",
    "                    ).plot(kind='bar', figsize=(8,8))"
   ]
  },
  {
   "cell_type": "markdown",
   "metadata": {},
   "source": [
    "В Японии все совсем переигралось: самым популярным является портативная консоль 3DS (скорее всего потому, что подростки не расстаются с гаджетами и предпочитают играть везде, где эо только возможно, а так же у японцев настолько активный образ жизни и столько работы, что расслабиться за игрой, видимо, есть возможность только на ходу).<br>\n",
    "XBox вообще не фигурирует в топ-5, но зато Sony попало в пятерку лидеров и даже занимает не послежние позиции, однако PS3 опережает PS4 на целых два пункт, хотя во всем остальном мире с точностью наоборот. "
   ]
  },
  {
   "cell_type": "code",
   "execution_count": 53,
   "metadata": {},
   "outputs": [
    {
     "data": {
      "text/plain": [
       "<matplotlib.axes._subplots.AxesSubplot at 0x7f74621bf850>"
      ]
     },
     "execution_count": 53,
     "metadata": {},
     "output_type": "execute_result"
    },
    {
     "data": {
      "image/png": "[encoded data removed]",
      "text/plain": [
       "<Figure size 576x576 with 1 Axes>"
      ]
     },
     "metadata": {
      "needs_background": "light"
     },
     "output_type": "display_data"
    }
   ],
   "source": [
    "#выделим топ-5 жанров\n",
    "\n",
    "data_games_2012.pivot_table(index='genre', values='jp_sales', aggfunc='sum'\n",
    "                    ).sort_values('jp_sales', ascending=False).head(5\n",
    "                    ).plot(kind='bar', figsize=(8,8))"
   ]
  },
  {
   "cell_type": "code",
   "execution_count": 59,
   "metadata": {},
   "outputs": [
    {
     "data": {
      "image/png": "[encoded data removed]",
      "text/plain": [
       "<Figure size 720x360 with 1 Axes>"
      ]
     },
     "metadata": {
      "needs_background": "light"
     },
     "output_type": "display_data"
    }
   ],
   "source": [
    "data_games_2012_top_genre = data_games_2012.query('genre in [\"Role-Playing\", \"Action\", \"Misc\", \"Simulation\",\"Fighting\"]')\n",
    "fig, ax = plt.subplots(figsize=(10,5))\n",
    "pd.crosstab(data_games_2012_top_genre['genre'], \n",
    "            data_games_2012_top_genre['year_of_release'],\n",
    "            values=data_games_2012_top_genre['jp_sales'],\n",
    "            aggfunc='sum').T.plot(ax = ax, xticks=x)\n",
    "\n",
    "plt.show()"
   ]
  },
  {
   "cell_type": "markdown",
   "metadata": {},
   "source": [
    "В жанрах игроки Японии тоже смогли отличиться: RPG и Action борются за первое место, но все таки RPG остается более популярным, не смотря на всплески Action в динамике по годам. Примечательно, что кроме RPG и Action, Япония не сопадает со всем остальным миром. Misc, Simulation и Fighting занимают приблизительно одинаковые позиции на протяжении всего времени."
   ]
  },
  {
   "cell_type": "code",
   "execution_count": 55,
   "metadata": {},
   "outputs": [
    {
     "data": {
      "text/plain": [
       "<matplotlib.axes._subplots.AxesSubplot at 0x7f746213a990>"
      ]
     },
     "execution_count": 55,
     "metadata": {},
     "output_type": "execute_result"
    },
    {
     "data": {
      "image/png": "[encoded data removed]",
      "text/plain": [
       "<Figure size 360x360 with 1 Axes>"
      ]
     },
     "metadata": {
      "needs_background": "light"
     },
     "output_type": "display_data"
    }
   ],
   "source": [
    "#влияние рейтинга ESRB на продажи\n",
    "\n",
    "fig, axs = plt.subplots(1, figsize=(5,5))\n",
    "data_games_2012.groupby('rating')['jp_sales'].sum().plot(kind='bar')"
   ]
  },
  {
   "cell_type": "markdown",
   "metadata": {},
   "source": [
    "Как уже понятно из предыдущих двух показатей, то Япония существенно отличается от всего остального мира: игры для всех (E), подростков (T) и взрослых (M) находятся на почти одинаковом пике популярности, хотя даже игры для всех (E) выбиваются в лидеры - видимо популярность как раз таки в общей доступности. (Тут вполне вероятно играет дисциплина, так как Япония одна из самых дисциплинированных и \"воспитанных\" стран, то навряд ли дети/подростки будут пытаться играть в недозволенные игры)"
   ]
  },
  {
   "cell_type": "markdown",
   "metadata": {},
   "source": [
    "***"
   ]
  },
  {
   "cell_type": "markdown",
   "metadata": {},
   "source": [
    "***Общий вывод***\n",
    "\n",
    "По итогу мы имеем, что по своим показателям Северная Америка и Европа схожи: они отдают предпочтение классическим консолям и поддерживают производителей Microsoft и Sony, немного различаясь в лидерах, но в целом набор лидирующих платформ одинаковый. Различия могут быть из-за ценовой политики разных стран, рекламных кампаний и прочее. Но историческое противостояние XBox и PS имеет место быть, при чем PS зачастую выигрывает за счет большего кол-ва эксклюзивных игр. <br>\n",
    "В жанрах и влиянии рейтинга ESRB же они почти полностью копируют друг друга, даже практически повторяют общую динамику.(Кроме последнего места в жанрах: Северная Америка -  Misc, Европа - Racing)\n",
    "\n",
    "Что же касается Японии, то это регион тотально отличается от первых друх рассматриваемых. Местные пользователи предпочитают портативность стационарным консолям и полностью поддерживают отечетсвенного производителя. В жанрах игроки вывели в топ-5 абсолютно другие, достаточно характерные для стериотипного пользователя Японии. Рейтинг же, как было сказано выше, почти равен между собой, в то время как в Северной Америке и Европе преобладают только игры с рейтингом M (для взрослых)."
   ]
  },
  {
   "cell_type": "markdown",
   "metadata": {},
   "source": [
    "***"
   ]
  },
  {
   "cell_type": "markdown",
   "metadata": {},
   "source": [
    "## Проверка гипотез"
   ]
  },
  {
   "cell_type": "markdown",
   "metadata": {},
   "source": [
    "*Нам необходимо проверить две гипотезы:*\n",
    "- *Средние пользовательские рейтинги платформ Xbox One и PC одинаковые;*\n",
    "- *Средние пользовательские рейтинги жанров Action (англ. «действие», экшен-игры) и Sports (англ. «спортивные соревнования») разные.*\n",
    "\n",
    "*Обе гипотезы подразумевают сравнение средних значений двух независимых выборок. Поэтому воспользуемся t-критерием Стьюдента.*"
   ]
  },
  {
   "cell_type": "markdown",
   "metadata": {},
   "source": [
    "***"
   ]
  },
  {
   "cell_type": "markdown",
   "metadata": {},
   "source": [
    "Начнем с первой гипотезы: \n",
    "- H0 - Средние пользовательские рейтинги платформ Xbox One и PC одинаковые\n",
    "- H1 - Средние пользовательские рейтинги платформ Xbox One и PC различаются\n",
    "\n",
    "**Пороговое значение alpha зададим 5%**"
   ]
  },
  {
   "cell_type": "code",
   "execution_count": 91,
   "metadata": {},
   "outputs": [
    {
     "name": "stdout",
     "output_type": "stream",
     "text": [
      "p-value -  0.5535080500643661\n",
      "Нулевую гипотезу отвергнуть не удалось\n"
     ]
    }
   ],
   "source": [
    "xbox = data_games_2012.loc[(data_games_2012['platform'] == 'XOne') & (data_games_2012['user_score'].notna())]\n",
    "xbox_user_score = xbox['user_score'].tolist()\n",
    "pc = data_games_2012.loc[(data_games_2012['platform'] == 'PC') & (data_games_2012['user_score'].notna())]\n",
    "pc_user_score = pc['user_score'].tolist()\n",
    "\n",
    "\n",
    "alpha = 0.05\n",
    "\n",
    "result = st.ttest_ind(xbox_user_score,pc_user_score)\n",
    "\n",
    "print('p-value - ', result.pvalue)\n",
    "\n",
    "if (result.pvalue < alpha):\n",
    "    print('Отвергаем нулевую гипотезу')\n",
    "else:\n",
    "    print('Нулевую гипотезу отвергнуть не удалось')"
   ]
  },
  {
   "cell_type": "markdown",
   "metadata": {},
   "source": [
    "Уровень p-значимости больше заданого порогового значения (5%), что означает, что мы **не можем отвергнуть нулевую гипотезу о равенстве среднего пользовательского рейтинга платформ Xbox One и PC**"
   ]
  },
  {
   "cell_type": "markdown",
   "metadata": {},
   "source": [
    "***"
   ]
  },
  {
   "cell_type": "markdown",
   "metadata": {},
   "source": [
    "Проверяем вторую гипотезу: \n",
    "- H0 - Средние пользовательские рейтинги жанров Action и Sports равны\n",
    "- H1 - Средние пользовательские рейтинги жанров Action и Sports различаются\n",
    "\n",
    "(нам необходимо проверить именно сам факт различия, который мы взяли за альтернативную гипотезу H1, так как нулевая гипотеза H0 всегда идет со знаком равенства)\n",
    "\n",
    "**Пороговое значение alpha зададим 5%**"
   ]
  },
  {
   "cell_type": "code",
   "execution_count": 92,
   "metadata": {},
   "outputs": [
    {
     "name": "stdout",
     "output_type": "stream",
     "text": [
      "p-value -  3.7163089460934874e-26\n",
      "Отвергаем нулевую гипотезу\n"
     ]
    }
   ],
   "source": [
    "action = data_games_2012.loc[(data_games_2012['genre'] == 'Action') & (data_games_2012['user_score'].notna())]\n",
    "sports = data_games_2012.loc[(data_games_2012['genre'] == 'Sports') & (data_games_2012['user_score'].notna())]\n",
    "action_user_score = action['user_score'].tolist()\n",
    "sports_user_score = sports['user_score'].tolist()\n",
    "\n",
    "\n",
    "alpha = 0.05\n",
    "\n",
    "result = st.ttest_ind(action_user_score, sports_user_score)\n",
    "\n",
    "print('p-value - ', result.pvalue)\n",
    "\n",
    "if (result.pvalue < alpha):\n",
    "    print('Отвергаем нулевую гипотезу')\n",
    "else:\n",
    "    print('Нулевую гипотезу отвергнуть не удалось')"
   ]
  },
  {
   "cell_type": "markdown",
   "metadata": {},
   "source": [
    "Уровень p-значимости значительно меньше порогового значения (5%), что означает, что мы **принимает альтернативную гипотезу: о различии среднего пользовательского рейтинга жанров Action и Sports**"
   ]
  },
  {
   "cell_type": "markdown",
   "metadata": {},
   "source": [
    "***"
   ]
  },
  {
   "cell_type": "markdown",
   "metadata": {},
   "source": [
    "## Общий вывод"
   ]
  },
  {
   "cell_type": "markdown",
   "metadata": {},
   "source": [
    "В ходе проделанной работы были обработаны и изученные данные по продажам игр с 1980 по 2016 год:\n",
    "- обработаны пропуски, изменен тип данных в необходимых местах и названия колонок приведены к единому стилю (к нижнему регистру);\n",
    "- посчитаны объемы продаж каждой игры;\n",
    "- выявлено сокращение выпускаемых игр, а так же их продаж за последние 10 лет (продажы могут быть сокращены еще и за счет развивабщегося сервиса онлайн-игр и ежемесячных бесплатных или с очень большой скидкой игр по подписке);\n",
    "- установили, что скорость устаревания платформы уменьшилась почти в 2 рада: в 20 веке платформы устаревали за 4-7 лет, платформы нового поколения \"живут\" до 10 лет;\n",
    "- определены самые прибыльные платформы за все время - PS2, X360, PS3, Wii и DS;\n",
    "- на данный момент существуют две лидирующие консоли: от Microsoft и от Sony;\n",
    "- Sony в своей совокупности опережает Microsoft по продажам;\n",
    "- рейтинг критиков у многих успешных игр был выско, в то время как пользовательский рейтинг почти не корелирует с продажами;\n",
    "- установлено, что поведение игроков Северной Америки совпадает с поведением игроков Европы, особенно в отношении жанров, с небольшими, но не значительными расхожденями в платформах. Япония же отличается предпочтением к портативным консолям и жанрам, которые сильно отличаются от остального мира;\n",
    "- после проверки гипотез установленно, что средние пользовательские рейтинги XBox One и PC практически не отличаются и средние пользовательские рейтинги жанров ACtion и Sports разные\n",
    "\n",
    "На основании исследования соберем факторы, которые помогут определить коммерческий успех игры.  В ближайшем году нужно сфокусироваться на самых актуальных платформах - X-Box One, PS4 и 3DS. Топ-5 популярных жанров в мире - Action, Shooter, Sports, Role-Playing, Misc. Предпочтение следует отдавать играм с рейтингом M и высоким рейтингом критиков, такие игры чаще становятся кассовыми.\n",
    "\n",
    "Однако стоит понимать, что для разных регионов должна быть выбрана разная стратегия, так как предпочтения пользователей все таки имеют значительные отличия, как например в Америке и Японии. Начиная от выбора платформы, заканчивая жанрами."
   ]
  },
  {
   "cell_type": "code",
   "execution_count": null,
   "metadata": {},
   "outputs": [],
   "source": []
  }
 ],
 "metadata": {
  "ExecuteTimeLog": [
   {
    "duration": 1553,
    "start_time": "2022-01-10T19:11:06.303Z"
   },
   {
    "duration": 4,
    "start_time": "2022-01-10T19:15:43.711Z"
   },
   {
    "duration": 80,
    "start_time": "2022-01-10T19:17:22.097Z"
   },
   {
    "duration": 15,
    "start_time": "2022-01-10T19:18:05.114Z"
   },
   {
    "duration": 44,
    "start_time": "2022-01-10T19:18:34.214Z"
   },
   {
    "duration": 69,
    "start_time": "2022-01-10T19:27:46.398Z"
   },
   {
    "duration": 95,
    "start_time": "2022-01-10T19:27:55.371Z"
   },
   {
    "duration": 14,
    "start_time": "2022-01-10T19:28:24.217Z"
   },
   {
    "duration": 573,
    "start_time": "2022-01-10T19:32:35.827Z"
   },
   {
    "duration": 26,
    "start_time": "2022-01-10T19:32:41.415Z"
   },
   {
    "duration": 1506,
    "start_time": "2022-01-11T20:36:39.330Z"
   },
   {
    "duration": 1448,
    "start_time": "2022-01-11T20:36:47.186Z"
   },
   {
    "duration": 4,
    "start_time": "2022-01-11T20:36:50.844Z"
   },
   {
    "duration": 68,
    "start_time": "2022-01-11T20:36:52.014Z"
   },
   {
    "duration": 15,
    "start_time": "2022-01-11T20:36:54.876Z"
   },
   {
    "duration": 45,
    "start_time": "2022-01-11T20:36:56.466Z"
   },
   {
    "duration": 12,
    "start_time": "2022-01-11T20:36:58.631Z"
   },
   {
    "duration": 24,
    "start_time": "2022-01-11T20:37:00.472Z"
   },
   {
    "duration": 6,
    "start_time": "2022-01-11T20:37:03.963Z"
   },
   {
    "duration": 596,
    "start_time": "2022-01-11T20:44:37.826Z"
   },
   {
    "duration": 8,
    "start_time": "2022-01-11T20:46:28.585Z"
   },
   {
    "duration": 317,
    "start_time": "2022-01-11T20:46:35.134Z"
   },
   {
    "duration": 305,
    "start_time": "2022-01-11T20:46:53.944Z"
   },
   {
    "duration": 360,
    "start_time": "2022-01-11T20:49:44.279Z"
   },
   {
    "duration": 503,
    "start_time": "2022-01-11T20:50:07.658Z"
   },
   {
    "duration": 306,
    "start_time": "2022-01-11T20:51:24.309Z"
   },
   {
    "duration": 309,
    "start_time": "2022-01-11T20:51:43.886Z"
   },
   {
    "duration": 432,
    "start_time": "2022-01-11T20:53:06.337Z"
   },
   {
    "duration": 473,
    "start_time": "2022-01-11T20:53:12.354Z"
   },
   {
    "duration": 26,
    "start_time": "2022-01-11T20:55:27.273Z"
   },
   {
    "duration": 10,
    "start_time": "2022-01-11T21:00:05.410Z"
   },
   {
    "duration": 20,
    "start_time": "2022-01-11T21:00:16.312Z"
   },
   {
    "duration": 25,
    "start_time": "2022-01-11T21:01:49.674Z"
   },
   {
    "duration": 1062,
    "start_time": "2022-01-12T13:55:32.854Z"
   },
   {
    "duration": 2,
    "start_time": "2022-01-12T13:55:34.108Z"
   },
   {
    "duration": 51,
    "start_time": "2022-01-12T13:55:35.280Z"
   },
   {
    "duration": 11,
    "start_time": "2022-01-12T13:55:36.323Z"
   },
   {
    "duration": 27,
    "start_time": "2022-01-12T13:55:37.157Z"
   },
   {
    "duration": 9,
    "start_time": "2022-01-12T13:55:38.098Z"
   },
   {
    "duration": 14,
    "start_time": "2022-01-12T13:55:38.990Z"
   },
   {
    "duration": 5,
    "start_time": "2022-01-12T13:55:42.326Z"
   },
   {
    "duration": 15,
    "start_time": "2022-01-12T13:55:44.238Z"
   },
   {
    "duration": 19,
    "start_time": "2022-01-12T13:55:47.787Z"
   },
   {
    "duration": 3,
    "start_time": "2022-01-12T18:13:08.862Z"
   },
   {
    "duration": 296,
    "start_time": "2022-01-12T18:15:40.930Z"
   },
   {
    "duration": 285,
    "start_time": "2022-01-12T18:16:15.759Z"
   },
   {
    "duration": 294,
    "start_time": "2022-01-12T18:17:06.145Z"
   },
   {
    "duration": 2,
    "start_time": "2022-01-12T18:41:16.859Z"
   },
   {
    "duration": 11,
    "start_time": "2022-01-12T18:44:20.496Z"
   },
   {
    "duration": 2,
    "start_time": "2022-01-12T18:48:49.696Z"
   },
   {
    "duration": 4899,
    "start_time": "2022-01-12T18:52:17.990Z"
   },
   {
    "duration": 18,
    "start_time": "2022-01-12T18:52:50.210Z"
   },
   {
    "duration": 20,
    "start_time": "2022-01-12T18:53:40.825Z"
   },
   {
    "duration": 13,
    "start_time": "2022-01-12T18:53:53.476Z"
   },
   {
    "duration": 10,
    "start_time": "2022-01-12T18:54:24.358Z"
   },
   {
    "duration": 13,
    "start_time": "2022-01-12T18:57:39.640Z"
   },
   {
    "duration": 13,
    "start_time": "2022-01-12T18:57:50.091Z"
   },
   {
    "duration": 12,
    "start_time": "2022-01-12T18:58:43.877Z"
   },
   {
    "duration": 18,
    "start_time": "2022-01-12T18:59:20.739Z"
   },
   {
    "duration": 17,
    "start_time": "2022-01-12T19:17:31.701Z"
   },
   {
    "duration": 230,
    "start_time": "2022-01-12T19:22:21.560Z"
   },
   {
    "duration": 9,
    "start_time": "2022-01-12T19:22:33.243Z"
   },
   {
    "duration": 9,
    "start_time": "2022-01-12T19:22:48.168Z"
   },
   {
    "duration": 13,
    "start_time": "2022-01-12T19:23:21.629Z"
   },
   {
    "duration": 3,
    "start_time": "2022-01-12T19:35:01.175Z"
   },
   {
    "duration": 6027,
    "start_time": "2022-01-12T19:42:22.248Z"
   },
   {
    "duration": 5445,
    "start_time": "2022-01-12T19:42:37.320Z"
   },
   {
    "duration": 76,
    "start_time": "2022-01-12T19:43:28.304Z"
   },
   {
    "duration": 82,
    "start_time": "2022-01-12T19:43:34.489Z"
   },
   {
    "duration": 3,
    "start_time": "2022-01-12T19:46:48.365Z"
   },
   {
    "duration": 201,
    "start_time": "2022-01-12T19:55:22.825Z"
   },
   {
    "duration": 195,
    "start_time": "2022-01-12T19:56:17.420Z"
   },
   {
    "duration": 201,
    "start_time": "2022-01-12T19:57:41.206Z"
   },
   {
    "duration": 185,
    "start_time": "2022-01-12T19:58:48.621Z"
   },
   {
    "duration": 304,
    "start_time": "2022-01-12T19:59:57.768Z"
   },
   {
    "duration": 4,
    "start_time": "2022-01-12T20:03:03.554Z"
   },
   {
    "duration": 2,
    "start_time": "2022-01-12T20:05:12.427Z"
   },
   {
    "duration": 17,
    "start_time": "2022-01-12T20:23:11.811Z"
   },
   {
    "duration": 13,
    "start_time": "2022-01-12T20:23:50.615Z"
   },
   {
    "duration": 197,
    "start_time": "2022-01-12T20:26:06.837Z"
   },
   {
    "duration": 1071,
    "start_time": "2022-01-13T18:18:13.662Z"
   },
   {
    "duration": 3,
    "start_time": "2022-01-13T18:18:15.102Z"
   },
   {
    "duration": 48,
    "start_time": "2022-01-13T18:18:16.013Z"
   },
   {
    "duration": 9,
    "start_time": "2022-01-13T18:18:16.449Z"
   },
   {
    "duration": 35,
    "start_time": "2022-01-13T18:18:16.602Z"
   },
   {
    "duration": 12,
    "start_time": "2022-01-13T18:18:16.802Z"
   },
   {
    "duration": 21,
    "start_time": "2022-01-13T18:18:17.025Z"
   },
   {
    "duration": 6,
    "start_time": "2022-01-13T18:18:17.854Z"
   },
   {
    "duration": 15,
    "start_time": "2022-01-13T18:18:18.087Z"
   },
   {
    "duration": 15,
    "start_time": "2022-01-13T18:18:18.565Z"
   },
   {
    "duration": 271,
    "start_time": "2022-01-13T18:18:19.612Z"
   },
   {
    "duration": 9,
    "start_time": "2022-01-13T18:18:20.249Z"
   },
   {
    "duration": 12,
    "start_time": "2022-01-13T18:18:20.485Z"
   },
   {
    "duration": 17,
    "start_time": "2022-01-13T18:18:20.987Z"
   },
   {
    "duration": 14,
    "start_time": "2022-01-13T18:18:22.799Z"
   },
   {
    "duration": 414,
    "start_time": "2022-01-13T18:18:23.268Z"
   },
   {
    "duration": 80,
    "start_time": "2022-01-13T18:18:23.739Z"
   },
   {
    "duration": 3,
    "start_time": "2022-01-13T18:18:24.149Z"
   },
   {
    "duration": 291,
    "start_time": "2022-01-13T18:18:24.515Z"
   },
   {
    "duration": 5,
    "start_time": "2022-01-13T18:18:24.859Z"
   },
   {
    "duration": 13,
    "start_time": "2022-01-13T18:18:25.382Z"
   },
   {
    "duration": 287,
    "start_time": "2022-01-13T18:18:26.551Z"
   },
   {
    "duration": 15,
    "start_time": "2022-01-13T18:24:51.159Z"
   },
   {
    "duration": 80,
    "start_time": "2022-01-13T18:25:01.825Z"
   },
   {
    "duration": 4,
    "start_time": "2022-01-13T18:25:04.742Z"
   },
   {
    "duration": 286,
    "start_time": "2022-01-13T18:25:06.352Z"
   },
   {
    "duration": 4,
    "start_time": "2022-01-13T18:25:10.171Z"
   },
   {
    "duration": 9,
    "start_time": "2022-01-13T18:25:12.478Z"
   },
   {
    "duration": 187,
    "start_time": "2022-01-13T18:25:16.590Z"
   },
   {
    "duration": 1527,
    "start_time": "2022-01-13T18:35:56.045Z"
   },
   {
    "duration": 373,
    "start_time": "2022-01-13T18:42:13.996Z"
   },
   {
    "duration": 328,
    "start_time": "2022-01-13T18:42:41.339Z"
   },
   {
    "duration": 879,
    "start_time": "2022-01-13T18:49:27.679Z"
   },
   {
    "duration": 565,
    "start_time": "2022-01-13T18:52:27.294Z"
   },
   {
    "duration": 587,
    "start_time": "2022-01-13T18:53:17.707Z"
   },
   {
    "duration": 393,
    "start_time": "2022-01-13T18:55:27.656Z"
   },
   {
    "duration": 135,
    "start_time": "2022-01-13T18:56:27.203Z"
   },
   {
    "duration": 368,
    "start_time": "2022-01-13T18:59:05.432Z"
   },
   {
    "duration": 511,
    "start_time": "2022-01-13T19:00:29.855Z"
   },
   {
    "duration": 563,
    "start_time": "2022-01-13T19:00:42.614Z"
   },
   {
    "duration": 416,
    "start_time": "2022-01-13T19:01:45.980Z"
   },
   {
    "duration": 359,
    "start_time": "2022-01-13T19:01:54.891Z"
   },
   {
    "duration": 312,
    "start_time": "2022-01-13T19:03:02.476Z"
   },
   {
    "duration": 271,
    "start_time": "2022-01-13T19:04:47.613Z"
   },
   {
    "duration": 9575,
    "start_time": "2022-01-13T19:05:22.781Z"
   },
   {
    "duration": 260,
    "start_time": "2022-01-13T19:05:40.210Z"
   },
   {
    "duration": 15,
    "start_time": "2022-01-13T19:17:33.368Z"
   },
   {
    "duration": 110,
    "start_time": "2022-01-13T19:18:19.019Z"
   },
   {
    "duration": 17,
    "start_time": "2022-01-13T19:20:30.320Z"
   },
   {
    "duration": 16,
    "start_time": "2022-01-13T19:20:37.356Z"
   },
   {
    "duration": 38,
    "start_time": "2022-01-13T19:22:58.992Z"
   },
   {
    "duration": 40,
    "start_time": "2022-01-13T19:37:58.047Z"
   },
   {
    "duration": 353,
    "start_time": "2022-01-13T19:45:23.631Z"
   },
   {
    "duration": 364,
    "start_time": "2022-01-13T19:45:54.992Z"
   },
   {
    "duration": 395,
    "start_time": "2022-01-13T19:46:31.140Z"
   },
   {
    "duration": 429,
    "start_time": "2022-01-13T19:46:45.088Z"
   },
   {
    "duration": 202,
    "start_time": "2022-01-13T19:51:44.298Z"
   },
   {
    "duration": 435,
    "start_time": "2022-01-13T19:51:48.637Z"
   },
   {
    "duration": 2202,
    "start_time": "2022-01-13T20:05:45.249Z"
   },
   {
    "duration": 284,
    "start_time": "2022-01-13T20:07:15.782Z"
   },
   {
    "duration": 850,
    "start_time": "2022-01-13T20:20:08.655Z"
   },
   {
    "duration": 797,
    "start_time": "2022-01-13T20:23:58.744Z"
   },
   {
    "duration": 2616,
    "start_time": "2022-01-13T20:24:11.065Z"
   },
   {
    "duration": 2176,
    "start_time": "2022-01-13T20:24:17.565Z"
   },
   {
    "duration": 120,
    "start_time": "2022-01-13T20:27:40.611Z"
   },
   {
    "duration": 38,
    "start_time": "2022-01-13T20:28:17.674Z"
   },
   {
    "duration": 346,
    "start_time": "2022-01-13T20:33:40.684Z"
   },
   {
    "duration": 351,
    "start_time": "2022-01-13T20:34:14.330Z"
   },
   {
    "duration": 16,
    "start_time": "2022-01-13T20:34:30.841Z"
   },
   {
    "duration": 911,
    "start_time": "2022-01-13T20:38:53.998Z"
   },
   {
    "duration": 292,
    "start_time": "2022-01-13T20:39:08.951Z"
   },
   {
    "duration": 1669,
    "start_time": "2022-01-14T19:26:24.773Z"
   },
   {
    "duration": 4,
    "start_time": "2022-01-14T19:26:26.446Z"
   },
   {
    "duration": 72,
    "start_time": "2022-01-14T19:26:27.408Z"
   },
   {
    "duration": 17,
    "start_time": "2022-01-14T19:26:27.901Z"
   },
   {
    "duration": 46,
    "start_time": "2022-01-14T19:26:28.136Z"
   },
   {
    "duration": 14,
    "start_time": "2022-01-14T19:26:28.369Z"
   },
   {
    "duration": 26,
    "start_time": "2022-01-14T19:26:28.551Z"
   },
   {
    "duration": 6,
    "start_time": "2022-01-14T19:26:30.409Z"
   },
   {
    "duration": 24,
    "start_time": "2022-01-14T19:26:31.459Z"
   },
   {
    "duration": 25,
    "start_time": "2022-01-14T19:26:33.710Z"
   },
   {
    "duration": 573,
    "start_time": "2022-01-14T19:26:37.821Z"
   },
   {
    "duration": 13,
    "start_time": "2022-01-14T19:26:43.453Z"
   },
   {
    "duration": 22,
    "start_time": "2022-01-14T19:27:28.488Z"
   },
   {
    "duration": 60,
    "start_time": "2022-01-14T19:27:29.949Z"
   },
   {
    "duration": 21,
    "start_time": "2022-01-14T19:27:32.513Z"
   },
   {
    "duration": 23,
    "start_time": "2022-01-14T19:27:33.237Z"
   },
   {
    "duration": 140,
    "start_time": "2022-01-14T19:27:33.856Z"
   },
   {
    "duration": 5,
    "start_time": "2022-01-14T19:27:34.555Z"
   },
   {
    "duration": 522,
    "start_time": "2022-01-14T19:27:35.157Z"
   },
   {
    "duration": 7,
    "start_time": "2022-01-14T19:27:35.749Z"
   },
   {
    "duration": 15,
    "start_time": "2022-01-14T19:27:37.748Z"
   },
   {
    "duration": 346,
    "start_time": "2022-01-14T19:27:39.217Z"
   },
   {
    "duration": 485,
    "start_time": "2022-01-14T19:27:40.697Z"
   },
   {
    "duration": 69,
    "start_time": "2022-01-14T19:27:42.230Z"
   },
   {
    "duration": 71,
    "start_time": "2022-01-14T19:27:44.155Z"
   },
   {
    "duration": 807,
    "start_time": "2022-01-14T19:27:46.010Z"
   },
   {
    "duration": 456,
    "start_time": "2022-01-14T19:27:48.405Z"
   },
   {
    "duration": 3568,
    "start_time": "2022-01-14T19:27:50.224Z"
   },
   {
    "duration": 398,
    "start_time": "2022-01-14T19:27:54.589Z"
   },
   {
    "duration": 1344,
    "start_time": "2022-01-14T19:27:56.355Z"
   },
   {
    "duration": 3966,
    "start_time": "2022-01-14T19:27:58.479Z"
   },
   {
    "duration": 72,
    "start_time": "2022-01-14T19:28:04.074Z"
   },
   {
    "duration": 527,
    "start_time": "2022-01-14T19:28:04.892Z"
   },
   {
    "duration": 377,
    "start_time": "2022-01-14T19:38:51.219Z"
   },
   {
    "duration": 256,
    "start_time": "2022-01-14T19:41:25.474Z"
   },
   {
    "duration": 374,
    "start_time": "2022-01-14T19:43:16.465Z"
   },
   {
    "duration": 360,
    "start_time": "2022-01-14T19:43:53.466Z"
   },
   {
    "duration": 404,
    "start_time": "2022-01-14T19:44:10.513Z"
   },
   {
    "duration": 335,
    "start_time": "2022-01-14T19:44:20.947Z"
   },
   {
    "duration": 329,
    "start_time": "2022-01-14T19:48:45.494Z"
   },
   {
    "duration": 552,
    "start_time": "2022-01-14T19:51:55.943Z"
   },
   {
    "duration": 350,
    "start_time": "2022-01-14T19:52:03.067Z"
   },
   {
    "duration": 927,
    "start_time": "2022-01-14T19:57:12.425Z"
   },
   {
    "duration": 645,
    "start_time": "2022-01-14T19:57:32.160Z"
   },
   {
    "duration": 453,
    "start_time": "2022-01-14T19:57:41.264Z"
   },
   {
    "duration": 218,
    "start_time": "2022-01-14T19:57:47.661Z"
   },
   {
    "duration": 354,
    "start_time": "2022-01-14T20:04:34.528Z"
   },
   {
    "duration": 402,
    "start_time": "2022-01-14T20:04:43.029Z"
   },
   {
    "duration": 505,
    "start_time": "2022-01-14T20:06:43.665Z"
   },
   {
    "duration": 337,
    "start_time": "2022-01-14T20:07:34.206Z"
   },
   {
    "duration": 233,
    "start_time": "2022-01-14T20:10:46.287Z"
   },
   {
    "duration": 310,
    "start_time": "2022-01-14T20:12:24.483Z"
   },
   {
    "duration": 355,
    "start_time": "2022-01-14T20:12:41.858Z"
   },
   {
    "duration": 365,
    "start_time": "2022-01-14T20:13:00.239Z"
   },
   {
    "duration": 388,
    "start_time": "2022-01-14T20:13:15.958Z"
   },
   {
    "duration": 332,
    "start_time": "2022-01-14T20:13:52.689Z"
   },
   {
    "duration": 338,
    "start_time": "2022-01-14T20:22:21.373Z"
   },
   {
    "duration": 337,
    "start_time": "2022-01-14T20:23:12.442Z"
   },
   {
    "duration": 368,
    "start_time": "2022-01-14T20:23:26.118Z"
   },
   {
    "duration": 11,
    "start_time": "2022-01-14T20:50:29.852Z"
   },
   {
    "duration": 582,
    "start_time": "2022-01-14T20:52:03.835Z"
   },
   {
    "duration": 277,
    "start_time": "2022-01-14T20:58:46.012Z"
   },
   {
    "duration": 13,
    "start_time": "2022-01-14T20:59:08.175Z"
   },
   {
    "duration": 15,
    "start_time": "2022-01-14T21:01:05.214Z"
   },
   {
    "duration": 18,
    "start_time": "2022-01-14T21:01:27.460Z"
   },
   {
    "duration": 14,
    "start_time": "2022-01-14T21:03:05.420Z"
   },
   {
    "duration": 15,
    "start_time": "2022-01-14T21:03:56.490Z"
   },
   {
    "duration": 7,
    "start_time": "2022-01-14T21:05:21.774Z"
   },
   {
    "duration": 30,
    "start_time": "2022-01-14T21:25:57.866Z"
   },
   {
    "duration": 29,
    "start_time": "2022-01-14T21:26:48.025Z"
   },
   {
    "duration": 30,
    "start_time": "2022-01-14T21:26:54.455Z"
   },
   {
    "duration": 31,
    "start_time": "2022-01-14T21:26:58.898Z"
   },
   {
    "duration": 27,
    "start_time": "2022-01-14T21:27:21.483Z"
   },
   {
    "duration": 6,
    "start_time": "2022-01-14T21:27:36.323Z"
   },
   {
    "duration": 9,
    "start_time": "2022-01-14T21:28:06.310Z"
   },
   {
    "duration": 6,
    "start_time": "2022-01-14T21:28:21.117Z"
   },
   {
    "duration": 6,
    "start_time": "2022-01-14T21:28:38.072Z"
   },
   {
    "duration": 7,
    "start_time": "2022-01-14T21:29:56.740Z"
   },
   {
    "duration": 18,
    "start_time": "2022-01-14T21:31:52.516Z"
   },
   {
    "duration": 8,
    "start_time": "2022-01-14T21:33:13.552Z"
   },
   {
    "duration": 30,
    "start_time": "2022-01-14T21:33:26.708Z"
   },
   {
    "duration": 794,
    "start_time": "2022-01-14T21:45:58.813Z"
   },
   {
    "duration": 574,
    "start_time": "2022-01-14T21:46:51.155Z"
   },
   {
    "duration": 34,
    "start_time": "2022-01-14T21:47:26.022Z"
   },
   {
    "duration": 7,
    "start_time": "2022-01-14T21:48:08.327Z"
   },
   {
    "duration": 7,
    "start_time": "2022-01-14T21:49:12.539Z"
   },
   {
    "duration": 10,
    "start_time": "2022-01-14T21:49:17.573Z"
   },
   {
    "duration": 14,
    "start_time": "2022-01-14T21:50:36.796Z"
   },
   {
    "duration": 15,
    "start_time": "2022-01-14T21:52:02.418Z"
   },
   {
    "duration": 260,
    "start_time": "2022-01-14T21:53:38.853Z"
   },
   {
    "duration": 14,
    "start_time": "2022-01-14T21:54:01.901Z"
   },
   {
    "duration": 14,
    "start_time": "2022-01-14T21:55:30.530Z"
   }
  ],
  "kernelspec": {
   "display_name": "Python 3 (ipykernel)",
   "language": "python",
   "name": "python3"
  },
  "language_info": {
   "codemirror_mode": {
    "name": "ipython",
    "version": 3
   },
   "file_extension": ".py",
   "mimetype": "text/x-python",
   "name": "python",
   "nbconvert_exporter": "python",
   "pygments_lexer": "ipython3",
   "version": "3.9.7"
  },
  "toc": {
   "base_numbering": 1,
   "nav_menu": {},
   "number_sections": true,
   "sideBar": true,
   "skip_h1_title": true,
   "title_cell": "Table of Contents",
   "title_sidebar": "Contents",
   "toc_cell": false,
   "toc_position": {},
   "toc_section_display": true,
   "toc_window_display": true
  }
 },
 "nbformat": 4,
 "nbformat_minor": 2
}
